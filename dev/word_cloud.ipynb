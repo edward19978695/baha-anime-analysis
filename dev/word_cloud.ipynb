{
 "cells": [
  {
   "cell_type": "code",
   "execution_count": 1,
   "id": "initial_id",
   "metadata": {
    "collapsed": true,
    "ExecuteTime": {
     "end_time": "2024-11-08T10:06:11.746686Z",
     "start_time": "2024-11-08T10:06:11.728599Z"
    }
   },
   "outputs": [
    {
     "data": {
      "text/plain": "'/Users/edwardchiu/Desktop/projects/baha-anime-analysis'"
     },
     "execution_count": 1,
     "metadata": {},
     "output_type": "execute_result"
    }
   ],
   "source": [
    "import os\n",
    "\n",
    "os.chdir('/Users/edwardchiu/Desktop/projects/baha-anime-analysis')\n",
    "os.getcwd()"
   ]
  },
  {
   "cell_type": "code",
   "execution_count": null,
   "outputs": [],
   "source": [
    "import jieba\n",
    "import jieba.analyse\n",
    "from wordcloud import WordCloud\n",
    "import numpy as np\n",
    "from PIL import Image\n",
    "import matplotlib.pyplot as plt\n",
    "import time\n",
    "from bs4 import BeautifulSoup\n",
    "from selenium import webdriver\n",
    "from selenium.webdriver.common.by import By\n",
    "from selenium.webdriver.common.action_chains import ActionChains\n",
    "from selenium.webdriver.chrome.options import Options\n",
    "from collections import Counter"
   ],
   "metadata": {
    "collapsed": false
   },
   "id": "662b1ff67c8180a1"
  },
  {
   "cell_type": "code",
   "execution_count": null,
   "outputs": [],
   "source": [
    "def episode_comments(link):\n",
    "    # Set up headless mode\n",
    "    options = Options()\n",
    "    options.add_argument('--headless')  # Run Chrome in headless mode\n",
    "    options.add_argument('--no-sandbox')\n",
    "    options.add_argument('--disable-dev-shm-usage')\n",
    "\n",
    "    # Set up Selenium with the WebDriver\n",
    "    driver = webdriver.Chrome(options=options)  # or use webdriver.Firefox() if you're using Firefox\n",
    "\n",
    "    # Open the target URL\n",
    "    driver.get(link)\n",
    "    time.sleep(np.random.uniform(0.5, 1))\n",
    "\n",
    "    # Danmu scroll\n",
    "    scroll_item = driver.find_element(By.CLASS_NAME, 'danmu-scroll')\n",
    "\n",
    "    # Scroll until all items are loaded\n",
    "    previous_height = 0\n",
    "    while True:\n",
    "        # Scroll down the element\n",
    "        driver.execute_script(\"arguments[0].scrollTop = arguments[0].scrollHeight\", scroll_item)\n",
    "        time.sleep(np.random.uniform(0.5, 1))  # Wait for items to load\n",
    "\n",
    "        # Get the new scroll height after scrolling\n",
    "        new_height = scroll_item.get_attribute('scrollHeight')\n",
    "\n",
    "        # Break the loop if scrolling has reached the bottom (no new items loaded)\n",
    "        if new_height == previous_height:\n",
    "            break\n",
    "        previous_height = new_height\n",
    "\n",
    "    # Get danmu string list\n",
    "    scroll_item = BeautifulSoup(scroll_item.get_attribute('innerHTML'), 'html.parser')\n",
    "    danmu_list = scroll_item.select('.sub-list-li > div > .sub_content > span')\n",
    "    danmus = [danmu.text.strip() for danmu in danmu_list]\n",
    "\n",
    "    # Find and click \"Load more\" buttons to expand hidden comments, if they exist\n",
    "    while True:\n",
    "        try:\n",
    "            # Locate the \"Load more\" button or similar to load hidden comments\n",
    "            load_more_button = driver.find_element(By.CLASS_NAME, 'c-more-msg')\n",
    "            ActionChains(driver).move_to_element(load_more_button).click(load_more_button).perform()\n",
    "\n",
    "            # Wait for the content to load after clicking\n",
    "            time.sleep(np.random.uniform(0.5, 1))\n",
    "        except:\n",
    "            # Exit loop if there is no more button to click\n",
    "            break\n",
    "\n",
    "    # Comment string list\n",
    "    comment_item = driver.find_element(By.CLASS_NAME, 'webview_commendlist')\n",
    "    comment_item = BeautifulSoup(comment_item.get_attribute('innerHTML'), 'html.parser')\n",
    "\n",
    "    comments = comment_item.select('.reply-content > .reply-content__cont > p')\n",
    "    comments = [c.text.strip() for c in comments]\n",
    "\n",
    "    # Close the WebDriver session\n",
    "    driver.quit()\n",
    "\n",
    "    # Print or process the episode_dict as needed\n",
    "    # print(episode_dict)\n",
    "    return comments, danmus"
   ],
   "metadata": {
    "collapsed": false
   },
   "id": "aa56e3d5af73e78b"
  },
  {
   "cell_type": "code",
   "execution_count": null,
   "outputs": [],
   "source": [
    "url = 'https://ani.gamer.com.tw/animeVideo.php?sn=37868'\n",
    "comments, danmus = episode_comments(url)"
   ],
   "metadata": {
    "collapsed": false
   },
   "id": "bf5285d9bafbc001"
  },
  {
   "cell_type": "code",
   "execution_count": null,
   "outputs": [],
   "source": [
    "# Paths to your files\n",
    "dict_file = './word-cloud/dict.txt'\n",
    "stopwords_file = './word-cloud/stopwords.txt'\n",
    "font_path = './word-cloud/CactusClassicalSerif-Regular.ttf'\n",
    "mask_image_path = './word-cloud/comment.png'\n",
    "\n",
    "# Set Jieba dictionary and stopwords\n",
    "jieba.set_dictionary(dict_file)\n",
    "jieba.analyse.set_stop_words(stopwords_file)"
   ],
   "metadata": {
    "collapsed": false
   },
   "id": "a13c156f5367b36b"
  },
  {
   "cell_type": "code",
   "execution_count": null,
   "outputs": [],
   "source": [
    "text = ' '.join(danmus)\n",
    "tags = jieba.analyse.extract_tags(text, topK=25)\n",
    "tags"
   ],
   "metadata": {
    "collapsed": false
   },
   "id": "6ff467aab17ee2b4"
  },
  {
   "cell_type": "code",
   "execution_count": null,
   "outputs": [],
   "source": [
    "# Create the mask from the image\n",
    "mask = np.array(Image.open(mask_image_path))"
   ],
   "metadata": {
    "collapsed": false
   },
   "id": "950380609cddc44e"
  },
  {
   "cell_type": "code",
   "execution_count": null,
   "outputs": [],
   "source": [
    "seg_list = jieba.lcut(text, cut_all=False)\n",
    "dictionary = Counter(seg_list)\n",
    "\n",
    "freq = {}\n",
    "for ele in dictionary:\n",
    "    if ele in tags:\n",
    "        freq[ele] = dictionary[ele]\n",
    "print(freq)  # 計算出現的次數\n",
    "\n",
    "wordcloud = WordCloud(\n",
    "    background_color=\"white\",\n",
    "    mask=mask,\n",
    "    contour_width=3,\n",
    "    contour_color='steelblue',\n",
    "    font_path=font_path\n",
    ").generate_from_frequencies(freq)\n",
    "\n",
    "plt.figure()\n",
    "plt.imshow(wordcloud, interpolation=\"bilinear\")\n",
    "plt.axis(\"off\")\n",
    "plt.show()"
   ],
   "metadata": {
    "collapsed": false
   },
   "id": "79b5a5f9be4c4b45"
  },
  {
   "cell_type": "code",
   "execution_count": null,
   "outputs": [],
   "source": [
    "import pandas as pd\n",
    "import gspread\n",
    "from google.oauth2.service_account import Credentials\n",
    "from gspread_dataframe import set_with_dataframe\n",
    "import modules.settings as settings"
   ],
   "metadata": {
    "collapsed": false
   },
   "id": "5c82fb63a0dce570"
  },
  {
   "cell_type": "code",
   "execution_count": null,
   "outputs": [],
   "source": [
    "# Authenticate with Google\n",
    "creds = Credentials.from_service_account_file(settings.service_account_file, scopes=settings.scope)\n",
    "client = gspread.authorize(creds)"
   ],
   "metadata": {
    "collapsed": false
   },
   "id": "a62ae180b53d9499"
  },
  {
   "cell_type": "code",
   "execution_count": null,
   "outputs": [],
   "source": [
    "df = pd.DataFrame(list(freq.items()), columns=['tag', 'count'])\n",
    "sheetname = settings.sheetname\n",
    "spreadsheet = client.open(sheetname)"
   ],
   "metadata": {
    "collapsed": false
   },
   "id": "c36dda5f1d9155ff"
  },
  {
   "cell_type": "code",
   "execution_count": null,
   "outputs": [],
   "source": [
    "worksheet = spreadsheet.worksheet('Word Cloud')\n",
    "set_with_dataframe(worksheet, df)"
   ],
   "metadata": {
    "collapsed": false
   },
   "id": "6707d0b512053ab9"
  },
  {
   "cell_type": "code",
   "execution_count": null,
   "outputs": [],
   "source": [
    "def convert_to_utf8(val):\n",
    "    if isinstance(val, str):\n",
    "        return val.encode('utf-8', errors='ignore').decode('utf-8')\n",
    "    return str(val)"
   ],
   "metadata": {
    "collapsed": false
   },
   "id": "eb8384b01d5bf451"
  },
  {
   "cell_type": "code",
   "execution_count": null,
   "outputs": [],
   "source": [
    "df = df.map(convert_to_utf8)"
   ],
   "metadata": {
    "collapsed": false
   },
   "id": "5f018b1f5274f7a8"
  },
  {
   "cell_type": "code",
   "execution_count": null,
   "outputs": [],
   "source": [
    "header = [df.columns.tolist()]\n",
    "values = df.values.tolist()\n",
    "values"
   ],
   "metadata": {
    "collapsed": false
   },
   "id": "85dff8dace099223"
  },
  {
   "cell_type": "code",
   "execution_count": null,
   "outputs": [],
   "source": [
    "header + values"
   ],
   "metadata": {
    "collapsed": false
   },
   "id": "181c479084cab608"
  },
  {
   "cell_type": "code",
   "execution_count": null,
   "outputs": [],
   "source": [
    "worksheet.update(range_name='A:B', values=header + values, raw=False)"
   ],
   "metadata": {
    "collapsed": false
   },
   "id": "46239b1d08f04513"
  },
  {
   "cell_type": "code",
   "execution_count": null,
   "outputs": [],
   "source": [
    "worksheet.batch_clear(['A:B'])"
   ],
   "metadata": {
    "collapsed": false
   },
   "id": "c8c63dbe4ec34c50"
  },
  {
   "cell_type": "code",
   "execution_count": null,
   "outputs": [],
   "source": [
    "# Save the word cloud as a PNG file\n",
    "output_image_path = './word-cloud/danmu_wordcloud.png'  # File path to save the image\n",
    "wordcloud.to_file(output_image_path)\n",
    "print(f\"Word cloud image saved to {output_image_path}\")"
   ],
   "metadata": {
    "collapsed": false
   },
   "id": "5d38f4d36591b4ef"
  },
  {
   "cell_type": "code",
   "execution_count": null,
   "outputs": [],
   "source": [
    "from fastapi.responses import FileResponse"
   ],
   "metadata": {
    "collapsed": false
   },
   "id": "e7a77246c0ee47b"
  },
  {
   "cell_type": "code",
   "execution_count": null,
   "outputs": [],
   "source": [
    "FileResponse(output_image_path, media_type='image/png', filename='wordcloud.png')"
   ],
   "metadata": {
    "collapsed": false
   },
   "id": "e996ac73a4206caf"
  },
  {
   "cell_type": "code",
   "execution_count": null,
   "outputs": [],
   "source": [
    "import requests"
   ],
   "metadata": {
    "collapsed": false
   },
   "id": "a4b39be7981a8a7b"
  },
  {
   "cell_type": "code",
   "execution_count": null,
   "outputs": [],
   "source": [
    "url = 'http://127.0.0.1:8000'\n",
    "payload = {\n",
    "    'anime_name': '咒術迴戰',\n",
    "    'episode_name': '[14]'\n",
    "}\n",
    "req = requests.post(url + '/word_freq', json=payload)\n",
    "# req = requests.get(url)"
   ],
   "metadata": {
    "collapsed": false
   },
   "id": "aee6785d8cb86f06"
  },
  {
   "cell_type": "code",
   "execution_count": null,
   "outputs": [],
   "source": [
    "req.json()"
   ],
   "metadata": {
    "collapsed": false
   },
   "id": "2fa27e918b4a4467"
  },
  {
   "cell_type": "code",
   "execution_count": null,
   "outputs": [],
   "source": [
    "df = pd.read_csv('data/all_episode.csv')"
   ],
   "metadata": {
    "collapsed": false
   },
   "id": "ba9838197fedd087"
  },
  {
   "cell_type": "code",
   "execution_count": null,
   "outputs": [],
   "source": [
    "df.loc[(df['anime_name'] == '咒術迴戰') & (df['episode_name'] == '[14]'), 'episode_link'].iloc[0]"
   ],
   "metadata": {
    "collapsed": false
   },
   "id": "9432fb2a18cdf722"
  },
  {
   "cell_type": "code",
   "execution_count": null,
   "outputs": [],
   "source": [
    "req.json()"
   ],
   "metadata": {
    "collapsed": false
   },
   "id": "2aefa1b032565f2c"
  },
  {
   "cell_type": "code",
   "execution_count": null,
   "outputs": [],
   "source": [
    "url + '/' + 'comment_cloud.jpg'"
   ],
   "metadata": {
    "collapsed": false
   },
   "id": "9e2f3de2b1ff4674"
  },
  {
   "cell_type": "code",
   "execution_count": null,
   "outputs": [],
   "source": [
    "file_path = req.json()['comment']['path'][2:]\n",
    "req2 = requests.get(url + f'/files/{file_path}')"
   ],
   "metadata": {
    "collapsed": false
   },
   "id": "998bc90acdb80507"
  },
  {
   "cell_type": "code",
   "execution_count": null,
   "outputs": [],
   "source": [
    "file_path"
   ],
   "metadata": {
    "collapsed": false
   },
   "id": "3d8ed2d9f593d007"
  },
  {
   "cell_type": "code",
   "execution_count": null,
   "outputs": [],
   "source": [],
   "metadata": {
    "collapsed": false
   },
   "id": "a89a66716cc5d1d2"
  },
  {
   "cell_type": "code",
   "execution_count": 2,
   "outputs": [],
   "source": [
    "from modules.review_analysis import ReviewAnalysis"
   ],
   "metadata": {
    "collapsed": false,
    "ExecuteTime": {
     "end_time": "2024-11-08T10:06:21.136134Z",
     "start_time": "2024-11-08T10:06:16.173619Z"
    }
   },
   "id": "6fc15e63fd8d7fb5"
  },
  {
   "cell_type": "code",
   "execution_count": 3,
   "outputs": [],
   "source": [
    "ra = ReviewAnalysis()"
   ],
   "metadata": {
    "collapsed": false,
    "ExecuteTime": {
     "end_time": "2024-11-08T10:06:23.498370Z",
     "start_time": "2024-11-08T10:06:21.139178Z"
    }
   },
   "id": "1bfc06fd51018c00"
  },
  {
   "cell_type": "code",
   "execution_count": 12,
   "outputs": [
    {
     "name": "stdout",
     "output_type": "stream",
     "text": [
      "Web crawl for https://ani.gamer.com.tw/animeVideo.php?sn=33047...\n"
     ]
    },
    {
     "name": "stderr",
     "output_type": "stream",
     "text": [
      "huggingface/tokenizers: The current process just got forked, after parallelism has already been used. Disabling parallelism to avoid deadlocks...\n",
      "To disable this warning, you can either:\n",
      "\t- Avoid using `tokenizers` before the fork if possible\n",
      "\t- Explicitly set the environment variable TOKENIZERS_PARALLELISM=(true | false)\n",
      "huggingface/tokenizers: The current process just got forked, after parallelism has already been used. Disabling parallelism to avoid deadlocks...\n",
      "To disable this warning, you can either:\n",
      "\t- Avoid using `tokenizers` before the fork if possible\n",
      "\t- Explicitly set the environment variable TOKENIZERS_PARALLELISM=(true | false)\n"
     ]
    }
   ],
   "source": [
    "ra.dynamic_web_page(link='https://ani.gamer.com.tw/animeVideo.php?sn=33047')"
   ],
   "metadata": {
    "collapsed": false,
    "ExecuteTime": {
     "end_time": "2024-11-08T10:22:42.436256Z",
     "start_time": "2024-11-08T10:22:37.875342Z"
    }
   },
   "id": "61927f916e05d111"
  },
  {
   "cell_type": "code",
   "execution_count": 13,
   "outputs": [],
   "source": [
    "comments = ra.comment_crawler()"
   ],
   "metadata": {
    "collapsed": false,
    "ExecuteTime": {
     "end_time": "2024-11-08T10:22:59.155006Z",
     "start_time": "2024-11-08T10:22:43.953636Z"
    }
   },
   "id": "8e018be5b352c493"
  },
  {
   "cell_type": "code",
   "execution_count": 14,
   "outputs": [
    {
     "data": {
      "text/plain": "['凌晨就跟著日本首播虐過自己十次了 再來一百次好了我的里韓⋯⋯⋯⋯⋯⋯封面選的真好(;´༎ຶД༎ຶ`)💚💜難過到死掉 受不了（ ; ; ）巴哈辛苦了 好早就上！',\n '漢吉，我最愛的團長，心臟撒薩給油',\n '「誰會想在凌晨四點看進擊的巨人？」我：「好耶～四點囉～～」',\n '熬夜看巨人的我',\n '這集沒有讓我花錢去電影院看我真的是良心不安了',\n '絕對的神作讓人等了這麼久，但看到作品後覺得一切值得每個人都有他的正義每個人的想法都可以去理解不論最後結局是什麼，我相信巨人是我一輩子會和他人推薦的作品',\n '我針真的好想哭.....艾倫不過也才幾歲.....為什麼一個人承受這種痛苦.....😭😭😭😭',\n '如果Part 1的品質是80分，Part 2的品質是90分，這集的品質我敢保證絕對有95分以上！太神啦！',\n '畫到睡著起來繼續畫',\n '雖然神作這句話很氾濫 也許這句話會讓人反感也許巨人不是神作但是在我心目中 他就是神作這集太棒了 感謝MAPPA超愛巨人',\n '聲優很應景的留言',\n '其實除了賈碧和法爾科，弗洛克也是第二部的重點角色吧，塑造的挺成功的，從一個對朋友的死感到不甘的菜兵，到為了國家能奉獻出一切的狂人，成長很多阿',\n '不上劇院真的太可惜 只能說體貼觀眾怕我們在戲院哭成狗心揪成一團離不了場 等待是值得的謝謝MAPPA也謝謝木棉花代理 更感謝所有辛苦的製作人員 有生能見到巨人的完結真的三生有幸一切都值了 希望秋季的後篇各位要撐住我不行了漢吉……😭😭😭😭',\n '這次原畫師滿多台灣人的!!',\n '用這一小時把第33卷播完，有些部分節奏有點趕，但精彩的作畫真的五體投地的神。要說巨人有什麼缺點，那也只有太神太好看…艾連，我愛你🧣創哥，我愛你先這樣…我要先去擦乾眼淚準備再虐我自己了',\n '這部真的根本是電影品質了',\n '巨人 我愛你MAPPA 我愛你巴哈 我愛你木棉花 我愛你心臓を捧げよ！',\n '故事性好完整，大家一路走來看各個角色變成熟，以及主角立場轉變1.車力巨人穿上了調查兵團的自由之翼2.大家整備+吃飯，這種生活感好棒...還有曾經被視為叛徒的萊納和亞妮也同陣線了3.韓吉的最後身影，有夠帥，獨自面對她最感興趣的巨人4.萊納超帥，衝鋒擒抱--第一集有1小時有夠爽各個角色心境轉變、立場的轉變真是令人值得思考的地方看到萊納和亞妮回同陣線，那種老戰友的感覺好棒，大家都成長了有陣子個人看漫畫的時候搞不太清楚這種轉變的關係，誰對誰錯非常疑惑但現在看故事線不限於主角等於絕對正義視角，調查兵團才是主角(或是說兵長的立場--是說阿爾敏不是趁亞妮結冰的時候一直騷擾告白嗎XDDDD 亞妮閃不掉',\n '皮克盛世美顏阿...',\n 'Q.Q',\n '謝謝MAPPA',\n '阿阿阿阿又斷在這種地方 吉bye阿rrrr',\n '韓吉犧牲好想哭啊，兩個字 神作',\n '真的有夠神 要是能在電影院看到IMAX 我怕我會直接爽到升天',\n '這真的是免費可以看的嗎....林祐一郎監督真的很猛，非常認同紅字的這一段',\n '一大早起來看巨人給我看燃起來了只能說等待完全是值得的完全可以看出mappa足夠的誠意我相信再發酵一會的風評絕對不會像第四季那樣飽受詬病。至於那些還在嫌標題冗長、拖台前的就隨他去吧☁️ 你是自由的前篇一個小時的時長無論是沉浸感、末日降臨的那股無力感等等情緒渲染的演出上都做到極致。尤其是艾連的那幕『名場面』見證到那裡實在是心情複雜澤野的音樂還是那味，很搭，久違的立體機動裝置的打戲也真是讓我一飽眼福，沒有哪個畫面是感覺3d出戲的，而且超廣角地鳴帶來的震撼也令人拍案叫絕。開篇的伏筆回收讓我覺得mappa真的在用心做相信且希望這部作品值得用更好的形式留存於世',\n '帥之巨人',\n '地鳴的絕望感做得好神喔，音樂作畫音效都是電影版等級的，支持上電影院，這用劇院看一定超爽，錢拿去快點上戲院!!!QQ',\n '幹這品質沒上電影院真的太可惜這根本不是可以免費看得真正的火力全開 真正的代表作真的太頂了 頂到我外翻張開嘴巴看完等待都是值得的凌晨四點沒睡真是太好了後篇出完拜託來個合集上電影院吧我愛創哥我愛林監督我愛MAPPA我愛木棉花我愛巴哈',\n '皮克小姐的盛世美顏！',\n '看完差點忘記呼吸~~ 漢吉那段燃到我落淚 神',\n '惡魔之子是艾連想對米卡莎說的話，under the tree反過來換成米卡莎對艾連說了這樣更期待後篇的主題曲了',\n '欸不是.所以是開發...',\n '為了巨人我願意早起，獻出我的心臟早起 真的無疑神作',\n '建議過濾 112/ 112. 1120 23/ 23. 230 3/ 留 簽 大學 高中 國中 等字眼 可以發動地鳴過濾大量榮譽瑪雷人',\n '漢吉，我愛你，謝謝你💜謝謝MAPPA願意接手進巨的第四季和完結篇章，整整一小時的內容、畫面、配樂都用心到無可挑剔⋯情緒渲染的絕望和無力感成功到令人窒息，緊張、平靜、潰堤，身為熱愛這部作品的我真的從未失望過，儘管等待長時間但最終能看到這樣的呈現真的非常震撼和感動⋯無法形容內心有多感謝，無論原著、動畫、各方面的製作，進巨在我心中都是無可取代的位置謝謝創哥謝謝MAPPA謝謝木棉花謝謝巴哈謝謝為這部作品努力的所有工作人員，辛苦了能夠活在有《進擊的巨人》這部作品的時代，真的真的太幸運了',\n '在感謝MAPPA的同時，也要感謝Wit製作的三季，維持住進巨這IP的口碑，讓MAPPA願意接下最終季的製作，而不是落到二三流動畫公司手上毀了這部神作',\n '幹這真的是我可以免費看的嗎 不如說更希望付錢到電影院看 這個品質太狠了',\n '「選擇守護世界的自由是你們的自由我要繼續前進是我的自由」每個人的自由或多或少都會有衝突，所以才要戰鬥巨人真神作！感謝MAPPA！感謝監督！',\n '伏筆從第一季第一集就埋好了',\n '拜託MAPPA上電影院吧，什麼電影週邊都出爆讓我們花錢好好支持你們吧',\n '這集一堆台灣原畫師，這些原畫師全回來台灣，台灣動畫就能起飛了吧?',\n '能不能連署結局出電影版啊(;_;)',\n '神作',\n '感謝創哥感謝Mappa感謝霸權社感謝吧哈大哥',\n '太爽了～～～～看看隔壁幽浮桌，這部不上電影太對不起了',\n '看到這裡就想到後來艾連的獨白.......真的很難過對這世界失望，對自己的壽命所剩無幾沒辦法陪伴所愛的人走下去我記得那場獨白被一堆人抨擊自私，但都不知道他只有跟一個人說而已當事人都不知道.....他明明看的到未來，知道為什麼會這麼做還是做了一定有他的理由，從他救那個小朋友就知道他的本性了讓他失望的是這個世界不是他的良心...看到那段獨白和宣洩應該會更想哭...真期待最後一段的演出再說一點，人不為己天誅地滅....誰能不自私呢?聖人也會自私更何況凡人話說這作品太年輕的人根本感覺不到裡面的醍醐味吧',\n '誰沒給五星讓我知道我跟你全家過不去',\n '當我還是個小學生，第一次知道世界上仍有戰爭和瘟疫時，可能就像艾連第一次知道牆外有人類一樣感到失望，即使是自詡文明進步、科技發達的如今，我們還是無法得到，真正的和平與自由。',\n '改編自漫畫家諫山創同名漫畫的電視動畫《進擊的巨人 The Final Season》完結篇於 1月17日宣布將分為前後篇播出。 前篇預計在 3 月 4 日凌晨 12 點 25 分（日本時間）於 NHK 電視台播出，後篇會在年中播放，具體時間未定。',\n '笑死一大早就看哭🐸太好看了吧🥵',\n '看動畫這麼多年，自己認同是神座的作品很少，能放心對任何人都以神座來推薦可以說是沒有。一般情況下所謂的神座都會有各種限制，可能是對某些前提、對動畫這種載體敘事手法接受程度的門檻，抑或是根據每個人經歷不同，而會有所謂無法被觸動到人的等等的狀況。但是，能被任何看到的人都稱為是神座的作品，進擊的巨人，我的心中只有你，只要看了我不相信有人可以完全沒有波瀾。進擊的巨人會以神座的名號被歷史記得，而我們則是歷史的見證者，現在就是這份歷史終章的開端。The Grand Finale！',\n '今年巨人沒有霸權 在座的各位都有責任',\n '上電影院我刷10次',\n '這真的是免費可以看得嗎 .. MAPPA 不止佛快成神了 !!',\n '凌晨四點起來看片是我的自由RRR',\n '太神啦～而且小林未郁又回來唱插曲！!',\n '這表現真的對的起等一年 但漢吉沒了好難過😭',\n '到完結篇終於帥一波的人，沙沙給油',\n '',\n '有沒有人跟我一樣到漢吉那一段哭爆到😭',\n '現在才發現的事地鳴巨人臉都不一樣艾主席有下半身  以前都以為是用肋骨走路',\n '後篇拜託上院線啦！這麼精彩的動作戲不去電影院看真的太可惜，而且Mappa真的應該趁最後一集好好賺一波，他們值得。',\n '漢吉那段太感人了😭',\n '就算把巨人動畫一集一集搬到電影院通通IMAX || 4DX我也會付錢去看',\n '這真的是免費能看的嗎…',\n '心臓を捧げよ！ 究極神作 我愛創哥我愛林監督我愛MAPPA我愛木棉花我愛巴哈',\n '射了 謝謝MAPPA 這動畫品質沒在電影院看可惜阿',\n '林監督我永遠的超人 MAPPA我永遠的大哥謝謝你們這些幕後英雄',\n '我操這是可以免費看的嗎瘋寶',\n '評價怎麼可以只有五顆星可以按而已Q_Q',\n '剩下的後篇內容就是剩下史詩大戰跟無限悲傷的結局了...',\n '這集的立體機動裝置有料回到霸拳社的感覺',\n '最新預告已經出了！！最後一次塔塔開了https://www.youtube.com/watch?v=E7WytLM2KvY&start=17s',\n '神作之巔，但也暗諷人類千百年的戰火原因，如果各國都能釋懷，又何嘗導致憎恨化為惡魔償還人類的債務，惡魔曾想釋懷，並鎖國不在干涉人間，但人類總喜歡自其滅亡。',\n '沒看過漫畫無預警被虐.....這幾年被幾個神作虐到M屬性快破表了...(86不存在的戰區、賽德龐克-邊緣跑手、進擊的巨人..)',\n '謝謝Mappa、謝謝木棉花謝謝妳，漢吉·佐耶',\n '看到漢吉那段直接爆淚',\n '真的太好看了，值得進電影院看的程度⋯如果在電影院看到地鳴我應該會震撼死吧⋯真的哭死我了好好看',\n '台灣原畫老師們的肝致敬',\n '神作中的神作',\n '感謝Mappa 感謝巴哈姆特感謝創哥 感謝進擊的巨人有生之年能有巨人陪伴，真的是太幸福了😭😭😭',\n '看到韓吉跟弗洛克死的時候差點就哭了出來，因為他們都以各自的方式深愛著自己的國家，韓吉說：「但我無法放棄，就算今天失敗了，也想著總有一天能做到。」調查兵團就是如此吧…還有我的眼淚要留給「你們都看見了吧…」',\n '動漫史上最神作品，我他媽跪著看。',\n 'MAPPA神啊(;´༎ຶД༎ຶ`)雞皮疙瘩全起來漢吉啊～～～我不會忘記你的😭😭😭',\n '他插曲有哪位大大知道是誰唱的嗎？ 我看漢吉那段 聽到插曲我就哭了',\n '太神啦,不給5星你良心過的去嗎？',\n '我已經不知道自己爲了等這個時刻等了多久啊',\n '謝謝巴哈謝謝木棉花謝謝MAPPA前後篇放在電影院我也願意去刷請收下我的膝蓋',\n '這是我見過最完美的作品',\n '對不起我竟然免費看了這部...優秀的分鏡、作畫、音樂的真的讓原本的漫畫上升了不止一個檔次',\n 'Yes Mappa My hero',\n '希望上電影院 大螢幕看更震撼(｡･ω･｡)',\n '神劇，真的',\n '去電影院看鬼滅刀匠村什麼的 不如在電影院看這個 = =',\n '漢吉那part太虐了，5刷了都還防不住😢',\n '期待媽帕秋季的火力展現 太頂了',\n '謝謝MAPPA, 謝謝木棉花, 謝謝巴哈, 幸運如我能活在這世代上, 欣賞如此神作.',\n '這次的立體機動裝置很接近前三季的感覺了耶。感覺進步很多！',\n '巴哈我大哥🥹🥹',\n '好猛...這比鏈鋸人更值得付費看....居然能免費看....',\n '漢吉QQQQ一直特別喜歡他！可愛幽默又怪怪的，看到他就很開心～上一季看漢吉照顧兵長時、比之前都感覺到曖昧、看完這集+巴哈帖子終於意識到里漢的萌了⋯但是卻⋯想看轉生了嗚嗚QQ',\n '漢吉的心臟',\n '看片尾跑人員名單的方式，我有一種本來是真的打算丟劇場版的感覺...',\n '已三刷 前編最喜歡的一part是跳機那邊真的超燃🤧我哭爆萊納帥炸了立體機動裝置也會到霸權社的感覺了超級感動',\n 'Mappa 牛逼啊',\n '不出電影愧對父母啊',\n '這是可以免費看的嗎',\n '很久沒有看著動畫哭出來了而且竟是頭十分鐘，那壓抑的末日感就讓我的淚水不斷滾出來…明明事先看完漫畫了仍讓我這麼感動。',\n '問，韓吉戰鬥時的BGM是什麼',\n '真的看到漢吉死哭爛，我能看到這麼好看的作品，真的是很幸運😭',\n '',\n '想看結局，但又不想結局',\n '天啊瞧瞧我發現了什麼',\n '為了這新出的一季我特地從第一季開始再重看一遍，跟當年看時完全不同體驗感觸，艾倫的心境轉變真的讓我不斷落淚，字打著打著…我又落淚了…',\n '',\n '這集不留個言說不過去吧？！真的神',\n '謝謝林祐一郎監督以及製作團隊，真的是燃燒生命的成果😭😭😭',\n '你們這些愛看鬼滅死國中生廢宅不要整天在那邊刷鬼滅的東西去你媽的煩不煩啊',\n '韓吉掰掰...',\n '能免費看到這種神劇我死而無憾',\n '想請問ost出了嗎？或者是哪天會出呢？謝謝！',\n '神作簽',\n '謝謝MAPPA讓我能看到神作的完結',\n '感動到不知道該說什麼了……真的非常非常謝謝MAPPA、謝謝林監督、謝謝各方團隊在下篇播出前，前篇放戲院播我也願意N刷的，請讓我們表達支持吧QQ',\n '太神了吧   能免費看這部根本幸福我大巨人我大MAPPA那個壓迫感跟絕望真的很猛永不放棄代表 弗洛克  塔塔開😆😆😆',\n '謝謝MAPPA謝謝創哥謝謝林 祐一郎監督謝謝木棉花謝謝巴哈我真的高潮了 這部真的是MAPPA火力全開 這真的是電影院等級 這真的是可以免費看得到的嗎 幹幹幹幹好讚好讚 音樂畫面真的神 太神啦',\n 'Mappa 我的超人',\n '兩個字 超神 這是可以免費看的嗎',\n 'Mappa我大哥 這竟然沒上電影院',\n '塔塔開',\n '給巴哈點開廣告就是在幫巴哈賺錢，這樣巴哈才有資本再上新片。',\n 'the GOAT！！！',\n '準備等到晚上靜下心來看，謝謝這個世界出現進擊的巨人',\n '早上叫醒我的不是夢想是巨人我哭爆嗚嗚嗚（擤鼻涕']"
     },
     "execution_count": 14,
     "metadata": {},
     "output_type": "execute_result"
    }
   ],
   "source": [
    "comments"
   ],
   "metadata": {
    "collapsed": false,
    "ExecuteTime": {
     "end_time": "2024-11-08T10:22:59.155781Z",
     "start_time": "2024-11-08T10:22:59.149705Z"
    }
   },
   "id": "b2eec4d61bec5643"
  },
  {
   "cell_type": "code",
   "execution_count": 7,
   "outputs": [
    {
     "data": {
      "text/plain": "model.safetensors:   0%|          | 0.00/1.63G [00:00<?, ?B/s]",
      "application/vnd.jupyter.widget-view+json": {
       "version_major": 2,
       "version_minor": 0,
       "model_id": "ea37a55ed1ac4a5283b074446a50a814"
      }
     },
     "metadata": {},
     "output_type": "display_data"
    },
    {
     "data": {
      "text/plain": "tokenizer_config.json:   0%|          | 0.00/480 [00:00<?, ?B/s]",
      "application/vnd.jupyter.widget-view+json": {
       "version_major": 2,
       "version_minor": 0,
       "model_id": "3f73f103bec04e8f8405c62f43736054"
      }
     },
     "metadata": {},
     "output_type": "display_data"
    },
    {
     "data": {
      "text/plain": "vocab.txt:   0%|          | 0.00/259k [00:00<?, ?B/s]",
      "application/vnd.jupyter.widget-view+json": {
       "version_major": 2,
       "version_minor": 0,
       "model_id": "04564c9b16e74fbf88f69e9698515b8c"
      }
     },
     "metadata": {},
     "output_type": "display_data"
    },
    {
     "data": {
      "text/plain": "special_tokens_map.json:   0%|          | 0.00/156 [00:00<?, ?B/s]",
      "application/vnd.jupyter.widget-view+json": {
       "version_major": 2,
       "version_minor": 0,
       "model_id": "6a1a0e6b991b4a54bc2e4a3a78ff04a0"
      }
     },
     "metadata": {},
     "output_type": "display_data"
    }
   ],
   "source": [
    "from transformers import pipeline\n",
    "import torch\n",
    "\n",
    "# Load the summarization pipeline for Chinese\n",
    "summarizer = pipeline(\"summarization\", model=\"fnlp/bart-large-chinese\")"
   ],
   "metadata": {
    "collapsed": false,
    "ExecuteTime": {
     "end_time": "2024-11-08T10:20:17.241528Z",
     "start_time": "2024-11-08T10:06:34.221104Z"
    }
   },
   "id": "75c43a4f5aa5f100"
  },
  {
   "cell_type": "code",
   "execution_count": 21,
   "outputs": [],
   "source": [
    "# Join comments to create a single input for summarization\n",
    "input_text = \" \".join(comments)"
   ],
   "metadata": {
    "collapsed": false,
    "ExecuteTime": {
     "end_time": "2024-11-08T10:40:47.710386Z",
     "start_time": "2024-11-08T10:40:47.698450Z"
    }
   },
   "id": "c821afe92d9860d3"
  },
  {
   "cell_type": "code",
   "execution_count": 24,
   "outputs": [],
   "source": [
    "summary = summarizer(input_text, max_length=60, min_length=25, do_sample=False)"
   ],
   "metadata": {
    "collapsed": false,
    "ExecuteTime": {
     "end_time": "2024-11-08T10:41:53.834847Z",
     "start_time": "2024-11-08T10:41:44.918595Z"
    }
   },
   "id": "fee2019d4298a295"
  },
  {
   "cell_type": "code",
   "execution_count": 25,
   "outputs": [
    {
     "data": {
      "text/plain": "'這 集 是 一 二 三 季 動 畫 中 我 最 喜 歡 的 一 集 ， 對 我 來 說 這 部 作 品 處 理 友 情 的 手 法 比 愛 情 更 好 ， 也 可 能 只 是 我 自 己 比 起 愛 情 還 是 更 喜 歡 友'"
     },
     "execution_count": 25,
     "metadata": {},
     "output_type": "execute_result"
    }
   ],
   "source": [
    "summary[0]['summary_text']"
   ],
   "metadata": {
    "collapsed": false,
    "ExecuteTime": {
     "end_time": "2024-11-08T10:41:55.288408Z",
     "start_time": "2024-11-08T10:41:55.276546Z"
    }
   },
   "id": "d8eb08d4f6814af"
  }
 ],
 "metadata": {
  "kernelspec": {
   "display_name": "Python 3",
   "language": "python",
   "name": "python3"
  },
  "language_info": {
   "codemirror_mode": {
    "name": "ipython",
    "version": 2
   },
   "file_extension": ".py",
   "mimetype": "text/x-python",
   "name": "python",
   "nbconvert_exporter": "python",
   "pygments_lexer": "ipython2",
   "version": "2.7.6"
  }
 },
 "nbformat": 4,
 "nbformat_minor": 5
}
