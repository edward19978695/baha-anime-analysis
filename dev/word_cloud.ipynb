{
 "cells": [
  {
   "cell_type": "code",
   "execution_count": 1,
   "id": "initial_id",
   "metadata": {
    "collapsed": true,
    "ExecuteTime": {
     "end_time": "2024-11-05T02:43:04.075404Z",
     "start_time": "2024-11-05T02:43:04.070214Z"
    }
   },
   "outputs": [
    {
     "data": {
      "text/plain": "'/Users/edwardchiu/Desktop/projects/baha-anime-analysis'"
     },
     "execution_count": 1,
     "metadata": {},
     "output_type": "execute_result"
    }
   ],
   "source": [
    "import os\n",
    "\n",
    "os.chdir('/Users/edwardchiu/Desktop/projects/baha-anime-analysis')\n",
    "os.getcwd()"
   ]
  },
  {
   "cell_type": "code",
   "execution_count": 2,
   "outputs": [],
   "source": [
    "import jieba\n",
    "import jieba.analyse\n",
    "from wordcloud import WordCloud\n",
    "import numpy as np\n",
    "from PIL import Image\n",
    "import matplotlib.pyplot as plt\n",
    "import time\n",
    "from bs4 import BeautifulSoup\n",
    "from selenium import webdriver\n",
    "from selenium.webdriver.common.by import By\n",
    "from selenium.webdriver.common.action_chains import ActionChains\n",
    "from selenium.webdriver.chrome.options import Options\n",
    "from collections import Counter"
   ],
   "metadata": {
    "collapsed": false,
    "ExecuteTime": {
     "end_time": "2024-11-05T02:43:05.492818Z",
     "start_time": "2024-11-05T02:43:04.405999Z"
    }
   },
   "id": "662b1ff67c8180a1"
  },
  {
   "cell_type": "code",
   "execution_count": 3,
   "outputs": [],
   "source": [
    "def episode_comments(link):\n",
    "    # Set up headless mode\n",
    "    options = Options()\n",
    "    options.add_argument('--headless')  # Run Chrome in headless mode\n",
    "    options.add_argument('--no-sandbox')\n",
    "    options.add_argument('--disable-dev-shm-usage')\n",
    "\n",
    "    # Set up Selenium with the WebDriver\n",
    "    driver = webdriver.Chrome(options=options)  # or use webdriver.Firefox() if you're using Firefox\n",
    "\n",
    "    # Open the target URL\n",
    "    driver.get(link)\n",
    "    time.sleep(np.random.uniform(0.5, 1))\n",
    "\n",
    "    # Danmu scroll\n",
    "    scroll_item = driver.find_element(By.CLASS_NAME, 'danmu-scroll')\n",
    "\n",
    "    # Scroll until all items are loaded\n",
    "    previous_height = 0\n",
    "    while True:\n",
    "        # Scroll down the element\n",
    "        driver.execute_script(\"arguments[0].scrollTop = arguments[0].scrollHeight\", scroll_item)\n",
    "        time.sleep(np.random.uniform(0.5, 1))  # Wait for items to load\n",
    "\n",
    "        # Get the new scroll height after scrolling\n",
    "        new_height = scroll_item.get_attribute('scrollHeight')\n",
    "\n",
    "        # Break the loop if scrolling has reached the bottom (no new items loaded)\n",
    "        if new_height == previous_height:\n",
    "            break\n",
    "        previous_height = new_height\n",
    "\n",
    "    # Get danmu string list\n",
    "    scroll_item = BeautifulSoup(scroll_item.get_attribute('innerHTML'), 'html.parser')\n",
    "    danmu_list = scroll_item.select('.sub-list-li > div > .sub_content > span')\n",
    "    danmus = [danmu.text.strip() for danmu in danmu_list]\n",
    "\n",
    "    # Find and click \"Load more\" buttons to expand hidden comments, if they exist\n",
    "    while True:\n",
    "        try:\n",
    "            # Locate the \"Load more\" button or similar to load hidden comments\n",
    "            load_more_button = driver.find_element(By.CLASS_NAME, 'c-more-msg')\n",
    "            ActionChains(driver).move_to_element(load_more_button).click(load_more_button).perform()\n",
    "\n",
    "            # Wait for the content to load after clicking\n",
    "            time.sleep(np.random.uniform(0.5, 1))\n",
    "        except:\n",
    "            # Exit loop if there is no more button to click\n",
    "            break\n",
    "\n",
    "    # Comment string list\n",
    "    comment_item = driver.find_element(By.CLASS_NAME, 'webview_commendlist')\n",
    "    comment_item = BeautifulSoup(comment_item.get_attribute('innerHTML'), 'html.parser')\n",
    "\n",
    "    comments = comment_item.select('.reply-content > .reply-content__cont > p')\n",
    "    comments = [c.text.strip() for c in comments]\n",
    "\n",
    "    # Close the WebDriver session\n",
    "    driver.quit()\n",
    "\n",
    "    # Print or process the episode_dict as needed\n",
    "    # print(episode_dict)\n",
    "    return comments, danmus"
   ],
   "metadata": {
    "collapsed": false,
    "ExecuteTime": {
     "end_time": "2024-11-05T02:43:05.498509Z",
     "start_time": "2024-11-05T02:43:05.495434Z"
    }
   },
   "id": "aa56e3d5af73e78b"
  },
  {
   "cell_type": "code",
   "execution_count": 21,
   "outputs": [],
   "source": [
    "url = 'https://ani.gamer.com.tw/animeVideo.php?sn=37868'\n",
    "comments, danmus = episode_comments(url)"
   ],
   "metadata": {
    "collapsed": false,
    "ExecuteTime": {
     "end_time": "2024-11-05T02:48:58.879788Z",
     "start_time": "2024-11-05T02:47:45.987029Z"
    }
   },
   "id": "bf5285d9bafbc001"
  },
  {
   "cell_type": "code",
   "execution_count": 22,
   "outputs": [],
   "source": [
    "# Paths to your files\n",
    "dict_file = './word-cloud/dict.txt'\n",
    "stopwords_file = './word-cloud/stopwords.txt'\n",
    "font_path = './word-cloud/CactusClassicalSerif-Regular.ttf'\n",
    "mask_image_path = './word-cloud/comment.png'\n",
    "\n",
    "# Set Jieba dictionary and stopwords\n",
    "jieba.set_dictionary(dict_file)\n",
    "jieba.analyse.set_stop_words(stopwords_file)"
   ],
   "metadata": {
    "collapsed": false,
    "ExecuteTime": {
     "end_time": "2024-11-05T02:48:58.894280Z",
     "start_time": "2024-11-05T02:48:58.877701Z"
    }
   },
   "id": "a13c156f5367b36b"
  },
  {
   "cell_type": "code",
   "execution_count": 96,
   "outputs": [
    {
     "data": {
      "text/plain": "['...',\n '賽車',\n '無聊',\n 'AI',\n '感覺',\n '速度感',\n '主播',\n 'F1',\n '比較',\n '....',\n '車手',\n '朝聖',\n '1.25',\n '這種',\n '講話',\n '播報員',\n '斯拉',\n '這部',\n 'BGM',\n '不會',\n '一樣',\n '倍速',\n '這麼',\n '1.5',\n '畫面']"
     },
     "execution_count": 96,
     "metadata": {},
     "output_type": "execute_result"
    }
   ],
   "source": [
    "text = ' '.join(danmus)\n",
    "tags = jieba.analyse.extract_tags(text, topK=25)\n",
    "tags"
   ],
   "metadata": {
    "collapsed": false,
    "ExecuteTime": {
     "end_time": "2024-11-05T07:24:42.132571Z",
     "start_time": "2024-11-05T07:24:42.129530Z"
    }
   },
   "id": "6ff467aab17ee2b4"
  },
  {
   "cell_type": "code",
   "execution_count": 27,
   "outputs": [],
   "source": [
    "# Create the mask from the image\n",
    "mask = np.array(Image.open(mask_image_path))"
   ],
   "metadata": {
    "collapsed": false,
    "ExecuteTime": {
     "end_time": "2024-11-05T02:49:37.313180Z",
     "start_time": "2024-11-05T02:49:37.206614Z"
    }
   },
   "id": "950380609cddc44e"
  },
  {
   "cell_type": "code",
   "execution_count": 28,
   "outputs": [
    {
     "name": "stdout",
     "output_type": "stream",
     "text": [
      "{'1.25': 11, '這部': 10, '賽車': 34, '這麼': 9, '朝聖': 12, '...': 39, '1.5': 9, '斯拉': 11, 'BGM': 10, '不會': 10, '這種': 11, '一樣': 10, 'F1': 14, '....': 13, '畫面': 9, '講話': 11, 'AI': 18, '感覺': 16, '車手': 13, '速度感': 16, '比較': 14, '播報員': 11, '主播': 15, '無聊': 19, '倍速': 9}\n"
     ]
    },
    {
     "data": {
      "text/plain": "<Figure size 640x480 with 1 Axes>",
      "image/png": "[encoded data removed]"
     },
     "metadata": {},
     "output_type": "display_data"
    }
   ],
   "source": [
    "seg_list = jieba.lcut(text, cut_all=False)\n",
    "dictionary = Counter(seg_list)\n",
    "\n",
    "freq = {}\n",
    "for ele in dictionary:\n",
    "    if ele in tags:\n",
    "        freq[ele] = dictionary[ele]\n",
    "print(freq)  # 計算出現的次數\n",
    "\n",
    "wordcloud = WordCloud(\n",
    "    background_color=\"white\",\n",
    "    mask=mask,\n",
    "    contour_width=3,\n",
    "    contour_color='steelblue',\n",
    "    font_path=font_path\n",
    ").generate_from_frequencies(freq)\n",
    "\n",
    "plt.figure()\n",
    "plt.imshow(wordcloud, interpolation=\"bilinear\")\n",
    "plt.axis(\"off\")\n",
    "plt.show()"
   ],
   "metadata": {
    "collapsed": false,
    "ExecuteTime": {
     "end_time": "2024-11-05T02:49:40.984191Z",
     "start_time": "2024-11-05T02:49:37.501716Z"
    }
   },
   "id": "79b5a5f9be4c4b45"
  },
  {
   "cell_type": "code",
   "execution_count": 107,
   "outputs": [],
   "source": [
    "import pandas as pd\n",
    "import gspread\n",
    "from google.oauth2.service_account import Credentials\n",
    "from gspread_dataframe import set_with_dataframe\n",
    "import modules.settings as settings"
   ],
   "metadata": {
    "collapsed": false,
    "ExecuteTime": {
     "end_time": "2024-11-05T07:47:29.572636Z",
     "start_time": "2024-11-05T07:47:29.558952Z"
    }
   },
   "id": "5c82fb63a0dce570"
  },
  {
   "cell_type": "code",
   "execution_count": 108,
   "outputs": [],
   "source": [
    "# Authenticate with Google\n",
    "creds = Credentials.from_service_account_file(settings.service_account_file, scopes=settings.scope)\n",
    "client = gspread.authorize(creds)"
   ],
   "metadata": {
    "collapsed": false,
    "ExecuteTime": {
     "end_time": "2024-11-05T07:47:47.785402Z",
     "start_time": "2024-11-05T07:47:47.756763Z"
    }
   },
   "id": "a62ae180b53d9499"
  },
  {
   "cell_type": "code",
   "execution_count": 109,
   "outputs": [],
   "source": [
    "df = pd.DataFrame(list(freq.items()), columns=['tag', 'count'])\n",
    "sheetname = settings.sheetname\n",
    "spreadsheet = client.open(sheetname)"
   ],
   "metadata": {
    "collapsed": false,
    "ExecuteTime": {
     "end_time": "2024-11-05T07:47:59.753033Z",
     "start_time": "2024-11-05T07:47:53.653741Z"
    }
   },
   "id": "c36dda5f1d9155ff"
  },
  {
   "cell_type": "code",
   "execution_count": 110,
   "outputs": [],
   "source": [
    "worksheet = spreadsheet.worksheet('Word Cloud')\n",
    "set_with_dataframe(worksheet, df)"
   ],
   "metadata": {
    "collapsed": false,
    "ExecuteTime": {
     "end_time": "2024-11-05T07:48:34.116938Z",
     "start_time": "2024-11-05T07:48:32.572777Z"
    }
   },
   "id": "6707d0b512053ab9"
  },
  {
   "cell_type": "code",
   "execution_count": 116,
   "outputs": [],
   "source": [
    "def convert_to_utf8(val):\n",
    "    if isinstance(val, str):\n",
    "        return val.encode('utf-8', errors='ignore').decode('utf-8')\n",
    "    return str(val)"
   ],
   "metadata": {
    "collapsed": false,
    "ExecuteTime": {
     "end_time": "2024-11-05T08:21:54.395961Z",
     "start_time": "2024-11-05T08:21:54.362206Z"
    }
   },
   "id": "eb8384b01d5bf451"
  },
  {
   "cell_type": "code",
   "execution_count": 118,
   "outputs": [],
   "source": [
    "df = df.map(convert_to_utf8)"
   ],
   "metadata": {
    "collapsed": false,
    "ExecuteTime": {
     "end_time": "2024-11-05T08:22:13.051199Z",
     "start_time": "2024-11-05T08:22:13.036021Z"
    }
   },
   "id": "5f018b1f5274f7a8"
  },
  {
   "cell_type": "code",
   "execution_count": 131,
   "outputs": [
    {
     "data": {
      "text/plain": "[['1.25', '11'],\n ['這部', '10'],\n ['賽車', '34'],\n ['這麼', '9'],\n ['朝聖', '12'],\n ['...', '39'],\n ['1.5', '9'],\n ['斯拉', '11'],\n ['BGM', '10'],\n ['不會', '10'],\n ['這種', '11'],\n ['一樣', '10'],\n ['F1', '14'],\n ['....', '13'],\n ['畫面', '9'],\n ['講話', '11'],\n ['AI', '18'],\n ['感覺', '16'],\n ['車手', '13'],\n ['速度感', '16'],\n ['比較', '14'],\n ['播報員', '11'],\n ['主播', '15'],\n ['無聊', '19'],\n ['倍速', '9']]"
     },
     "execution_count": 131,
     "metadata": {},
     "output_type": "execute_result"
    }
   ],
   "source": [
    "header = [df.columns.tolist()]\n",
    "values = df.values.tolist()\n",
    "values"
   ],
   "metadata": {
    "collapsed": false,
    "ExecuteTime": {
     "end_time": "2024-11-05T08:23:43.650323Z",
     "start_time": "2024-11-05T08:23:43.638076Z"
    }
   },
   "id": "85dff8dace099223"
  },
  {
   "cell_type": "code",
   "execution_count": 132,
   "outputs": [
    {
     "data": {
      "text/plain": "[['tag', 'count'],\n ['1.25', '11'],\n ['這部', '10'],\n ['賽車', '34'],\n ['這麼', '9'],\n ['朝聖', '12'],\n ['...', '39'],\n ['1.5', '9'],\n ['斯拉', '11'],\n ['BGM', '10'],\n ['不會', '10'],\n ['這種', '11'],\n ['一樣', '10'],\n ['F1', '14'],\n ['....', '13'],\n ['畫面', '9'],\n ['講話', '11'],\n ['AI', '18'],\n ['感覺', '16'],\n ['車手', '13'],\n ['速度感', '16'],\n ['比較', '14'],\n ['播報員', '11'],\n ['主播', '15'],\n ['無聊', '19'],\n ['倍速', '9']]"
     },
     "execution_count": 132,
     "metadata": {},
     "output_type": "execute_result"
    }
   ],
   "source": [
    "header + values"
   ],
   "metadata": {
    "collapsed": false,
    "ExecuteTime": {
     "end_time": "2024-11-05T08:23:44.759907Z",
     "start_time": "2024-11-05T08:23:44.755435Z"
    }
   },
   "id": "181c479084cab608"
  },
  {
   "cell_type": "code",
   "execution_count": 135,
   "outputs": [
    {
     "data": {
      "text/plain": "{'spreadsheetId': '1F94CV-TTa628TumABt3DOF_beqJxQTJ-Mjp1nHkWQDE',\n 'updatedRange': \"'Word Cloud'!A1:B26\",\n 'updatedRows': 26,\n 'updatedColumns': 2,\n 'updatedCells': 52}"
     },
     "execution_count": 135,
     "metadata": {},
     "output_type": "execute_result"
    }
   ],
   "source": [
    "worksheet.update(range_name='A:B', values=header + values, raw=False)"
   ],
   "metadata": {
    "collapsed": false,
    "ExecuteTime": {
     "end_time": "2024-11-05T08:24:47.948424Z",
     "start_time": "2024-11-05T08:24:47.421123Z"
    }
   },
   "id": "46239b1d08f04513"
  },
  {
   "cell_type": "code",
   "execution_count": 134,
   "outputs": [
    {
     "data": {
      "text/plain": "{'spreadsheetId': '1F94CV-TTa628TumABt3DOF_beqJxQTJ-Mjp1nHkWQDE',\n 'clearedRanges': [\"'Word Cloud'!A1:B1000\"]}"
     },
     "execution_count": 134,
     "metadata": {},
     "output_type": "execute_result"
    }
   ],
   "source": [
    "worksheet.batch_clear(['A:B'])"
   ],
   "metadata": {
    "collapsed": false,
    "ExecuteTime": {
     "end_time": "2024-11-05T08:24:35.148868Z",
     "start_time": "2024-11-05T08:24:31.716153Z"
    }
   },
   "id": "c8c63dbe4ec34c50"
  },
  {
   "cell_type": "code",
   "execution_count": 29,
   "outputs": [
    {
     "name": "stdout",
     "output_type": "stream",
     "text": [
      "Word cloud image saved to ./word-cloud/danmu_wordcloud.png\n"
     ]
    }
   ],
   "source": [
    "# Save the word cloud as a PNG file\n",
    "output_image_path = './word-cloud/danmu_wordcloud.png'  # File path to save the image\n",
    "wordcloud.to_file(output_image_path)\n",
    "print(f\"Word cloud image saved to {output_image_path}\")"
   ],
   "metadata": {
    "collapsed": false,
    "ExecuteTime": {
     "end_time": "2024-11-05T03:04:32.148619Z",
     "start_time": "2024-11-05T03:04:30.973082Z"
    }
   },
   "id": "5d38f4d36591b4ef"
  },
  {
   "cell_type": "code",
   "execution_count": 30,
   "outputs": [],
   "source": [
    "from fastapi.responses import FileResponse"
   ],
   "metadata": {
    "collapsed": false,
    "ExecuteTime": {
     "end_time": "2024-11-05T03:10:55.199975Z",
     "start_time": "2024-11-05T03:10:54.556318Z"
    }
   },
   "id": "e7a77246c0ee47b"
  },
  {
   "cell_type": "code",
   "execution_count": 31,
   "outputs": [
    {
     "data": {
      "text/plain": "<starlette.responses.FileResponse at 0x1011db1d0>"
     },
     "execution_count": 31,
     "metadata": {},
     "output_type": "execute_result"
    }
   ],
   "source": [
    "FileResponse(output_image_path, media_type='image/png', filename='wordcloud.png')"
   ],
   "metadata": {
    "collapsed": false,
    "ExecuteTime": {
     "end_time": "2024-11-05T03:11:27.960719Z",
     "start_time": "2024-11-05T03:11:27.955496Z"
    }
   },
   "id": "e996ac73a4206caf"
  },
  {
   "cell_type": "code",
   "execution_count": 32,
   "outputs": [],
   "source": [
    "import requests"
   ],
   "metadata": {
    "collapsed": false,
    "ExecuteTime": {
     "end_time": "2024-11-05T04:01:01.098697Z",
     "start_time": "2024-11-05T04:01:00.623480Z"
    }
   },
   "id": "a4b39be7981a8a7b"
  },
  {
   "cell_type": "code",
   "execution_count": 158,
   "outputs": [],
   "source": [
    "url = 'https://5d52-118-168-232-22.ngrok-free.app/'\n",
    "payload = {\n",
    "    'anime_name': '咒術迴戰',\n",
    "    'episode_name': '[14]'\n",
    "}\n",
    "req = requests.post(url + '/word_freq', json=payload)\n",
    "# req = requests.get(url)"
   ],
   "metadata": {
    "collapsed": false,
    "ExecuteTime": {
     "end_time": "2024-11-05T09:46:26.084346Z",
     "start_time": "2024-11-05T09:46:13.852613Z"
    }
   },
   "id": "aee6785d8cb86f06"
  },
  {
   "cell_type": "code",
   "execution_count": 157,
   "outputs": [
    {
     "data": {
      "text/plain": "{'detail': \"'anime_anme'\"}"
     },
     "execution_count": 157,
     "metadata": {},
     "output_type": "execute_result"
    }
   ],
   "source": [
    "req.json()"
   ],
   "metadata": {
    "collapsed": false,
    "ExecuteTime": {
     "end_time": "2024-11-05T09:44:36.381155Z",
     "start_time": "2024-11-05T09:44:36.375254Z"
    }
   },
   "id": "2fa27e918b4a4467"
  },
  {
   "cell_type": "code",
   "execution_count": 148,
   "outputs": [],
   "source": [
    "df = pd.read_csv('data/all_episode.csv')"
   ],
   "metadata": {
    "collapsed": false,
    "ExecuteTime": {
     "end_time": "2024-11-05T09:33:29.889290Z",
     "start_time": "2024-11-05T09:33:29.790540Z"
    }
   },
   "id": "ba9838197fedd087"
  },
  {
   "cell_type": "code",
   "execution_count": 151,
   "outputs": [
    {
     "data": {
      "text/plain": "'https://ani.gamer.com.tw/animeVideo.php?sn=20347'"
     },
     "execution_count": 151,
     "metadata": {},
     "output_type": "execute_result"
    }
   ],
   "source": [
    "df.loc[(df['anime_name'] == '咒術迴戰') & (df['episode_name'] == '[14]'), 'episode_link'].iloc[0]"
   ],
   "metadata": {
    "collapsed": false,
    "ExecuteTime": {
     "end_time": "2024-11-05T09:34:24.320752Z",
     "start_time": "2024-11-05T09:34:24.315068Z"
    }
   },
   "id": "9432fb2a18cdf722"
  },
  {
   "cell_type": "code",
   "execution_count": 138,
   "outputs": [
    {
     "data": {
      "text/plain": "{'detail': 'Out of range float values are not JSON compliant: nan'}"
     },
     "execution_count": 138,
     "metadata": {},
     "output_type": "execute_result"
    }
   ],
   "source": [
    "req.json()"
   ],
   "metadata": {
    "collapsed": false,
    "ExecuteTime": {
     "end_time": "2024-11-05T08:36:34.026146Z",
     "start_time": "2024-11-05T08:36:34.010478Z"
    }
   },
   "id": "2aefa1b032565f2c"
  },
  {
   "cell_type": "code",
   "execution_count": 94,
   "outputs": [
    {
     "data": {
      "text/plain": "'https://e1ec-118-168-232-22.ngrok-free.app/comment_cloud.jpg'"
     },
     "execution_count": 94,
     "metadata": {},
     "output_type": "execute_result"
    }
   ],
   "source": [
    "url + '/' + 'comment_cloud.jpg'"
   ],
   "metadata": {
    "collapsed": false,
    "ExecuteTime": {
     "end_time": "2024-11-05T07:10:08.289020Z",
     "start_time": "2024-11-05T07:10:08.286137Z"
    }
   },
   "id": "9e2f3de2b1ff4674"
  },
  {
   "cell_type": "code",
   "execution_count": 78,
   "outputs": [],
   "source": [
    "file_path = req.json()['comment']['path'][2:]\n",
    "req2 = requests.get(url + f'/files/{file_path}')"
   ],
   "metadata": {
    "collapsed": false,
    "ExecuteTime": {
     "end_time": "2024-11-05T06:18:58.307563Z",
     "start_time": "2024-11-05T06:18:57.750885Z"
    }
   },
   "id": "998bc90acdb80507"
  },
  {
   "cell_type": "code",
   "execution_count": 79,
   "outputs": [
    {
     "data": {
      "text/plain": "'word-cloud/comment_wordcloud.png'"
     },
     "execution_count": 79,
     "metadata": {},
     "output_type": "execute_result"
    }
   ],
   "source": [
    "file_path"
   ],
   "metadata": {
    "collapsed": false,
    "ExecuteTime": {
     "end_time": "2024-11-05T06:20:21.367253Z",
     "start_time": "2024-11-05T06:20:21.364104Z"
    }
   },
   "id": "3d8ed2d9f593d007"
  }
 ],
 "metadata": {
  "kernelspec": {
   "display_name": "Python 3",
   "language": "python",
   "name": "python3"
  },
  "language_info": {
   "codemirror_mode": {
    "name": "ipython",
    "version": 2
   },
   "file_extension": ".py",
   "mimetype": "text/x-python",
   "name": "python",
   "nbconvert_exporter": "python",
   "pygments_lexer": "ipython2",
   "version": "2.7.6"
  }
 },
 "nbformat": 4,
 "nbformat_minor": 5
}
