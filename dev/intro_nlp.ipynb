{
 "cells": [
  {
   "cell_type": "code",
   "execution_count": 51,
   "id": "initial_id",
   "metadata": {
    "collapsed": true,
    "ExecuteTime": {
     "end_time": "2024-11-19T11:58:25.819724Z",
     "start_time": "2024-11-19T11:58:25.816890Z"
    }
   },
   "outputs": [
    {
     "data": {
      "text/plain": "'/Users/edwardchiu/Desktop/projects/baha-anime-analysis'"
     },
     "execution_count": 51,
     "metadata": {},
     "output_type": "execute_result"
    }
   ],
   "source": [
    "import os\n",
    "\n",
    "os.chdir('/Users/edwardchiu/Desktop/projects/baha-anime-analysis')\n",
    "os.getcwd()"
   ]
  },
  {
   "cell_type": "code",
   "execution_count": null,
   "outputs": [],
   "source": [
    "from sklearn.metrics.pairwise import cosine_similarity\n",
    "from sklearn.manifold import MDS\n",
    "import matplotlib.pyplot as plt"
   ],
   "metadata": {
    "collapsed": false
   },
   "id": "8abf88dc3384e5a1"
  },
  {
   "cell_type": "code",
   "execution_count": 52,
   "outputs": [],
   "source": [
    "import yaml\n",
    "import requests\n",
    "from bs4 import BeautifulSoup\n",
    "import numpy as np\n",
    "import pandas as pd"
   ],
   "metadata": {
    "collapsed": false,
    "ExecuteTime": {
     "end_time": "2024-11-19T11:58:29.272952Z",
     "start_time": "2024-11-19T11:58:29.262320Z"
    }
   },
   "id": "c25fbd09507673f7"
  },
  {
   "cell_type": "code",
   "execution_count": null,
   "outputs": [],
   "source": [
    "from transformers import BertTokenizer, BertModel\n",
    "import torch\n",
    "\n",
    "# Load the tokenizer and model\n",
    "tokenizer = BertTokenizer.from_pretrained(\"hfl/chinese-roberta-wwm-ext\")\n",
    "model = BertModel.from_pretrained(\"hfl/chinese-roberta-wwm-ext\")"
   ],
   "metadata": {
    "collapsed": false
   },
   "id": "e681f7f3d30b470"
  },
  {
   "cell_type": "code",
   "execution_count": null,
   "outputs": [],
   "source": [
    "with open('conf/app.yml') as f:\n",
    "    app_config = yaml.safe_load(f)"
   ],
   "metadata": {
    "collapsed": false
   },
   "id": "e27f9f2962bde242"
  },
  {
   "cell_type": "code",
   "execution_count": null,
   "outputs": [],
   "source": [
    "url = 'https://ani.gamer.com.tw/animeVideo.php?sn=40525'\n",
    "user_agent = app_config['website']['user_agent']\n",
    "# ua = UserAgent()\n",
    "# user_agent = ua.random\n",
    "headers = {'User-Agent': user_agent}"
   ],
   "metadata": {
    "collapsed": false
   },
   "id": "ce621647ff688d49"
  },
  {
   "cell_type": "code",
   "execution_count": null,
   "outputs": [],
   "source": [
    "req = requests.get(url, headers=headers)\n",
    "req"
   ],
   "metadata": {
    "collapsed": false
   },
   "id": "bbdd822742fd18e3"
  },
  {
   "cell_type": "code",
   "execution_count": null,
   "outputs": [],
   "source": [
    "soup = BeautifulSoup(req.text, 'html.parser')"
   ],
   "metadata": {
    "collapsed": false
   },
   "id": "ea16246546389de6"
  },
  {
   "cell_type": "code",
   "execution_count": null,
   "outputs": [],
   "source": [
    "soup.select_one('.ACG-box1listB > li > a')"
   ],
   "metadata": {
    "collapsed": false
   },
   "id": "70ea65a0ffbfe2c8"
  },
  {
   "cell_type": "code",
   "execution_count": null,
   "outputs": [],
   "source": [
    "intro = soup.select_one('.data-intro > p').text"
   ],
   "metadata": {
    "collapsed": false
   },
   "id": "59862f3c051608f6"
  },
  {
   "cell_type": "code",
   "execution_count": null,
   "outputs": [],
   "source": [
    "intro.split('\\r＜')[0].strip()"
   ],
   "metadata": {
    "collapsed": false
   },
   "id": "b17e72341e8d69ff"
  },
  {
   "cell_type": "code",
   "execution_count": null,
   "outputs": [],
   "source": [
    "# Tokenize and encode the input text\n",
    "inputs = tokenizer(intro, return_tensors=\"pt\", truncation=True, max_length=512)\n",
    "outputs = model(**inputs)"
   ],
   "metadata": {
    "collapsed": false
   },
   "id": "73e1f48b766bee4d"
  },
  {
   "cell_type": "code",
   "execution_count": null,
   "outputs": [],
   "source": [
    "outputs"
   ],
   "metadata": {
    "collapsed": false
   },
   "id": "d4f91572c1cfc626"
  },
  {
   "cell_type": "code",
   "execution_count": null,
   "outputs": [],
   "source": [
    "# Get the hidden states\n",
    "hidden_states = outputs.last_hidden_state"
   ],
   "metadata": {
    "collapsed": false
   },
   "id": "fba544246f4ad504"
  },
  {
   "cell_type": "code",
   "execution_count": null,
   "outputs": [],
   "source": [
    "# Take the embedding of the [CLS] token (first token)\n",
    "cls_embedding = hidden_states[:, 0, :]  # Shape: (batch_size, hidden_dim)"
   ],
   "metadata": {
    "collapsed": false
   },
   "id": "7f657c08917bcfdc"
  },
  {
   "cell_type": "code",
   "execution_count": null,
   "outputs": [],
   "source": [
    "cls_embedding.squeeze().detach().tolist()"
   ],
   "metadata": {
    "collapsed": false
   },
   "id": "b7e8b043d8d3614b"
  },
  {
   "cell_type": "code",
   "execution_count": null,
   "outputs": [],
   "source": [
    "def intro_feature_extraction(intro):\n",
    "    try:\n",
    "        # Tokenize and encode the input text\n",
    "        inputs = tokenizer(intro, return_tensors=\"pt\", truncation=True, max_length=512)\n",
    "        outputs = model(**inputs)\n",
    "\n",
    "        # Get the hidden states\n",
    "        hidden_states = outputs.last_hidden_state\n",
    "\n",
    "        # Take the embedding of the [CLS] token (first token)\n",
    "        cls_embedding = hidden_states[:, 0, :]  # Shape: (batch_size, hidden_dim)\n",
    "        feature = cls_embedding.squeeze().detach().tolist()\n",
    "        return feature\n",
    "    except:\n",
    "        return None"
   ],
   "metadata": {
    "collapsed": false
   },
   "id": "54baf25a2a468d86"
  },
  {
   "cell_type": "code",
   "execution_count": null,
   "outputs": [],
   "source": [
    "df_all_anime = pd.read_csv('data/all_anime.csv')\n",
    "df_all_anime.head()"
   ],
   "metadata": {
    "collapsed": false
   },
   "id": "92a15d5b1349c4e0"
  },
  {
   "cell_type": "code",
   "execution_count": null,
   "outputs": [],
   "source": [
    "df_all_anime['intro'] = df_all_anime['intro'].fillna(df_all_anime['name'])\n",
    "df_all_anime['intro_feature'] = df_all_anime['intro'].apply(intro_feature_extraction)"
   ],
   "metadata": {
    "collapsed": false
   },
   "id": "6a903d972e268d03"
  },
  {
   "cell_type": "code",
   "execution_count": null,
   "outputs": [],
   "source": [
    "df_all_anime.head()"
   ],
   "metadata": {
    "collapsed": false
   },
   "id": "d484fb30e6d22970"
  },
  {
   "cell_type": "code",
   "execution_count": null,
   "outputs": [],
   "source": [
    "df_intro = df_all_anime[['name', 'intro', 'intro_feature']].dropna(ignore_index=True)\n",
    "df_intro.head()"
   ],
   "metadata": {
    "collapsed": false
   },
   "id": "74a2dc5f02341e6f"
  },
  {
   "cell_type": "code",
   "execution_count": null,
   "outputs": [],
   "source": [
    "features = np.vstack(df_intro['intro_feature'])\n",
    "features"
   ],
   "metadata": {
    "collapsed": false
   },
   "id": "23ac259c254edcc8"
  },
  {
   "cell_type": "code",
   "execution_count": null,
   "outputs": [],
   "source": [
    "# Calculate cosine similarity\n",
    "cosine_sim = cosine_similarity(features)\n",
    "\n",
    "# cosine_sim = (cosine_sim + 1) / 2\n",
    "cosine_sim = (cosine_sim - cosine_sim.min()) / (cosine_sim.max() - cosine_sim.min())\n",
    "cosine_sim"
   ],
   "metadata": {
    "collapsed": false
   },
   "id": "12f3aab5bd0491bc"
  },
  {
   "cell_type": "code",
   "execution_count": null,
   "outputs": [],
   "source": [
    "plt.hist(cosine_sim[0, :])\n",
    "plt.show()"
   ],
   "metadata": {
    "collapsed": false
   },
   "id": "551793a783e264d2"
  },
  {
   "cell_type": "code",
   "execution_count": null,
   "outputs": [],
   "source": [
    "np.fill_diagonal(cosine_sim, -np.inf)"
   ],
   "metadata": {
    "collapsed": false
   },
   "id": "3185e1857ba92f07"
  },
  {
   "cell_type": "code",
   "execution_count": null,
   "outputs": [],
   "source": [
    "anime_names = df_intro['name']\n",
    "cosine_sim_df = pd.DataFrame(cosine_sim, index=anime_names, columns=anime_names)\n",
    "cosine_sim_df"
   ],
   "metadata": {
    "collapsed": false
   },
   "id": "3b4edd17f46649ba"
  },
  {
   "cell_type": "code",
   "execution_count": null,
   "outputs": [],
   "source": [
    "df_all_anime['intro'].fillna(df_all_anime['name'])[df_all_anime['intro'].isna()]"
   ],
   "metadata": {
    "collapsed": false
   },
   "id": "a1eb897bff12d44d"
  },
  {
   "cell_type": "code",
   "execution_count": null,
   "outputs": [],
   "source": [
    "# Extract feature vectors as a 2D array\n",
    "df_sub = df_intro[:100]\n",
    "features = np.vstack(df_sub['intro_feature'])\n",
    "features"
   ],
   "metadata": {
    "collapsed": false
   },
   "id": "37db94b9c7efefd4"
  },
  {
   "cell_type": "code",
   "execution_count": null,
   "outputs": [],
   "source": [
    "# Calculate cosine similarity\n",
    "cosine_sim = cosine_similarity(features)\n",
    "\n",
    "# Convert to distance matrix\n",
    "distance_matrix = 1 - cosine_sim\n",
    "distance_matrix"
   ],
   "metadata": {
    "collapsed": false
   },
   "id": "f40ed1b96b9534e3"
  },
  {
   "cell_type": "code",
   "execution_count": null,
   "outputs": [],
   "source": [
    "# Apply MDS\n",
    "mds = MDS(n_components=2, dissimilarity=\"precomputed\", random_state=42)\n",
    "mds_coords = mds.fit_transform(distance_matrix)\n",
    "\n",
    "# Add the 2D coordinates to the DataFrame\n",
    "df_sub['x'] = mds_coords[:, 0]\n",
    "df_sub['y'] = mds_coords[:, 1]"
   ],
   "metadata": {
    "collapsed": false
   },
   "id": "4c4fc84d6d21199c"
  },
  {
   "cell_type": "code",
   "execution_count": null,
   "outputs": [],
   "source": [
    "# Plot the MDS results\n",
    "plt.figure(figsize=(10, 6))\n",
    "plt.scatter(df_sub['x'], df_sub['y'], s=50, c='blue', alpha=0.7)\n",
    "\n",
    "# Annotate points with anime names\n",
    "for i, name in enumerate(df_sub['name']):\n",
    "    plt.text(df_sub['x'][i], df_sub['y'][i], i, fontsize=9)\n",
    "\n",
    "plt.title(\"MDS Visualization of Anime Intros\")\n",
    "plt.xlabel(\"Dimension 1\")\n",
    "plt.ylabel(\"Dimension 2\")\n",
    "plt.grid(True)\n",
    "plt.show()"
   ],
   "metadata": {
    "collapsed": false
   },
   "id": "5c68ee3c49ebc993"
  },
  {
   "cell_type": "code",
   "execution_count": null,
   "outputs": [],
   "source": [
    "cosine_sim[29, 90]"
   ],
   "metadata": {
    "collapsed": false
   },
   "id": "23a928128b6fc16f"
  },
  {
   "cell_type": "code",
   "execution_count": null,
   "outputs": [],
   "source": [
    "df_sub.iloc[[29, 90]]"
   ],
   "metadata": {
    "collapsed": false
   },
   "id": "3831e2a5d955a7fd"
  },
  {
   "cell_type": "code",
   "execution_count": null,
   "outputs": [],
   "source": [
    "df_sub.loc[27, 'intro']"
   ],
   "metadata": {
    "collapsed": false
   },
   "id": "990ec6e77c3a7f76"
  },
  {
   "cell_type": "code",
   "execution_count": null,
   "outputs": [],
   "source": [
    "df_sub.loc[77, 'intro']"
   ],
   "metadata": {
    "collapsed": false
   },
   "id": "7906650b5eb5b247"
  },
  {
   "cell_type": "code",
   "execution_count": null,
   "outputs": [],
   "source": [
    "df_sub['name']"
   ],
   "metadata": {
    "collapsed": false
   },
   "id": "601c99086f5a71b7"
  },
  {
   "cell_type": "code",
   "execution_count": null,
   "outputs": [],
   "source": [],
   "metadata": {
    "collapsed": false
   },
   "id": "b3c519818d183437"
  },
  {
   "cell_type": "code",
   "execution_count": null,
   "outputs": [],
   "source": [],
   "metadata": {
    "collapsed": false
   },
   "id": "500fd1c3e5b87f7c"
  },
  {
   "cell_type": "code",
   "execution_count": null,
   "outputs": [],
   "source": [
    "from modules.recommend import AnimeRecommend"
   ],
   "metadata": {
    "collapsed": false
   },
   "id": "f6625ef55050ba50"
  },
  {
   "cell_type": "code",
   "execution_count": null,
   "outputs": [],
   "source": [
    "ar = AnimeRecommend()"
   ],
   "metadata": {
    "collapsed": false
   },
   "id": "9b69f7558dd0f448"
  },
  {
   "cell_type": "code",
   "execution_count": null,
   "outputs": [],
   "source": [
    "ar.compute_similarity_score()"
   ],
   "metadata": {
    "collapsed": false
   },
   "id": "4d83cffc61232afb"
  },
  {
   "cell_type": "code",
   "execution_count": null,
   "outputs": [],
   "source": [
    "df_similar = pd.read_csv('data/anime_type_similarity.csv')"
   ],
   "metadata": {
    "collapsed": false
   },
   "id": "f3d088611fe5df1"
  },
  {
   "cell_type": "code",
   "execution_count": null,
   "outputs": [],
   "source": [
    "df_similar = df_similar.set_index('name')"
   ],
   "metadata": {
    "collapsed": false
   },
   "id": "7f483ad2ce9244c6"
  },
  {
   "cell_type": "code",
   "execution_count": null,
   "outputs": [],
   "source": [
    "df_similar.iloc[0, 0]"
   ],
   "metadata": {
    "collapsed": false
   },
   "id": "3b0146964fae7b34"
  },
  {
   "cell_type": "code",
   "execution_count": null,
   "outputs": [],
   "source": [
    "anime_intro_similarity = pd.read_csv('data/anime_intro_similarity.csv')\n",
    "anime_intro_similarity = anime_intro_similarity.set_index('name')\n",
    "anime_intro_similarity.head()"
   ],
   "metadata": {
    "collapsed": false
   },
   "id": "b3ac178cd3ff1c5c"
  },
  {
   "cell_type": "code",
   "execution_count": null,
   "outputs": [],
   "source": [
    "anime_type_similarity = pd.read_csv('data/anime_type_similarity.csv')\n",
    "anime_type_similarity = anime_type_similarity.set_index('name')\n",
    "anime_type_similarity.head()"
   ],
   "metadata": {
    "collapsed": false
   },
   "id": "64ae6498fd837b77"
  },
  {
   "cell_type": "code",
   "execution_count": null,
   "outputs": [],
   "source": [],
   "metadata": {
    "collapsed": false
   },
   "id": "6e82b3eec0b32c34"
  },
  {
   "cell_type": "code",
   "execution_count": 53,
   "outputs": [],
   "source": [
    "anime_type_similarity = pd.read_csv('data/anime_type_similarity.csv')\n",
    "anime_type_similarity = anime_type_similarity.set_index('name')\n",
    "\n",
    "anime_intro_similarity = pd.read_csv('data/anime_intro_similarity.csv')\n",
    "anime_intro_similarity = anime_intro_similarity.set_index('name')"
   ],
   "metadata": {
    "collapsed": false,
    "ExecuteTime": {
     "end_time": "2024-11-19T12:07:16.048385Z",
     "start_time": "2024-11-19T12:07:15.303219Z"
    }
   },
   "id": "1fad54f8aeb27f58"
  },
  {
   "cell_type": "code",
   "execution_count": 105,
   "outputs": [
    {
     "data": {
      "text/plain": "name\n青之壬生浪                      0.393495\n香蕉喵遊世界                     0.235218\n平凡職業造就世界最強 第三季             0.318980\n香格里拉・開拓異境～糞作獵手挑戰神作～ 第二季    0.295723\n魔王 2099                    0.364502\n                             ...   \n城市獵人 2                     0.406265\n妙手小廚師                      0.270022\n妖獸都市 1987 劇場版              0.298172\n城市獵人                       0.406265\n魯邦三世 卡里奧斯特羅城               0.251601\nLength: 1722, dtype: float64"
     },
     "execution_count": 105,
     "metadata": {},
     "output_type": "execute_result"
    }
   ],
   "source": [
    "target_similarities = pd.concat(\n",
    "    [anime_type_similarity.loc[:, ['2.5 次元的誘惑']], anime_intro_similarity.loc[:, ['2.5 次元的誘惑']]], axis=1).mean(axis=1)\n",
    "target_similarities"
   ],
   "metadata": {
    "collapsed": false,
    "ExecuteTime": {
     "end_time": "2024-11-19T12:49:27.682335Z",
     "start_time": "2024-11-19T12:49:27.670483Z"
    }
   },
   "id": "b41b87d397bf9d06"
  },
  {
   "cell_type": "code",
   "execution_count": 106,
   "outputs": [],
   "source": [
    "target_similarities = target_similarities.reset_index().rename(columns={0: 'similarity_score'})"
   ],
   "metadata": {
    "collapsed": false,
    "ExecuteTime": {
     "end_time": "2024-11-19T12:49:28.779558Z",
     "start_time": "2024-11-19T12:49:28.764548Z"
    }
   },
   "id": "22a0482a66763839"
  },
  {
   "cell_type": "code",
   "execution_count": 66,
   "outputs": [
    {
     "data": {
      "text/plain": "name\n青之壬生浪                      0.318931\n香蕉喵遊世界                     0.235330\n平凡職業造就世界最強 第三季             0.369369\n香格里拉・開拓異境～糞作獵手挑戰神作～ 第二季    0.393674\n魔王 2099                    0.379912\n                             ...   \n城市獵人 2                     0.343682\n妙手小廚師                      0.284120\n妖獸都市 1987 劇場版              0.421368\n城市獵人                       0.343682\n魯邦三世 卡里奧斯特羅城               0.322411\nLength: 1722, dtype: float64"
     },
     "execution_count": 66,
     "metadata": {},
     "output_type": "execute_result"
    }
   ],
   "source": [
    "df[['咒術迴戰'] + ['a']].mean(axis=1)"
   ],
   "metadata": {
    "collapsed": false,
    "ExecuteTime": {
     "end_time": "2024-11-19T12:14:06.931619Z",
     "start_time": "2024-11-19T12:14:06.920667Z"
    }
   },
   "id": "228615ad3db53bba"
  },
  {
   "cell_type": "code",
   "execution_count": 68,
   "outputs": [
    {
     "data": {
      "text/plain": "name\n青之壬生浪                      0.644133\n香蕉喵遊世界                     0.470436\n平凡職業造就世界最強 第三季             0.637961\n香格里拉・開拓異境～糞作獵手挑戰神作～ 第二季    0.591447\n魔王 2099                    0.617893\n                             ...   \n城市獵人 2                     0.645864\n妙手小廚師                      0.540043\n妖獸都市 1987 劇場版              0.596344\n城市獵人                       0.645864\n魯邦三世 卡里奧斯特羅城               0.503202\nName: 2.5 次元的誘惑, Length: 1722, dtype: float64"
     },
     "execution_count": 68,
     "metadata": {},
     "output_type": "execute_result"
    }
   ],
   "source": [
    "anime_intro_similarity['2.5 次元的誘惑']"
   ],
   "metadata": {
    "collapsed": false,
    "ExecuteTime": {
     "end_time": "2024-11-19T12:18:33.017664Z",
     "start_time": "2024-11-19T12:18:33.014168Z"
    }
   },
   "id": "fbcbe44f926d2ac2"
  },
  {
   "cell_type": "code",
   "execution_count": 74,
   "outputs": [],
   "source": [
    "from modules.recommend import AnimeRecommend"
   ],
   "metadata": {
    "collapsed": false,
    "ExecuteTime": {
     "end_time": "2024-11-19T12:28:27.838550Z",
     "start_time": "2024-11-19T12:28:27.663665Z"
    }
   },
   "id": "c9d4e1c38ee428d2"
  },
  {
   "cell_type": "code",
   "execution_count": 75,
   "outputs": [
    {
     "name": "stdout",
     "output_type": "stream",
     "text": [
      "Finish reading and transform anime data!!!\n"
     ]
    }
   ],
   "source": [
    "ar = AnimeRecommend()"
   ],
   "metadata": {
    "collapsed": false,
    "ExecuteTime": {
     "end_time": "2024-11-19T12:28:33.948723Z",
     "start_time": "2024-11-19T12:28:31.836851Z"
    }
   },
   "id": "eea58482020ded6f"
  },
  {
   "cell_type": "code",
   "execution_count": 99,
   "outputs": [],
   "source": [
    "df = ar.df_anime"
   ],
   "metadata": {
    "collapsed": false,
    "ExecuteTime": {
     "end_time": "2024-11-19T12:47:35.531979Z",
     "start_time": "2024-11-19T12:47:35.525111Z"
    }
   },
   "id": "1afb0c92e49a8ed3"
  },
  {
   "cell_type": "code",
   "execution_count": 107,
   "outputs": [],
   "source": [
    "scaled_metrics = df.loc[:, ['name', 'scaled_launch', 'scaled_view', 'scaled_score', 'link']]\n",
    "# scaled_metrics = scaled_metrics.set_index('name')"
   ],
   "metadata": {
    "collapsed": false,
    "ExecuteTime": {
     "end_time": "2024-11-19T12:49:33.917270Z",
     "start_time": "2024-11-19T12:49:33.904362Z"
    }
   },
   "id": "97ae90c4e2dfb30f"
  },
  {
   "cell_type": "code",
   "execution_count": 115,
   "outputs": [],
   "source": [
    "target_similarities = target_similarities.merge(scaled_metrics, on='name', how='inner')"
   ],
   "metadata": {
    "collapsed": false,
    "ExecuteTime": {
     "end_time": "2024-11-19T12:50:57.622114Z",
     "start_time": "2024-11-19T12:50:57.618321Z"
    }
   },
   "id": "daccde57f549afd2"
  },
  {
   "cell_type": "code",
   "execution_count": 116,
   "outputs": [
    {
     "data": {
      "text/plain": "0       1.000000\n1       0.998013\n2       0.998013\n3       0.997616\n4       0.997616\n          ...   \n1719    0.003491\n1720    0.003152\n1721    0.002856\n1722    0.002823\n1723    0.000000\nName: scaled_launch, Length: 1724, dtype: float64"
     },
     "execution_count": 116,
     "metadata": {},
     "output_type": "execute_result"
    }
   ],
   "source": [
    "target_similarities['scaled_launch']"
   ],
   "metadata": {
    "collapsed": false,
    "ExecuteTime": {
     "end_time": "2024-11-19T12:51:00.849359Z",
     "start_time": "2024-11-19T12:51:00.833910Z"
    }
   },
   "id": "23a7a91f1925b915"
  },
  {
   "cell_type": "code",
   "execution_count": 119,
   "outputs": [
    {
     "data": {
      "text/plain": "0       0.356837\n1       0.250748\n2       0.452811\n3       0.465926\n4       0.464221\n          ...   \n1719    0.460521\n1720    0.374452\n1721    0.245126\n1722    0.481972\n1723    0.163697\nLength: 1724, dtype: float64"
     },
     "execution_count": 119,
     "metadata": {},
     "output_type": "execute_result"
    }
   ],
   "source": [
    "parameters = ['scaled_view']\n",
    "target_similarities.loc[:, ['similarity_score'] + parameters].mean(axis=1)"
   ],
   "metadata": {
    "collapsed": false,
    "ExecuteTime": {
     "end_time": "2024-11-19T12:53:10.824805Z",
     "start_time": "2024-11-19T12:53:10.819491Z"
    }
   },
   "id": "586c647e61a3b8ad"
  },
  {
   "cell_type": "code",
   "execution_count": 86,
   "outputs": [],
   "source": [
    "target_similarities[['scaled_launch', 'scaled_view', 'scaled_score', 'link']] = scaled_metrics"
   ],
   "metadata": {
    "collapsed": false,
    "ExecuteTime": {
     "end_time": "2024-11-19T12:32:52.797814Z",
     "start_time": "2024-11-19T12:32:52.792062Z"
    }
   },
   "id": "860344b2e5b486fc"
  },
  {
   "cell_type": "code",
   "execution_count": 84,
   "outputs": [],
   "source": [
    "target_similarities['scaled_launch'] = scaled_metrics['scaled_launch']"
   ],
   "metadata": {
    "collapsed": false,
    "ExecuteTime": {
     "end_time": "2024-11-19T12:32:35.558466Z",
     "start_time": "2024-11-19T12:32:35.540542Z"
    }
   },
   "id": "cad65b0f37cc451b"
  },
  {
   "cell_type": "code",
   "execution_count": 88,
   "outputs": [
    {
     "data": {
      "text/plain": "                         2.5 次元的誘惑  2.5 次元的誘惑  scaled_launch  scaled_view  \\\nname                                                                        \n青之壬生浪                     0.142857   0.644133       1.000000     0.320179   \n香蕉喵遊世界                    0.000000   0.470436       0.998013     0.266277   \n平凡職業造就世界最強 第三季            0.000000   0.637961       0.998013     0.586642   \n香格里拉・開拓異境～糞作獵手挑戰神作～ 第二季   0.000000   0.591447       0.997616     0.636128   \n魔王 2099                   0.111111   0.617893       0.997616     0.563939   \n...                            ...        ...            ...          ...   \n城市獵人 2                    0.166667   0.645864       0.003491     0.514778   \n妙手小廚師                     0.000000   0.540043       0.003152     0.478882   \n妖獸都市 1987 劇場版             0.000000   0.596344       0.002856     0.192081   \n城市獵人                      0.166667   0.645864       0.002823     0.557679   \n魯邦三世 卡里奧斯特羅城              0.000000   0.503202       0.000000     0.075793   \n\n                         scaled_score  \\\nname                                    \n青之壬生浪                        0.701801   \n香蕉喵遊世界                       0.587879   \n平凡職業造就世界最強 第三季               0.837755   \n香格里拉・開拓異境～糞作獵手挑戰神作～ 第二季      1.000000   \n魔王 2099                      0.837755   \n...                               ...   \n城市獵人 2                       0.701801   \n妙手小廚師                        0.587879   \n妖獸都市 1987 劇場版                0.412426   \n城市獵人                         0.701801   \n魯邦三世 卡里奧斯特羅城                 0.837755   \n\n                                                                    link  \nname                                                                      \n青之壬生浪                    https://ani.gamer.com.tw/animeRef.php?sn=113677  \n香蕉喵遊世界                   https://ani.gamer.com.tw/animeRef.php?sn=113633  \n平凡職業造就世界最強 第三季           https://ani.gamer.com.tw/animeRef.php?sn=113635  \n香格里拉・開拓異境～糞作獵手挑戰神作～ 第二季  https://ani.gamer.com.tw/animeRef.php?sn=113665  \n魔王 2099                  https://ani.gamer.com.tw/animeRef.php?sn=113662  \n...                                                                  ...  \n城市獵人 2                    https://ani.gamer.com.tw/animeRef.php?sn=30499  \n妙手小廚師                    https://ani.gamer.com.tw/animeRef.php?sn=112806  \n妖獸都市 1987 劇場版            https://ani.gamer.com.tw/animeRef.php?sn=113058  \n城市獵人                      https://ani.gamer.com.tw/animeRef.php?sn=19171  \n魯邦三世 卡里奧斯特羅城             https://ani.gamer.com.tw/animeRef.php?sn=113629  \n\n[1722 rows x 6 columns]",
      "text/html": "<div>\n<style scoped>\n    .dataframe tbody tr th:only-of-type {\n        vertical-align: middle;\n    }\n\n    .dataframe tbody tr th {\n        vertical-align: top;\n    }\n\n    .dataframe thead th {\n        text-align: right;\n    }\n</style>\n<table border=\"1\" class=\"dataframe\">\n  <thead>\n    <tr style=\"text-align: right;\">\n      <th></th>\n      <th>2.5 次元的誘惑</th>\n      <th>2.5 次元的誘惑</th>\n      <th>scaled_launch</th>\n      <th>scaled_view</th>\n      <th>scaled_score</th>\n      <th>link</th>\n    </tr>\n    <tr>\n      <th>name</th>\n      <th></th>\n      <th></th>\n      <th></th>\n      <th></th>\n      <th></th>\n      <th></th>\n    </tr>\n  </thead>\n  <tbody>\n    <tr>\n      <th>青之壬生浪</th>\n      <td>0.142857</td>\n      <td>0.644133</td>\n      <td>1.000000</td>\n      <td>0.320179</td>\n      <td>0.701801</td>\n      <td>https://ani.gamer.com.tw/animeRef.php?sn=113677</td>\n    </tr>\n    <tr>\n      <th>香蕉喵遊世界</th>\n      <td>0.000000</td>\n      <td>0.470436</td>\n      <td>0.998013</td>\n      <td>0.266277</td>\n      <td>0.587879</td>\n      <td>https://ani.gamer.com.tw/animeRef.php?sn=113633</td>\n    </tr>\n    <tr>\n      <th>平凡職業造就世界最強 第三季</th>\n      <td>0.000000</td>\n      <td>0.637961</td>\n      <td>0.998013</td>\n      <td>0.586642</td>\n      <td>0.837755</td>\n      <td>https://ani.gamer.com.tw/animeRef.php?sn=113635</td>\n    </tr>\n    <tr>\n      <th>香格里拉・開拓異境～糞作獵手挑戰神作～ 第二季</th>\n      <td>0.000000</td>\n      <td>0.591447</td>\n      <td>0.997616</td>\n      <td>0.636128</td>\n      <td>1.000000</td>\n      <td>https://ani.gamer.com.tw/animeRef.php?sn=113665</td>\n    </tr>\n    <tr>\n      <th>魔王 2099</th>\n      <td>0.111111</td>\n      <td>0.617893</td>\n      <td>0.997616</td>\n      <td>0.563939</td>\n      <td>0.837755</td>\n      <td>https://ani.gamer.com.tw/animeRef.php?sn=113662</td>\n    </tr>\n    <tr>\n      <th>...</th>\n      <td>...</td>\n      <td>...</td>\n      <td>...</td>\n      <td>...</td>\n      <td>...</td>\n      <td>...</td>\n    </tr>\n    <tr>\n      <th>城市獵人 2</th>\n      <td>0.166667</td>\n      <td>0.645864</td>\n      <td>0.003491</td>\n      <td>0.514778</td>\n      <td>0.701801</td>\n      <td>https://ani.gamer.com.tw/animeRef.php?sn=30499</td>\n    </tr>\n    <tr>\n      <th>妙手小廚師</th>\n      <td>0.000000</td>\n      <td>0.540043</td>\n      <td>0.003152</td>\n      <td>0.478882</td>\n      <td>0.587879</td>\n      <td>https://ani.gamer.com.tw/animeRef.php?sn=112806</td>\n    </tr>\n    <tr>\n      <th>妖獸都市 1987 劇場版</th>\n      <td>0.000000</td>\n      <td>0.596344</td>\n      <td>0.002856</td>\n      <td>0.192081</td>\n      <td>0.412426</td>\n      <td>https://ani.gamer.com.tw/animeRef.php?sn=113058</td>\n    </tr>\n    <tr>\n      <th>城市獵人</th>\n      <td>0.166667</td>\n      <td>0.645864</td>\n      <td>0.002823</td>\n      <td>0.557679</td>\n      <td>0.701801</td>\n      <td>https://ani.gamer.com.tw/animeRef.php?sn=19171</td>\n    </tr>\n    <tr>\n      <th>魯邦三世 卡里奧斯特羅城</th>\n      <td>0.000000</td>\n      <td>0.503202</td>\n      <td>0.000000</td>\n      <td>0.075793</td>\n      <td>0.837755</td>\n      <td>https://ani.gamer.com.tw/animeRef.php?sn=113629</td>\n    </tr>\n  </tbody>\n</table>\n<p>1722 rows × 6 columns</p>\n</div>"
     },
     "execution_count": 88,
     "metadata": {},
     "output_type": "execute_result"
    }
   ],
   "source": [
    "target_similarities"
   ],
   "metadata": {
    "collapsed": false,
    "ExecuteTime": {
     "end_time": "2024-11-19T12:39:57.577496Z",
     "start_time": "2024-11-19T12:39:57.573179Z"
    }
   },
   "id": "dfdc441a2d7e0d8"
  }
 ],
 "metadata": {
  "kernelspec": {
   "display_name": "Python 3",
   "language": "python",
   "name": "python3"
  },
  "language_info": {
   "codemirror_mode": {
    "name": "ipython",
    "version": 2
   },
   "file_extension": ".py",
   "mimetype": "text/x-python",
   "name": "python",
   "nbconvert_exporter": "python",
   "pygments_lexer": "ipython2",
   "version": "2.7.6"
  }
 },
 "nbformat": 4,
 "nbformat_minor": 5
}
