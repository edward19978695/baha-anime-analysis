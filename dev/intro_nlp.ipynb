{
 "cells": [
  {
   "cell_type": "code",
   "execution_count": 1,
   "id": "initial_id",
   "metadata": {
    "collapsed": true,
    "ExecuteTime": {
     "end_time": "2024-11-15T12:56:25.245806Z",
     "start_time": "2024-11-15T12:56:25.235962Z"
    }
   },
   "outputs": [
    {
     "data": {
      "text/plain": "'/Users/edwardchiu/Desktop/projects/baha-anime-analysis'"
     },
     "execution_count": 1,
     "metadata": {},
     "output_type": "execute_result"
    }
   ],
   "source": [
    "import os\n",
    "\n",
    "os.chdir('/Users/edwardchiu/Desktop/projects/baha-anime-analysis')\n",
    "os.getcwd()"
   ]
  },
  {
   "cell_type": "code",
   "execution_count": 29,
   "outputs": [],
   "source": [
    "from sklearn.metrics.pairwise import cosine_similarity\n",
    "from sklearn.manifold import MDS\n",
    "import matplotlib.pyplot as plt"
   ],
   "metadata": {
    "collapsed": false,
    "ExecuteTime": {
     "end_time": "2024-11-15T13:26:24.327896Z",
     "start_time": "2024-11-15T13:26:22.304711Z"
    }
   },
   "id": "8abf88dc3384e5a1"
  },
  {
   "cell_type": "code",
   "execution_count": 2,
   "outputs": [],
   "source": [
    "import yaml\n",
    "import requests\n",
    "from bs4 import BeautifulSoup\n",
    "import numpy as np\n",
    "import pandas as pd"
   ],
   "metadata": {
    "collapsed": false,
    "ExecuteTime": {
     "end_time": "2024-11-15T12:56:44.169613Z",
     "start_time": "2024-11-15T12:56:43.677012Z"
    }
   },
   "id": "c25fbd09507673f7"
  },
  {
   "cell_type": "code",
   "execution_count": 3,
   "outputs": [],
   "source": [
    "from transformers import BertTokenizer, BertModel\n",
    "import torch\n",
    "\n",
    "# Load the tokenizer and model\n",
    "tokenizer = BertTokenizer.from_pretrained(\"hfl/chinese-roberta-wwm-ext\")\n",
    "model = BertModel.from_pretrained(\"hfl/chinese-roberta-wwm-ext\")"
   ],
   "metadata": {
    "collapsed": false,
    "ExecuteTime": {
     "end_time": "2024-11-15T12:56:49.620601Z",
     "start_time": "2024-11-15T12:56:44.634513Z"
    }
   },
   "id": "e681f7f3d30b470"
  },
  {
   "cell_type": "code",
   "execution_count": null,
   "outputs": [],
   "source": [
    "with open('conf/app.yml') as f:\n",
    "    app_config = yaml.safe_load(f)"
   ],
   "metadata": {
    "collapsed": false
   },
   "id": "e27f9f2962bde242"
  },
  {
   "cell_type": "code",
   "execution_count": null,
   "outputs": [],
   "source": [
    "url = 'https://ani.gamer.com.tw/animeVideo.php?sn=40525'\n",
    "user_agent = app_config['website']['user_agent']\n",
    "# ua = UserAgent()\n",
    "# user_agent = ua.random\n",
    "headers = {'User-Agent': user_agent}"
   ],
   "metadata": {
    "collapsed": false
   },
   "id": "ce621647ff688d49"
  },
  {
   "cell_type": "code",
   "execution_count": null,
   "outputs": [],
   "source": [
    "req = requests.get(url, headers=headers)\n",
    "req"
   ],
   "metadata": {
    "collapsed": false
   },
   "id": "bbdd822742fd18e3"
  },
  {
   "cell_type": "code",
   "execution_count": null,
   "outputs": [],
   "source": [
    "soup = BeautifulSoup(req.text, 'html.parser')"
   ],
   "metadata": {
    "collapsed": false
   },
   "id": "ea16246546389de6"
  },
  {
   "cell_type": "code",
   "execution_count": null,
   "outputs": [],
   "source": [
    "soup.select_one('.ACG-box1listB > li > a')"
   ],
   "metadata": {
    "collapsed": false
   },
   "id": "70ea65a0ffbfe2c8"
  },
  {
   "cell_type": "code",
   "execution_count": null,
   "outputs": [],
   "source": [
    "intro = soup.select_one('.data-intro > p').text"
   ],
   "metadata": {
    "collapsed": false
   },
   "id": "59862f3c051608f6"
  },
  {
   "cell_type": "code",
   "execution_count": null,
   "outputs": [],
   "source": [
    "intro.split('\\r＜')[0].strip()"
   ],
   "metadata": {
    "collapsed": false
   },
   "id": "b17e72341e8d69ff"
  },
  {
   "cell_type": "code",
   "execution_count": null,
   "outputs": [],
   "source": [
    "# Tokenize and encode the input text\n",
    "inputs = tokenizer(intro, return_tensors=\"pt\", truncation=True, max_length=512)\n",
    "outputs = model(**inputs)"
   ],
   "metadata": {
    "collapsed": false
   },
   "id": "73e1f48b766bee4d"
  },
  {
   "cell_type": "code",
   "execution_count": null,
   "outputs": [],
   "source": [
    "outputs"
   ],
   "metadata": {
    "collapsed": false
   },
   "id": "d4f91572c1cfc626"
  },
  {
   "cell_type": "code",
   "execution_count": null,
   "outputs": [],
   "source": [
    "# Get the hidden states\n",
    "hidden_states = outputs.last_hidden_state"
   ],
   "metadata": {
    "collapsed": false
   },
   "id": "fba544246f4ad504"
  },
  {
   "cell_type": "code",
   "execution_count": null,
   "outputs": [],
   "source": [
    "# Take the embedding of the [CLS] token (first token)\n",
    "cls_embedding = hidden_states[:, 0, :]  # Shape: (batch_size, hidden_dim)"
   ],
   "metadata": {
    "collapsed": false
   },
   "id": "7f657c08917bcfdc"
  },
  {
   "cell_type": "code",
   "execution_count": null,
   "outputs": [],
   "source": [
    "cls_embedding.squeeze().detach().tolist()"
   ],
   "metadata": {
    "collapsed": false
   },
   "id": "b7e8b043d8d3614b"
  },
  {
   "cell_type": "code",
   "execution_count": 23,
   "outputs": [],
   "source": [
    "def intro_feature_extraction(intro):\n",
    "    try:\n",
    "        # Tokenize and encode the input text\n",
    "        inputs = tokenizer(intro, return_tensors=\"pt\", truncation=True, max_length=512)\n",
    "        outputs = model(**inputs)\n",
    "\n",
    "        # Get the hidden states\n",
    "        hidden_states = outputs.last_hidden_state\n",
    "\n",
    "        # Take the embedding of the [CLS] token (first token)\n",
    "        cls_embedding = hidden_states[:, 0, :]  # Shape: (batch_size, hidden_dim)\n",
    "        feature = cls_embedding.squeeze().detach().tolist()\n",
    "        return feature\n",
    "    except:\n",
    "        return None"
   ],
   "metadata": {
    "collapsed": false,
    "ExecuteTime": {
     "end_time": "2024-11-15T13:14:08.355625Z",
     "start_time": "2024-11-15T13:14:08.350702Z"
    }
   },
   "id": "54baf25a2a468d86"
  },
  {
   "cell_type": "code",
   "execution_count": 24,
   "outputs": [
    {
     "data": {
      "text/plain": "                      name                                          thumbnail  \\\n0                    青之壬生浪  https://p2.bahamut.com.tw/B/ACG/c/23/000013552...   \n1                   香蕉喵遊世界  https://p2.bahamut.com.tw/B/ACG/c/00/000014150...   \n2           平凡職業造就世界最強 第三季  https://p2.bahamut.com.tw/B/ACG/c/96/000012709...   \n3  香格里拉・開拓異境～糞作獵手挑戰神作～ 第二季  https://p2.bahamut.com.tw/B/ACG/c/12/000013861...   \n4                  魔王 2099  https://p2.bahamut.com.tw/B/ACG/c/43/000013124...   \n\n   total_view  total_episode  avg_view  \\\n0     36000.0              4    9000.0   \n1     21000.0              8    2625.0   \n2    517000.0              5  103400.0   \n3    848000.0              5  169600.0   \n4    412000.0              5   82400.0   \n\n                                              link  score  score_count  \\\n0  https://ani.gamer.com.tw/animeRef.php?sn=113677    4.8        336.0   \n1  https://ani.gamer.com.tw/animeRef.php?sn=113633    4.7        140.0   \n2  https://ani.gamer.com.tw/animeRef.php?sn=113635    4.9       4173.0   \n3  https://ani.gamer.com.tw/animeRef.php?sn=113665    5.0       6808.0   \n4  https://ani.gamer.com.tw/animeRef.php?sn=113662    4.9       3793.0   \n\n   score_rate first_launched_date    author   director    agent  \\\n0    0.009333          2024-10-19      安田剛士      羽原久美子       曼迪   \n1    0.006667          2024-10-14     Q-LiA        矢立恭  Ani-One   \n2    0.008072          2024-10-14       白米良        岩永彰      木棉花   \n3    0.008028          2024-10-13  硬梨菜、不二涼介  窪岡俊之、池下博紀      木棉花   \n4    0.009206          2024-10-13       紫大悟        安藤良      木棉花   \n\n                           animator                            types  \\\n0                         MAHO FILM               ['青春', '勵志', '歷史']   \n1  TMS Entertainment（第6工作室）×Lesprit      ['溫馨', '悠閒', '泡麵番', '闔家觀賞']   \n2                           asread.  ['動作', '冒險', '奇幻', '異世界', '魔法']   \n3                               C2C               ['動作', '冒險', '奇幻']   \n4                         J.C.STAFF   ['動作', '奇幻', '魔法', '科幻', '職場']   \n\n                                               intro  \n0  本作品以約160年前的幕末京都為舞台，描繪新選組的青春物語。因黑船來襲而動亂頻繁的幕末京都裡...  \n1  在某座星球上，誕生了一隻不可思議的生物。牠的名字叫「香蕉喵」，是藏在香蕉裡的神秘小貓咪，沒有...  \n2  南雲始一行人打敗了神之使徒「諾因」，並順利擊退侵略王都的魔人族。在攻略剩餘的兩個大迷宮前，為...  \n3  「你是為了什麼而玩遊戲的？」\\r如果世界上的遊戲有100款神作，那麼也就有存在著1000款糞...  \n4  這裡是統合曆2099年──新宿市。在被滅亡的500年後，傳說中的魔王「貝爾托爾」再次降臨於發...  ",
      "text/html": "<div>\n<style scoped>\n    .dataframe tbody tr th:only-of-type {\n        vertical-align: middle;\n    }\n\n    .dataframe tbody tr th {\n        vertical-align: top;\n    }\n\n    .dataframe thead th {\n        text-align: right;\n    }\n</style>\n<table border=\"1\" class=\"dataframe\">\n  <thead>\n    <tr style=\"text-align: right;\">\n      <th></th>\n      <th>name</th>\n      <th>thumbnail</th>\n      <th>total_view</th>\n      <th>total_episode</th>\n      <th>avg_view</th>\n      <th>link</th>\n      <th>score</th>\n      <th>score_count</th>\n      <th>score_rate</th>\n      <th>first_launched_date</th>\n      <th>author</th>\n      <th>director</th>\n      <th>agent</th>\n      <th>animator</th>\n      <th>types</th>\n      <th>intro</th>\n    </tr>\n  </thead>\n  <tbody>\n    <tr>\n      <th>0</th>\n      <td>青之壬生浪</td>\n      <td>https://p2.bahamut.com.tw/B/ACG/c/23/000013552...</td>\n      <td>36000.0</td>\n      <td>4</td>\n      <td>9000.0</td>\n      <td>https://ani.gamer.com.tw/animeRef.php?sn=113677</td>\n      <td>4.8</td>\n      <td>336.0</td>\n      <td>0.009333</td>\n      <td>2024-10-19</td>\n      <td>安田剛士</td>\n      <td>羽原久美子</td>\n      <td>曼迪</td>\n      <td>MAHO FILM</td>\n      <td>['青春', '勵志', '歷史']</td>\n      <td>本作品以約160年前的幕末京都為舞台，描繪新選組的青春物語。因黑船來襲而動亂頻繁的幕末京都裡...</td>\n    </tr>\n    <tr>\n      <th>1</th>\n      <td>香蕉喵遊世界</td>\n      <td>https://p2.bahamut.com.tw/B/ACG/c/00/000014150...</td>\n      <td>21000.0</td>\n      <td>8</td>\n      <td>2625.0</td>\n      <td>https://ani.gamer.com.tw/animeRef.php?sn=113633</td>\n      <td>4.7</td>\n      <td>140.0</td>\n      <td>0.006667</td>\n      <td>2024-10-14</td>\n      <td>Q-LiA</td>\n      <td>矢立恭</td>\n      <td>Ani-One</td>\n      <td>TMS Entertainment（第6工作室）×Lesprit</td>\n      <td>['溫馨', '悠閒', '泡麵番', '闔家觀賞']</td>\n      <td>在某座星球上，誕生了一隻不可思議的生物。牠的名字叫「香蕉喵」，是藏在香蕉裡的神秘小貓咪，沒有...</td>\n    </tr>\n    <tr>\n      <th>2</th>\n      <td>平凡職業造就世界最強 第三季</td>\n      <td>https://p2.bahamut.com.tw/B/ACG/c/96/000012709...</td>\n      <td>517000.0</td>\n      <td>5</td>\n      <td>103400.0</td>\n      <td>https://ani.gamer.com.tw/animeRef.php?sn=113635</td>\n      <td>4.9</td>\n      <td>4173.0</td>\n      <td>0.008072</td>\n      <td>2024-10-14</td>\n      <td>白米良</td>\n      <td>岩永彰</td>\n      <td>木棉花</td>\n      <td>asread.</td>\n      <td>['動作', '冒險', '奇幻', '異世界', '魔法']</td>\n      <td>南雲始一行人打敗了神之使徒「諾因」，並順利擊退侵略王都的魔人族。在攻略剩餘的兩個大迷宮前，為...</td>\n    </tr>\n    <tr>\n      <th>3</th>\n      <td>香格里拉・開拓異境～糞作獵手挑戰神作～ 第二季</td>\n      <td>https://p2.bahamut.com.tw/B/ACG/c/12/000013861...</td>\n      <td>848000.0</td>\n      <td>5</td>\n      <td>169600.0</td>\n      <td>https://ani.gamer.com.tw/animeRef.php?sn=113665</td>\n      <td>5.0</td>\n      <td>6808.0</td>\n      <td>0.008028</td>\n      <td>2024-10-13</td>\n      <td>硬梨菜、不二涼介</td>\n      <td>窪岡俊之、池下博紀</td>\n      <td>木棉花</td>\n      <td>C2C</td>\n      <td>['動作', '冒險', '奇幻']</td>\n      <td>「你是為了什麼而玩遊戲的？」\\r如果世界上的遊戲有100款神作，那麼也就有存在著1000款糞...</td>\n    </tr>\n    <tr>\n      <th>4</th>\n      <td>魔王 2099</td>\n      <td>https://p2.bahamut.com.tw/B/ACG/c/43/000013124...</td>\n      <td>412000.0</td>\n      <td>5</td>\n      <td>82400.0</td>\n      <td>https://ani.gamer.com.tw/animeRef.php?sn=113662</td>\n      <td>4.9</td>\n      <td>3793.0</td>\n      <td>0.009206</td>\n      <td>2024-10-13</td>\n      <td>紫大悟</td>\n      <td>安藤良</td>\n      <td>木棉花</td>\n      <td>J.C.STAFF</td>\n      <td>['動作', '奇幻', '魔法', '科幻', '職場']</td>\n      <td>這裡是統合曆2099年──新宿市。在被滅亡的500年後，傳說中的魔王「貝爾托爾」再次降臨於發...</td>\n    </tr>\n  </tbody>\n</table>\n</div>"
     },
     "execution_count": 24,
     "metadata": {},
     "output_type": "execute_result"
    }
   ],
   "source": [
    "df_all_anime = pd.read_csv('data/all_anime.csv')\n",
    "df_all_anime.head()"
   ],
   "metadata": {
    "collapsed": false,
    "ExecuteTime": {
     "end_time": "2024-11-15T13:14:08.999793Z",
     "start_time": "2024-11-15T13:14:08.969047Z"
    }
   },
   "id": "92a15d5b1349c4e0"
  },
  {
   "cell_type": "code",
   "execution_count": 25,
   "outputs": [],
   "source": [
    "df_all_anime['intro_feature'] = df_all_anime['intro'].apply(intro_feature_extraction)"
   ],
   "metadata": {
    "collapsed": false,
    "ExecuteTime": {
     "end_time": "2024-11-15T13:16:24.367645Z",
     "start_time": "2024-11-15T13:14:11.159535Z"
    }
   },
   "id": "6a903d972e268d03"
  },
  {
   "cell_type": "code",
   "execution_count": 26,
   "outputs": [
    {
     "data": {
      "text/plain": "                      name                                          thumbnail  \\\n0                    青之壬生浪  https://p2.bahamut.com.tw/B/ACG/c/23/000013552...   \n1                   香蕉喵遊世界  https://p2.bahamut.com.tw/B/ACG/c/00/000014150...   \n2           平凡職業造就世界最強 第三季  https://p2.bahamut.com.tw/B/ACG/c/96/000012709...   \n3  香格里拉・開拓異境～糞作獵手挑戰神作～ 第二季  https://p2.bahamut.com.tw/B/ACG/c/12/000013861...   \n4                  魔王 2099  https://p2.bahamut.com.tw/B/ACG/c/43/000013124...   \n\n   total_view  total_episode  avg_view  \\\n0     36000.0              4    9000.0   \n1     21000.0              8    2625.0   \n2    517000.0              5  103400.0   \n3    848000.0              5  169600.0   \n4    412000.0              5   82400.0   \n\n                                              link  score  score_count  \\\n0  https://ani.gamer.com.tw/animeRef.php?sn=113677    4.8        336.0   \n1  https://ani.gamer.com.tw/animeRef.php?sn=113633    4.7        140.0   \n2  https://ani.gamer.com.tw/animeRef.php?sn=113635    4.9       4173.0   \n3  https://ani.gamer.com.tw/animeRef.php?sn=113665    5.0       6808.0   \n4  https://ani.gamer.com.tw/animeRef.php?sn=113662    4.9       3793.0   \n\n   score_rate first_launched_date    author   director    agent  \\\n0    0.009333          2024-10-19      安田剛士      羽原久美子       曼迪   \n1    0.006667          2024-10-14     Q-LiA        矢立恭  Ani-One   \n2    0.008072          2024-10-14       白米良        岩永彰      木棉花   \n3    0.008028          2024-10-13  硬梨菜、不二涼介  窪岡俊之、池下博紀      木棉花   \n4    0.009206          2024-10-13       紫大悟        安藤良      木棉花   \n\n                           animator                            types  \\\n0                         MAHO FILM               ['青春', '勵志', '歷史']   \n1  TMS Entertainment（第6工作室）×Lesprit      ['溫馨', '悠閒', '泡麵番', '闔家觀賞']   \n2                           asread.  ['動作', '冒險', '奇幻', '異世界', '魔法']   \n3                               C2C               ['動作', '冒險', '奇幻']   \n4                         J.C.STAFF   ['動作', '奇幻', '魔法', '科幻', '職場']   \n\n                                               intro  \\\n0  本作品以約160年前的幕末京都為舞台，描繪新選組的青春物語。因黑船來襲而動亂頻繁的幕末京都裡...   \n1  在某座星球上，誕生了一隻不可思議的生物。牠的名字叫「香蕉喵」，是藏在香蕉裡的神秘小貓咪，沒有...   \n2  南雲始一行人打敗了神之使徒「諾因」，並順利擊退侵略王都的魔人族。在攻略剩餘的兩個大迷宮前，為...   \n3  「你是為了什麼而玩遊戲的？」\\r如果世界上的遊戲有100款神作，那麼也就有存在著1000款糞...   \n4  這裡是統合曆2099年──新宿市。在被滅亡的500年後，傳說中的魔王「貝爾托爾」再次降臨於發...   \n\n                                       intro_feature  \n0  [0.36482474207878113, 0.7688465118408203, 0.90...  \n1  [0.619700014591217, 0.0547364205121994, 0.3429...  \n2  [0.42784765362739563, 0.8475140929222107, 0.77...  \n3  [0.7400757670402527, 0.7505607604980469, 0.541...  \n4  [-0.15343107283115387, 0.6935722231864929, 0.6...  ",
      "text/html": "<div>\n<style scoped>\n    .dataframe tbody tr th:only-of-type {\n        vertical-align: middle;\n    }\n\n    .dataframe tbody tr th {\n        vertical-align: top;\n    }\n\n    .dataframe thead th {\n        text-align: right;\n    }\n</style>\n<table border=\"1\" class=\"dataframe\">\n  <thead>\n    <tr style=\"text-align: right;\">\n      <th></th>\n      <th>name</th>\n      <th>thumbnail</th>\n      <th>total_view</th>\n      <th>total_episode</th>\n      <th>avg_view</th>\n      <th>link</th>\n      <th>score</th>\n      <th>score_count</th>\n      <th>score_rate</th>\n      <th>first_launched_date</th>\n      <th>author</th>\n      <th>director</th>\n      <th>agent</th>\n      <th>animator</th>\n      <th>types</th>\n      <th>intro</th>\n      <th>intro_feature</th>\n    </tr>\n  </thead>\n  <tbody>\n    <tr>\n      <th>0</th>\n      <td>青之壬生浪</td>\n      <td>https://p2.bahamut.com.tw/B/ACG/c/23/000013552...</td>\n      <td>36000.0</td>\n      <td>4</td>\n      <td>9000.0</td>\n      <td>https://ani.gamer.com.tw/animeRef.php?sn=113677</td>\n      <td>4.8</td>\n      <td>336.0</td>\n      <td>0.009333</td>\n      <td>2024-10-19</td>\n      <td>安田剛士</td>\n      <td>羽原久美子</td>\n      <td>曼迪</td>\n      <td>MAHO FILM</td>\n      <td>['青春', '勵志', '歷史']</td>\n      <td>本作品以約160年前的幕末京都為舞台，描繪新選組的青春物語。因黑船來襲而動亂頻繁的幕末京都裡...</td>\n      <td>[0.36482474207878113, 0.7688465118408203, 0.90...</td>\n    </tr>\n    <tr>\n      <th>1</th>\n      <td>香蕉喵遊世界</td>\n      <td>https://p2.bahamut.com.tw/B/ACG/c/00/000014150...</td>\n      <td>21000.0</td>\n      <td>8</td>\n      <td>2625.0</td>\n      <td>https://ani.gamer.com.tw/animeRef.php?sn=113633</td>\n      <td>4.7</td>\n      <td>140.0</td>\n      <td>0.006667</td>\n      <td>2024-10-14</td>\n      <td>Q-LiA</td>\n      <td>矢立恭</td>\n      <td>Ani-One</td>\n      <td>TMS Entertainment（第6工作室）×Lesprit</td>\n      <td>['溫馨', '悠閒', '泡麵番', '闔家觀賞']</td>\n      <td>在某座星球上，誕生了一隻不可思議的生物。牠的名字叫「香蕉喵」，是藏在香蕉裡的神秘小貓咪，沒有...</td>\n      <td>[0.619700014591217, 0.0547364205121994, 0.3429...</td>\n    </tr>\n    <tr>\n      <th>2</th>\n      <td>平凡職業造就世界最強 第三季</td>\n      <td>https://p2.bahamut.com.tw/B/ACG/c/96/000012709...</td>\n      <td>517000.0</td>\n      <td>5</td>\n      <td>103400.0</td>\n      <td>https://ani.gamer.com.tw/animeRef.php?sn=113635</td>\n      <td>4.9</td>\n      <td>4173.0</td>\n      <td>0.008072</td>\n      <td>2024-10-14</td>\n      <td>白米良</td>\n      <td>岩永彰</td>\n      <td>木棉花</td>\n      <td>asread.</td>\n      <td>['動作', '冒險', '奇幻', '異世界', '魔法']</td>\n      <td>南雲始一行人打敗了神之使徒「諾因」，並順利擊退侵略王都的魔人族。在攻略剩餘的兩個大迷宮前，為...</td>\n      <td>[0.42784765362739563, 0.8475140929222107, 0.77...</td>\n    </tr>\n    <tr>\n      <th>3</th>\n      <td>香格里拉・開拓異境～糞作獵手挑戰神作～ 第二季</td>\n      <td>https://p2.bahamut.com.tw/B/ACG/c/12/000013861...</td>\n      <td>848000.0</td>\n      <td>5</td>\n      <td>169600.0</td>\n      <td>https://ani.gamer.com.tw/animeRef.php?sn=113665</td>\n      <td>5.0</td>\n      <td>6808.0</td>\n      <td>0.008028</td>\n      <td>2024-10-13</td>\n      <td>硬梨菜、不二涼介</td>\n      <td>窪岡俊之、池下博紀</td>\n      <td>木棉花</td>\n      <td>C2C</td>\n      <td>['動作', '冒險', '奇幻']</td>\n      <td>「你是為了什麼而玩遊戲的？」\\r如果世界上的遊戲有100款神作，那麼也就有存在著1000款糞...</td>\n      <td>[0.7400757670402527, 0.7505607604980469, 0.541...</td>\n    </tr>\n    <tr>\n      <th>4</th>\n      <td>魔王 2099</td>\n      <td>https://p2.bahamut.com.tw/B/ACG/c/43/000013124...</td>\n      <td>412000.0</td>\n      <td>5</td>\n      <td>82400.0</td>\n      <td>https://ani.gamer.com.tw/animeRef.php?sn=113662</td>\n      <td>4.9</td>\n      <td>3793.0</td>\n      <td>0.009206</td>\n      <td>2024-10-13</td>\n      <td>紫大悟</td>\n      <td>安藤良</td>\n      <td>木棉花</td>\n      <td>J.C.STAFF</td>\n      <td>['動作', '奇幻', '魔法', '科幻', '職場']</td>\n      <td>這裡是統合曆2099年──新宿市。在被滅亡的500年後，傳說中的魔王「貝爾托爾」再次降臨於發...</td>\n      <td>[-0.15343107283115387, 0.6935722231864929, 0.6...</td>\n    </tr>\n  </tbody>\n</table>\n</div>"
     },
     "execution_count": 26,
     "metadata": {},
     "output_type": "execute_result"
    }
   ],
   "source": [
    "df_all_anime.head()"
   ],
   "metadata": {
    "collapsed": false,
    "ExecuteTime": {
     "end_time": "2024-11-15T13:16:24.377905Z",
     "start_time": "2024-11-15T13:16:24.375433Z"
    }
   },
   "id": "d484fb30e6d22970"
  },
  {
   "cell_type": "code",
   "execution_count": 28,
   "outputs": [
    {
     "data": {
      "text/plain": "                      name                                              intro  \\\n0                    青之壬生浪  本作品以約160年前的幕末京都為舞台，描繪新選組的青春物語。因黑船來襲而動亂頻繁的幕末京都裡...   \n1                   香蕉喵遊世界  在某座星球上，誕生了一隻不可思議的生物。牠的名字叫「香蕉喵」，是藏在香蕉裡的神秘小貓咪，沒有...   \n2           平凡職業造就世界最強 第三季  南雲始一行人打敗了神之使徒「諾因」，並順利擊退侵略王都的魔人族。在攻略剩餘的兩個大迷宮前，為...   \n3  香格里拉・開拓異境～糞作獵手挑戰神作～ 第二季  「你是為了什麼而玩遊戲的？」\\r如果世界上的遊戲有100款神作，那麼也就有存在著1000款糞...   \n4                  魔王 2099  這裡是統合曆2099年──新宿市。在被滅亡的500年後，傳說中的魔王「貝爾托爾」再次降臨於發...   \n\n                                       intro_feature  \n0  [0.36482474207878113, 0.7688465118408203, 0.90...  \n1  [0.619700014591217, 0.0547364205121994, 0.3429...  \n2  [0.42784765362739563, 0.8475140929222107, 0.77...  \n3  [0.7400757670402527, 0.7505607604980469, 0.541...  \n4  [-0.15343107283115387, 0.6935722231864929, 0.6...  ",
      "text/html": "<div>\n<style scoped>\n    .dataframe tbody tr th:only-of-type {\n        vertical-align: middle;\n    }\n\n    .dataframe tbody tr th {\n        vertical-align: top;\n    }\n\n    .dataframe thead th {\n        text-align: right;\n    }\n</style>\n<table border=\"1\" class=\"dataframe\">\n  <thead>\n    <tr style=\"text-align: right;\">\n      <th></th>\n      <th>name</th>\n      <th>intro</th>\n      <th>intro_feature</th>\n    </tr>\n  </thead>\n  <tbody>\n    <tr>\n      <th>0</th>\n      <td>青之壬生浪</td>\n      <td>本作品以約160年前的幕末京都為舞台，描繪新選組的青春物語。因黑船來襲而動亂頻繁的幕末京都裡...</td>\n      <td>[0.36482474207878113, 0.7688465118408203, 0.90...</td>\n    </tr>\n    <tr>\n      <th>1</th>\n      <td>香蕉喵遊世界</td>\n      <td>在某座星球上，誕生了一隻不可思議的生物。牠的名字叫「香蕉喵」，是藏在香蕉裡的神秘小貓咪，沒有...</td>\n      <td>[0.619700014591217, 0.0547364205121994, 0.3429...</td>\n    </tr>\n    <tr>\n      <th>2</th>\n      <td>平凡職業造就世界最強 第三季</td>\n      <td>南雲始一行人打敗了神之使徒「諾因」，並順利擊退侵略王都的魔人族。在攻略剩餘的兩個大迷宮前，為...</td>\n      <td>[0.42784765362739563, 0.8475140929222107, 0.77...</td>\n    </tr>\n    <tr>\n      <th>3</th>\n      <td>香格里拉・開拓異境～糞作獵手挑戰神作～ 第二季</td>\n      <td>「你是為了什麼而玩遊戲的？」\\r如果世界上的遊戲有100款神作，那麼也就有存在著1000款糞...</td>\n      <td>[0.7400757670402527, 0.7505607604980469, 0.541...</td>\n    </tr>\n    <tr>\n      <th>4</th>\n      <td>魔王 2099</td>\n      <td>這裡是統合曆2099年──新宿市。在被滅亡的500年後，傳說中的魔王「貝爾托爾」再次降臨於發...</td>\n      <td>[-0.15343107283115387, 0.6935722231864929, 0.6...</td>\n    </tr>\n  </tbody>\n</table>\n</div>"
     },
     "execution_count": 28,
     "metadata": {},
     "output_type": "execute_result"
    }
   ],
   "source": [
    "df_intro = df_all_anime[['name', 'intro', 'intro_feature']].dropna(ignore_index=True)\n",
    "df_intro.head()"
   ],
   "metadata": {
    "collapsed": false,
    "ExecuteTime": {
     "end_time": "2024-11-15T13:17:34.191909Z",
     "start_time": "2024-11-15T13:17:34.185363Z"
    }
   },
   "id": "74a2dc5f02341e6f"
  },
  {
   "cell_type": "code",
   "execution_count": 37,
   "outputs": [
    {
     "data": {
      "text/plain": "array([[ 0.36482474,  0.76884651,  0.90308213, ..., -1.18455124,\n        -0.38091949, -0.17436117],\n       [ 0.61970001,  0.05473642,  0.34294593, ..., -0.42090085,\n        -0.36328405,  0.22187349],\n       [ 0.42784765,  0.84751409,  0.773552  , ..., -1.27783716,\n        -0.2895748 , -0.25041488],\n       ...,\n       [-0.21834737,  0.62666517,  0.69224459, ..., -0.66052604,\n        -0.5069378 ,  0.1752315 ],\n       [ 0.79407352,  1.14008629,  1.31402373, ..., -0.64428401,\n        -0.3424871 ,  0.3298296 ],\n       [ 0.61400288,  1.09044933,  1.12106097, ..., -0.86272717,\n        -0.11499245,  0.31174421]])"
     },
     "execution_count": 37,
     "metadata": {},
     "output_type": "execute_result"
    }
   ],
   "source": [
    "# Extract feature vectors as a 2D array\n",
    "df_sub = df_intro[:100]\n",
    "features = np.vstack(df_sub['intro_feature'])\n",
    "features"
   ],
   "metadata": {
    "collapsed": false,
    "ExecuteTime": {
     "end_time": "2024-11-15T13:30:16.862896Z",
     "start_time": "2024-11-15T13:30:16.851221Z"
    }
   },
   "id": "37db94b9c7efefd4"
  },
  {
   "cell_type": "code",
   "execution_count": 38,
   "outputs": [
    {
     "data": {
      "text/plain": "array([[-1.33226763e-15,  2.17102483e-01,  1.30036097e-01, ...,\n         1.36179064e-01,  1.01805028e-01,  1.26295645e-01],\n       [ 2.17102483e-01, -8.88178420e-16,  1.99758361e-01, ...,\n         1.81526910e-01,  1.78018528e-01,  1.90947200e-01],\n       [ 1.30036097e-01,  1.99758361e-01, -1.33226763e-15, ...,\n         1.35230466e-01,  1.30171497e-01,  1.23414383e-01],\n       ...,\n       [ 1.36179064e-01,  1.81526910e-01,  1.35230466e-01, ...,\n        -6.66133815e-16,  1.35147996e-01,  1.37847229e-01],\n       [ 1.01805028e-01,  1.78018528e-01,  1.30171497e-01, ...,\n         1.35147996e-01, -1.33226763e-15,  1.27895552e-01],\n       [ 1.26295645e-01,  1.90947200e-01,  1.23414383e-01, ...,\n         1.37847229e-01,  1.27895552e-01, -1.33226763e-15]])"
     },
     "execution_count": 38,
     "metadata": {},
     "output_type": "execute_result"
    }
   ],
   "source": [
    "# Calculate cosine similarity\n",
    "cosine_sim = cosine_similarity(features)\n",
    "\n",
    "# Convert to distance matrix\n",
    "distance_matrix = 1 - cosine_sim\n",
    "distance_matrix"
   ],
   "metadata": {
    "collapsed": false,
    "ExecuteTime": {
     "end_time": "2024-11-15T13:30:18.284413Z",
     "start_time": "2024-11-15T13:30:18.272282Z"
    }
   },
   "id": "f40ed1b96b9534e3"
  },
  {
   "cell_type": "code",
   "execution_count": 39,
   "outputs": [
    {
     "name": "stderr",
     "output_type": "stream",
     "text": [
      "/var/folders/0d/b1lxqvt94r7dnl9q4nxqz6tw0000gn/T/ipykernel_4522/782947357.py:6: SettingWithCopyWarning: \n",
      "A value is trying to be set on a copy of a slice from a DataFrame.\n",
      "Try using .loc[row_indexer,col_indexer] = value instead\n",
      "\n",
      "See the caveats in the documentation: https://pandas.pydata.org/pandas-docs/stable/user_guide/indexing.html#returning-a-view-versus-a-copy\n",
      "  df_sub['x'] = mds_coords[:, 0]\n",
      "/var/folders/0d/b1lxqvt94r7dnl9q4nxqz6tw0000gn/T/ipykernel_4522/782947357.py:7: SettingWithCopyWarning: \n",
      "A value is trying to be set on a copy of a slice from a DataFrame.\n",
      "Try using .loc[row_indexer,col_indexer] = value instead\n",
      "\n",
      "See the caveats in the documentation: https://pandas.pydata.org/pandas-docs/stable/user_guide/indexing.html#returning-a-view-versus-a-copy\n",
      "  df_sub['y'] = mds_coords[:, 1]\n"
     ]
    }
   ],
   "source": [
    "# Apply MDS\n",
    "mds = MDS(n_components=2, dissimilarity=\"precomputed\", random_state=42)\n",
    "mds_coords = mds.fit_transform(distance_matrix)\n",
    "\n",
    "# Add the 2D coordinates to the DataFrame\n",
    "df_sub['x'] = mds_coords[:, 0]\n",
    "df_sub['y'] = mds_coords[:, 1]"
   ],
   "metadata": {
    "collapsed": false,
    "ExecuteTime": {
     "end_time": "2024-11-15T13:30:27.365046Z",
     "start_time": "2024-11-15T13:30:27.304342Z"
    }
   },
   "id": "4c4fc84d6d21199c"
  },
  {
   "cell_type": "code",
   "execution_count": 40,
   "outputs": [
    {
     "data": {
      "text/plain": "<Figure size 1000x600 with 1 Axes>",
      "image/png": "[encoded data removed]"
     },
     "metadata": {},
     "output_type": "display_data"
    }
   ],
   "source": [
    "# Plot the MDS results\n",
    "plt.figure(figsize=(10, 6))\n",
    "plt.scatter(df_sub['x'], df_sub['y'], s=50, c='blue', alpha=0.7)\n",
    "\n",
    "# Annotate points with anime names\n",
    "for i, name in enumerate(df_sub['name']):\n",
    "    plt.text(df_sub['x'][i], df_sub['y'][i], i, fontsize=9)\n",
    "\n",
    "plt.title(\"MDS Visualization of Anime Intros\")\n",
    "plt.xlabel(\"Dimension 1\")\n",
    "plt.ylabel(\"Dimension 2\")\n",
    "plt.grid(True)\n",
    "plt.show()"
   ],
   "metadata": {
    "collapsed": false,
    "ExecuteTime": {
     "end_time": "2024-11-15T13:30:55.066028Z",
     "start_time": "2024-11-15T13:30:54.968513Z"
    }
   },
   "id": "5c68ee3c49ebc993"
  },
  {
   "cell_type": "code",
   "execution_count": 93,
   "outputs": [
    {
     "data": {
      "text/plain": "np.float64(0.8241626157277845)"
     },
     "execution_count": 93,
     "metadata": {},
     "output_type": "execute_result"
    }
   ],
   "source": [
    "cosine_sim[29, 90]"
   ],
   "metadata": {
    "collapsed": false,
    "ExecuteTime": {
     "end_time": "2024-11-15T14:19:56.953070Z",
     "start_time": "2024-11-15T14:19:56.945078Z"
    }
   },
   "id": "23a928128b6fc16f"
  },
  {
   "cell_type": "code",
   "execution_count": 94,
   "outputs": [
    {
     "data": {
      "text/plain": "         name                                              intro  \\\n29      一兆＄遊戲  阿陽是個狡猾且頭腦靈活的人，而阿學則是個性格內向、不擅長與人交談的電腦迷。這兩個性格完全相反...   \n90  聲優廣播的幕前幕後  「夕陽與～」「夜澄的！...預備——」「高中生廣播～！」　\\r碰巧就讀同一間高中的好姊妹聲優...   \n\n                                        intro_feature         x         y  \n29  [0.7174503207206726, 0.3652258515357971, 0.631...  0.008981 -0.128756  \n90  [0.669806718826294, 1.0578798055648804, 0.2169...  0.018562 -0.140200  ",
      "text/html": "<div>\n<style scoped>\n    .dataframe tbody tr th:only-of-type {\n        vertical-align: middle;\n    }\n\n    .dataframe tbody tr th {\n        vertical-align: top;\n    }\n\n    .dataframe thead th {\n        text-align: right;\n    }\n</style>\n<table border=\"1\" class=\"dataframe\">\n  <thead>\n    <tr style=\"text-align: right;\">\n      <th></th>\n      <th>name</th>\n      <th>intro</th>\n      <th>intro_feature</th>\n      <th>x</th>\n      <th>y</th>\n    </tr>\n  </thead>\n  <tbody>\n    <tr>\n      <th>29</th>\n      <td>一兆＄遊戲</td>\n      <td>阿陽是個狡猾且頭腦靈活的人，而阿學則是個性格內向、不擅長與人交談的電腦迷。這兩個性格完全相反...</td>\n      <td>[0.7174503207206726, 0.3652258515357971, 0.631...</td>\n      <td>0.008981</td>\n      <td>-0.128756</td>\n    </tr>\n    <tr>\n      <th>90</th>\n      <td>聲優廣播的幕前幕後</td>\n      <td>「夕陽與～」「夜澄的！...預備——」「高中生廣播～！」　\\r碰巧就讀同一間高中的好姊妹聲優...</td>\n      <td>[0.669806718826294, 1.0578798055648804, 0.2169...</td>\n      <td>0.018562</td>\n      <td>-0.140200</td>\n    </tr>\n  </tbody>\n</table>\n</div>"
     },
     "execution_count": 94,
     "metadata": {},
     "output_type": "execute_result"
    }
   ],
   "source": [
    "df_sub.iloc[[29, 90]]"
   ],
   "metadata": {
    "collapsed": false,
    "ExecuteTime": {
     "end_time": "2024-11-15T14:20:03.289988Z",
     "start_time": "2024-11-15T14:20:03.286375Z"
    }
   },
   "id": "3831e2a5d955a7fd"
  },
  {
   "cell_type": "code",
   "execution_count": 91,
   "outputs": [
    {
     "data": {
      "text/plain": "'傳說中的牛媽又回來啦！\\r「農家的常識並非社會的常識」荒川弘在成為漫畫家之前，於北海道老家當了七年的酪農兼農民。全年無休的工作，專職養牛和種菜。過著怕被熊咬，被蝦夷縞栗鼠耍得團團轉的日常生活。她將繼續讓你掌握日本酪農與農業辛酸的現實狀況，同時見識到揮灑汗水賣力工作的成年人（有時是兒童），充滿歡笑與活力滿點的酷炫生活方式！'"
     },
     "execution_count": 91,
     "metadata": {},
     "output_type": "execute_result"
    }
   ],
   "source": [
    "df_sub.loc[27, 'intro']"
   ],
   "metadata": {
    "collapsed": false,
    "ExecuteTime": {
     "end_time": "2024-11-15T14:18:55.214543Z",
     "start_time": "2024-11-15T14:18:55.210441Z"
    }
   },
   "id": "990ec6e77c3a7f76"
  },
  {
   "cell_type": "code",
   "execution_count": 92,
   "outputs": [
    {
     "data": {
      "text/plain": "'因工作繁忙而沒有多餘心力做家事的小杉拓馬，在回收店買了一台家務機器人米娜。原本以為買回來的只是一台「不具感情」的家事機器人，沒想到在拓馬一次出於真心的醉話「你願意做我的妻子嗎？」之後，米娜開始出現異常的行為……。機器人是否真的不會具有感情，也沒有「心靈」可言？因見面與言語的命運邂逅，由此開始了孤單成年男子與家電機器人的溫暖互動。'"
     },
     "execution_count": 92,
     "metadata": {},
     "output_type": "execute_result"
    }
   ],
   "source": [
    "df_sub.loc[77, 'intro']"
   ],
   "metadata": {
    "collapsed": false,
    "ExecuteTime": {
     "end_time": "2024-11-15T14:18:58.090956Z",
     "start_time": "2024-11-15T14:18:58.088300Z"
    }
   },
   "id": "7906650b5eb5b247"
  },
  {
   "cell_type": "code",
   "execution_count": 54,
   "outputs": [
    {
     "data": {
      "text/plain": "0                       青之壬生浪\n1                      香蕉喵遊世界\n2              平凡職業造就世界最強 第三季\n3     香格里拉・開拓異境～糞作獵手挑戰神作～ 第二季\n4                     魔王 2099\n               ...           \n95               死神少爺與黑女僕 第三季\n96              轉生貴族憑鑑定技能扭轉人生\n97         蔚藍檔案 The Animation\n98                  夜晚的水母不會游泳\n99                     夜櫻家大作戰\nName: name, Length: 100, dtype: object"
     },
     "execution_count": 54,
     "metadata": {},
     "output_type": "execute_result"
    }
   ],
   "source": [
    "df_sub['name']"
   ],
   "metadata": {
    "collapsed": false,
    "ExecuteTime": {
     "end_time": "2024-11-15T13:38:18.584031Z",
     "start_time": "2024-11-15T13:38:18.576580Z"
    }
   },
   "id": "601c99086f5a71b7"
  }
 ],
 "metadata": {
  "kernelspec": {
   "display_name": "Python 3",
   "language": "python",
   "name": "python3"
  },
  "language_info": {
   "codemirror_mode": {
    "name": "ipython",
    "version": 2
   },
   "file_extension": ".py",
   "mimetype": "text/x-python",
   "name": "python",
   "nbconvert_exporter": "python",
   "pygments_lexer": "ipython2",
   "version": "2.7.6"
  }
 },
 "nbformat": 4,
 "nbformat_minor": 5
}
