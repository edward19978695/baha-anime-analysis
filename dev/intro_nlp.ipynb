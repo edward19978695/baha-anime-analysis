{
 "cells": [
  {
   "cell_type": "code",
   "execution_count": 1,
   "id": "initial_id",
   "metadata": {
    "collapsed": true,
    "ExecuteTime": {
     "end_time": "2024-11-19T09:16:28.682392Z",
     "start_time": "2024-11-19T09:16:28.676250Z"
    }
   },
   "outputs": [
    {
     "data": {
      "text/plain": "'/Users/edwardchiu/Desktop/projects/baha-anime-analysis'"
     },
     "execution_count": 1,
     "metadata": {},
     "output_type": "execute_result"
    }
   ],
   "source": [
    "import os\n",
    "\n",
    "os.chdir('/Users/edwardchiu/Desktop/projects/baha-anime-analysis')\n",
    "os.getcwd()"
   ]
  },
  {
   "cell_type": "code",
   "execution_count": 2,
   "outputs": [],
   "source": [
    "from sklearn.metrics.pairwise import cosine_similarity\n",
    "from sklearn.manifold import MDS\n",
    "import matplotlib.pyplot as plt"
   ],
   "metadata": {
    "collapsed": false,
    "ExecuteTime": {
     "end_time": "2024-11-19T09:16:30.091112Z",
     "start_time": "2024-11-19T09:16:28.894380Z"
    }
   },
   "id": "8abf88dc3384e5a1"
  },
  {
   "cell_type": "code",
   "execution_count": 3,
   "outputs": [],
   "source": [
    "import yaml\n",
    "import requests\n",
    "from bs4 import BeautifulSoup\n",
    "import numpy as np\n",
    "import pandas as pd"
   ],
   "metadata": {
    "collapsed": false,
    "ExecuteTime": {
     "end_time": "2024-11-19T09:16:30.370629Z",
     "start_time": "2024-11-19T09:16:30.292290Z"
    }
   },
   "id": "c25fbd09507673f7"
  },
  {
   "cell_type": "code",
   "execution_count": 4,
   "outputs": [],
   "source": [
    "from transformers import BertTokenizer, BertModel\n",
    "import torch\n",
    "\n",
    "# Load the tokenizer and model\n",
    "tokenizer = BertTokenizer.from_pretrained(\"hfl/chinese-roberta-wwm-ext\")\n",
    "model = BertModel.from_pretrained(\"hfl/chinese-roberta-wwm-ext\")"
   ],
   "metadata": {
    "collapsed": false,
    "ExecuteTime": {
     "end_time": "2024-11-19T09:16:36.112539Z",
     "start_time": "2024-11-19T09:16:31.338731Z"
    }
   },
   "id": "e681f7f3d30b470"
  },
  {
   "cell_type": "code",
   "execution_count": null,
   "outputs": [],
   "source": [
    "with open('conf/app.yml') as f:\n",
    "    app_config = yaml.safe_load(f)"
   ],
   "metadata": {
    "collapsed": false
   },
   "id": "e27f9f2962bde242"
  },
  {
   "cell_type": "code",
   "execution_count": null,
   "outputs": [],
   "source": [
    "url = 'https://ani.gamer.com.tw/animeVideo.php?sn=40525'\n",
    "user_agent = app_config['website']['user_agent']\n",
    "# ua = UserAgent()\n",
    "# user_agent = ua.random\n",
    "headers = {'User-Agent': user_agent}"
   ],
   "metadata": {
    "collapsed": false
   },
   "id": "ce621647ff688d49"
  },
  {
   "cell_type": "code",
   "execution_count": null,
   "outputs": [],
   "source": [
    "req = requests.get(url, headers=headers)\n",
    "req"
   ],
   "metadata": {
    "collapsed": false
   },
   "id": "bbdd822742fd18e3"
  },
  {
   "cell_type": "code",
   "execution_count": null,
   "outputs": [],
   "source": [
    "soup = BeautifulSoup(req.text, 'html.parser')"
   ],
   "metadata": {
    "collapsed": false
   },
   "id": "ea16246546389de6"
  },
  {
   "cell_type": "code",
   "execution_count": null,
   "outputs": [],
   "source": [
    "soup.select_one('.ACG-box1listB > li > a')"
   ],
   "metadata": {
    "collapsed": false
   },
   "id": "70ea65a0ffbfe2c8"
  },
  {
   "cell_type": "code",
   "execution_count": null,
   "outputs": [],
   "source": [
    "intro = soup.select_one('.data-intro > p').text"
   ],
   "metadata": {
    "collapsed": false
   },
   "id": "59862f3c051608f6"
  },
  {
   "cell_type": "code",
   "execution_count": null,
   "outputs": [],
   "source": [
    "intro.split('\\r＜')[0].strip()"
   ],
   "metadata": {
    "collapsed": false
   },
   "id": "b17e72341e8d69ff"
  },
  {
   "cell_type": "code",
   "execution_count": null,
   "outputs": [],
   "source": [
    "# Tokenize and encode the input text\n",
    "inputs = tokenizer(intro, return_tensors=\"pt\", truncation=True, max_length=512)\n",
    "outputs = model(**inputs)"
   ],
   "metadata": {
    "collapsed": false
   },
   "id": "73e1f48b766bee4d"
  },
  {
   "cell_type": "code",
   "execution_count": null,
   "outputs": [],
   "source": [
    "outputs"
   ],
   "metadata": {
    "collapsed": false
   },
   "id": "d4f91572c1cfc626"
  },
  {
   "cell_type": "code",
   "execution_count": null,
   "outputs": [],
   "source": [
    "# Get the hidden states\n",
    "hidden_states = outputs.last_hidden_state"
   ],
   "metadata": {
    "collapsed": false
   },
   "id": "fba544246f4ad504"
  },
  {
   "cell_type": "code",
   "execution_count": null,
   "outputs": [],
   "source": [
    "# Take the embedding of the [CLS] token (first token)\n",
    "cls_embedding = hidden_states[:, 0, :]  # Shape: (batch_size, hidden_dim)"
   ],
   "metadata": {
    "collapsed": false
   },
   "id": "7f657c08917bcfdc"
  },
  {
   "cell_type": "code",
   "execution_count": null,
   "outputs": [],
   "source": [
    "cls_embedding.squeeze().detach().tolist()"
   ],
   "metadata": {
    "collapsed": false
   },
   "id": "b7e8b043d8d3614b"
  },
  {
   "cell_type": "code",
   "execution_count": 5,
   "outputs": [],
   "source": [
    "def intro_feature_extraction(intro):\n",
    "    try:\n",
    "        # Tokenize and encode the input text\n",
    "        inputs = tokenizer(intro, return_tensors=\"pt\", truncation=True, max_length=512)\n",
    "        outputs = model(**inputs)\n",
    "\n",
    "        # Get the hidden states\n",
    "        hidden_states = outputs.last_hidden_state\n",
    "\n",
    "        # Take the embedding of the [CLS] token (first token)\n",
    "        cls_embedding = hidden_states[:, 0, :]  # Shape: (batch_size, hidden_dim)\n",
    "        feature = cls_embedding.squeeze().detach().tolist()\n",
    "        return feature\n",
    "    except:\n",
    "        return None"
   ],
   "metadata": {
    "collapsed": false,
    "ExecuteTime": {
     "end_time": "2024-11-19T09:16:43.755118Z",
     "start_time": "2024-11-19T09:16:43.744806Z"
    }
   },
   "id": "54baf25a2a468d86"
  },
  {
   "cell_type": "code",
   "execution_count": 6,
   "outputs": [
    {
     "data": {
      "text/plain": "                      name                                          thumbnail  \\\n0                    青之壬生浪  https://p2.bahamut.com.tw/B/ACG/c/23/000013552...   \n1                   香蕉喵遊世界  https://p2.bahamut.com.tw/B/ACG/c/00/000014150...   \n2           平凡職業造就世界最強 第三季  https://p2.bahamut.com.tw/B/ACG/c/96/000012709...   \n3  香格里拉・開拓異境～糞作獵手挑戰神作～ 第二季  https://p2.bahamut.com.tw/B/ACG/c/12/000013861...   \n4                  魔王 2099  https://p2.bahamut.com.tw/B/ACG/c/43/000013124...   \n\n   total_view  total_episode  avg_view  \\\n0     36000.0              4    9000.0   \n1     21000.0              8    2625.0   \n2    517000.0              5  103400.0   \n3    848000.0              5  169600.0   \n4    412000.0              5   82400.0   \n\n                                              link  score  score_count  \\\n0  https://ani.gamer.com.tw/animeRef.php?sn=113677    4.8        336.0   \n1  https://ani.gamer.com.tw/animeRef.php?sn=113633    4.7        140.0   \n2  https://ani.gamer.com.tw/animeRef.php?sn=113635    4.9       4173.0   \n3  https://ani.gamer.com.tw/animeRef.php?sn=113665    5.0       6808.0   \n4  https://ani.gamer.com.tw/animeRef.php?sn=113662    4.9       3793.0   \n\n   score_rate first_launched_date    author   director    agent  \\\n0    0.009333          2024-10-19      安田剛士      羽原久美子       曼迪   \n1    0.006667          2024-10-14     Q-LiA        矢立恭  Ani-One   \n2    0.008072          2024-10-14       白米良        岩永彰      木棉花   \n3    0.008028          2024-10-13  硬梨菜、不二涼介  窪岡俊之、池下博紀      木棉花   \n4    0.009206          2024-10-13       紫大悟        安藤良      木棉花   \n\n                           animator                            types  \\\n0                         MAHO FILM               ['青春', '勵志', '歷史']   \n1  TMS Entertainment（第6工作室）×Lesprit      ['溫馨', '悠閒', '泡麵番', '闔家觀賞']   \n2                           asread.  ['動作', '冒險', '奇幻', '異世界', '魔法']   \n3                               C2C               ['動作', '冒險', '奇幻']   \n4                         J.C.STAFF   ['動作', '奇幻', '魔法', '科幻', '職場']   \n\n                                               intro  \n0  本作品以約160年前的幕末京都為舞台，描繪新選組的青春物語。因黑船來襲而動亂頻繁的幕末京都裡...  \n1  在某座星球上，誕生了一隻不可思議的生物。牠的名字叫「香蕉喵」，是藏在香蕉裡的神秘小貓咪，沒有...  \n2  南雲始一行人打敗了神之使徒「諾因」，並順利擊退侵略王都的魔人族。在攻略剩餘的兩個大迷宮前，為...  \n3  「你是為了什麼而玩遊戲的？」\\r如果世界上的遊戲有100款神作，那麼也就有存在著1000款糞...  \n4  這裡是統合曆2099年──新宿市。在被滅亡的500年後，傳說中的魔王「貝爾托爾」再次降臨於發...  ",
      "text/html": "<div>\n<style scoped>\n    .dataframe tbody tr th:only-of-type {\n        vertical-align: middle;\n    }\n\n    .dataframe tbody tr th {\n        vertical-align: top;\n    }\n\n    .dataframe thead th {\n        text-align: right;\n    }\n</style>\n<table border=\"1\" class=\"dataframe\">\n  <thead>\n    <tr style=\"text-align: right;\">\n      <th></th>\n      <th>name</th>\n      <th>thumbnail</th>\n      <th>total_view</th>\n      <th>total_episode</th>\n      <th>avg_view</th>\n      <th>link</th>\n      <th>score</th>\n      <th>score_count</th>\n      <th>score_rate</th>\n      <th>first_launched_date</th>\n      <th>author</th>\n      <th>director</th>\n      <th>agent</th>\n      <th>animator</th>\n      <th>types</th>\n      <th>intro</th>\n    </tr>\n  </thead>\n  <tbody>\n    <tr>\n      <th>0</th>\n      <td>青之壬生浪</td>\n      <td>https://p2.bahamut.com.tw/B/ACG/c/23/000013552...</td>\n      <td>36000.0</td>\n      <td>4</td>\n      <td>9000.0</td>\n      <td>https://ani.gamer.com.tw/animeRef.php?sn=113677</td>\n      <td>4.8</td>\n      <td>336.0</td>\n      <td>0.009333</td>\n      <td>2024-10-19</td>\n      <td>安田剛士</td>\n      <td>羽原久美子</td>\n      <td>曼迪</td>\n      <td>MAHO FILM</td>\n      <td>['青春', '勵志', '歷史']</td>\n      <td>本作品以約160年前的幕末京都為舞台，描繪新選組的青春物語。因黑船來襲而動亂頻繁的幕末京都裡...</td>\n    </tr>\n    <tr>\n      <th>1</th>\n      <td>香蕉喵遊世界</td>\n      <td>https://p2.bahamut.com.tw/B/ACG/c/00/000014150...</td>\n      <td>21000.0</td>\n      <td>8</td>\n      <td>2625.0</td>\n      <td>https://ani.gamer.com.tw/animeRef.php?sn=113633</td>\n      <td>4.7</td>\n      <td>140.0</td>\n      <td>0.006667</td>\n      <td>2024-10-14</td>\n      <td>Q-LiA</td>\n      <td>矢立恭</td>\n      <td>Ani-One</td>\n      <td>TMS Entertainment（第6工作室）×Lesprit</td>\n      <td>['溫馨', '悠閒', '泡麵番', '闔家觀賞']</td>\n      <td>在某座星球上，誕生了一隻不可思議的生物。牠的名字叫「香蕉喵」，是藏在香蕉裡的神秘小貓咪，沒有...</td>\n    </tr>\n    <tr>\n      <th>2</th>\n      <td>平凡職業造就世界最強 第三季</td>\n      <td>https://p2.bahamut.com.tw/B/ACG/c/96/000012709...</td>\n      <td>517000.0</td>\n      <td>5</td>\n      <td>103400.0</td>\n      <td>https://ani.gamer.com.tw/animeRef.php?sn=113635</td>\n      <td>4.9</td>\n      <td>4173.0</td>\n      <td>0.008072</td>\n      <td>2024-10-14</td>\n      <td>白米良</td>\n      <td>岩永彰</td>\n      <td>木棉花</td>\n      <td>asread.</td>\n      <td>['動作', '冒險', '奇幻', '異世界', '魔法']</td>\n      <td>南雲始一行人打敗了神之使徒「諾因」，並順利擊退侵略王都的魔人族。在攻略剩餘的兩個大迷宮前，為...</td>\n    </tr>\n    <tr>\n      <th>3</th>\n      <td>香格里拉・開拓異境～糞作獵手挑戰神作～ 第二季</td>\n      <td>https://p2.bahamut.com.tw/B/ACG/c/12/000013861...</td>\n      <td>848000.0</td>\n      <td>5</td>\n      <td>169600.0</td>\n      <td>https://ani.gamer.com.tw/animeRef.php?sn=113665</td>\n      <td>5.0</td>\n      <td>6808.0</td>\n      <td>0.008028</td>\n      <td>2024-10-13</td>\n      <td>硬梨菜、不二涼介</td>\n      <td>窪岡俊之、池下博紀</td>\n      <td>木棉花</td>\n      <td>C2C</td>\n      <td>['動作', '冒險', '奇幻']</td>\n      <td>「你是為了什麼而玩遊戲的？」\\r如果世界上的遊戲有100款神作，那麼也就有存在著1000款糞...</td>\n    </tr>\n    <tr>\n      <th>4</th>\n      <td>魔王 2099</td>\n      <td>https://p2.bahamut.com.tw/B/ACG/c/43/000013124...</td>\n      <td>412000.0</td>\n      <td>5</td>\n      <td>82400.0</td>\n      <td>https://ani.gamer.com.tw/animeRef.php?sn=113662</td>\n      <td>4.9</td>\n      <td>3793.0</td>\n      <td>0.009206</td>\n      <td>2024-10-13</td>\n      <td>紫大悟</td>\n      <td>安藤良</td>\n      <td>木棉花</td>\n      <td>J.C.STAFF</td>\n      <td>['動作', '奇幻', '魔法', '科幻', '職場']</td>\n      <td>這裡是統合曆2099年──新宿市。在被滅亡的500年後，傳說中的魔王「貝爾托爾」再次降臨於發...</td>\n    </tr>\n  </tbody>\n</table>\n</div>"
     },
     "execution_count": 6,
     "metadata": {},
     "output_type": "execute_result"
    }
   ],
   "source": [
    "df_all_anime = pd.read_csv('data/all_anime.csv')\n",
    "df_all_anime.head()"
   ],
   "metadata": {
    "collapsed": false,
    "ExecuteTime": {
     "end_time": "2024-11-19T09:16:52.062669Z",
     "start_time": "2024-11-19T09:16:52.019667Z"
    }
   },
   "id": "92a15d5b1349c4e0"
  },
  {
   "cell_type": "code",
   "execution_count": 48,
   "outputs": [],
   "source": [
    "df_all_anime['intro'] = df_all_anime['intro'].fillna(df_all_anime['name'])\n",
    "df_all_anime['intro_feature'] = df_all_anime['intro'].apply(intro_feature_extraction)"
   ],
   "metadata": {
    "collapsed": false,
    "ExecuteTime": {
     "end_time": "2024-11-19T10:29:25.240607Z",
     "start_time": "2024-11-19T10:26:59.742129Z"
    }
   },
   "id": "6a903d972e268d03"
  },
  {
   "cell_type": "code",
   "execution_count": 50,
   "outputs": [
    {
     "data": {
      "text/plain": "                      name                                          thumbnail  \\\n0                    青之壬生浪  https://p2.bahamut.com.tw/B/ACG/c/23/000013552...   \n1                   香蕉喵遊世界  https://p2.bahamut.com.tw/B/ACG/c/00/000014150...   \n2           平凡職業造就世界最強 第三季  https://p2.bahamut.com.tw/B/ACG/c/96/000012709...   \n3  香格里拉・開拓異境～糞作獵手挑戰神作～ 第二季  https://p2.bahamut.com.tw/B/ACG/c/12/000013861...   \n4                  魔王 2099  https://p2.bahamut.com.tw/B/ACG/c/43/000013124...   \n\n   total_view  total_episode  avg_view  \\\n0     36000.0              4    9000.0   \n1     21000.0              8    2625.0   \n2    517000.0              5  103400.0   \n3    848000.0              5  169600.0   \n4    412000.0              5   82400.0   \n\n                                              link  score  score_count  \\\n0  https://ani.gamer.com.tw/animeRef.php?sn=113677    4.8        336.0   \n1  https://ani.gamer.com.tw/animeRef.php?sn=113633    4.7        140.0   \n2  https://ani.gamer.com.tw/animeRef.php?sn=113635    4.9       4173.0   \n3  https://ani.gamer.com.tw/animeRef.php?sn=113665    5.0       6808.0   \n4  https://ani.gamer.com.tw/animeRef.php?sn=113662    4.9       3793.0   \n\n   score_rate first_launched_date    author   director    agent  \\\n0    0.009333          2024-10-19      安田剛士      羽原久美子       曼迪   \n1    0.006667          2024-10-14     Q-LiA        矢立恭  Ani-One   \n2    0.008072          2024-10-14       白米良        岩永彰      木棉花   \n3    0.008028          2024-10-13  硬梨菜、不二涼介  窪岡俊之、池下博紀      木棉花   \n4    0.009206          2024-10-13       紫大悟        安藤良      木棉花   \n\n                           animator                            types  \\\n0                         MAHO FILM               ['青春', '勵志', '歷史']   \n1  TMS Entertainment（第6工作室）×Lesprit      ['溫馨', '悠閒', '泡麵番', '闔家觀賞']   \n2                           asread.  ['動作', '冒險', '奇幻', '異世界', '魔法']   \n3                               C2C               ['動作', '冒險', '奇幻']   \n4                         J.C.STAFF   ['動作', '奇幻', '魔法', '科幻', '職場']   \n\n                                               intro  \\\n0  本作品以約160年前的幕末京都為舞台，描繪新選組的青春物語。因黑船來襲而動亂頻繁的幕末京都裡...   \n1  在某座星球上，誕生了一隻不可思議的生物。牠的名字叫「香蕉喵」，是藏在香蕉裡的神秘小貓咪，沒有...   \n2  南雲始一行人打敗了神之使徒「諾因」，並順利擊退侵略王都的魔人族。在攻略剩餘的兩個大迷宮前，為...   \n3  「你是為了什麼而玩遊戲的？」\\r如果世界上的遊戲有100款神作，那麼也就有存在著1000款糞...   \n4  這裡是統合曆2099年──新宿市。在被滅亡的500年後，傳說中的魔王「貝爾托爾」再次降臨於發...   \n\n                                       intro_feature  \n0  [0.36482474207878113, 0.7688465118408203, 0.90...  \n1  [0.619700014591217, 0.0547364205121994, 0.3429...  \n2  [0.42784765362739563, 0.8475140929222107, 0.77...  \n3  [0.7400757670402527, 0.7505607604980469, 0.541...  \n4  [-0.15343107283115387, 0.6935722231864929, 0.6...  ",
      "text/html": "<div>\n<style scoped>\n    .dataframe tbody tr th:only-of-type {\n        vertical-align: middle;\n    }\n\n    .dataframe tbody tr th {\n        vertical-align: top;\n    }\n\n    .dataframe thead th {\n        text-align: right;\n    }\n</style>\n<table border=\"1\" class=\"dataframe\">\n  <thead>\n    <tr style=\"text-align: right;\">\n      <th></th>\n      <th>name</th>\n      <th>thumbnail</th>\n      <th>total_view</th>\n      <th>total_episode</th>\n      <th>avg_view</th>\n      <th>link</th>\n      <th>score</th>\n      <th>score_count</th>\n      <th>score_rate</th>\n      <th>first_launched_date</th>\n      <th>author</th>\n      <th>director</th>\n      <th>agent</th>\n      <th>animator</th>\n      <th>types</th>\n      <th>intro</th>\n      <th>intro_feature</th>\n    </tr>\n  </thead>\n  <tbody>\n    <tr>\n      <th>0</th>\n      <td>青之壬生浪</td>\n      <td>https://p2.bahamut.com.tw/B/ACG/c/23/000013552...</td>\n      <td>36000.0</td>\n      <td>4</td>\n      <td>9000.0</td>\n      <td>https://ani.gamer.com.tw/animeRef.php?sn=113677</td>\n      <td>4.8</td>\n      <td>336.0</td>\n      <td>0.009333</td>\n      <td>2024-10-19</td>\n      <td>安田剛士</td>\n      <td>羽原久美子</td>\n      <td>曼迪</td>\n      <td>MAHO FILM</td>\n      <td>['青春', '勵志', '歷史']</td>\n      <td>本作品以約160年前的幕末京都為舞台，描繪新選組的青春物語。因黑船來襲而動亂頻繁的幕末京都裡...</td>\n      <td>[0.36482474207878113, 0.7688465118408203, 0.90...</td>\n    </tr>\n    <tr>\n      <th>1</th>\n      <td>香蕉喵遊世界</td>\n      <td>https://p2.bahamut.com.tw/B/ACG/c/00/000014150...</td>\n      <td>21000.0</td>\n      <td>8</td>\n      <td>2625.0</td>\n      <td>https://ani.gamer.com.tw/animeRef.php?sn=113633</td>\n      <td>4.7</td>\n      <td>140.0</td>\n      <td>0.006667</td>\n      <td>2024-10-14</td>\n      <td>Q-LiA</td>\n      <td>矢立恭</td>\n      <td>Ani-One</td>\n      <td>TMS Entertainment（第6工作室）×Lesprit</td>\n      <td>['溫馨', '悠閒', '泡麵番', '闔家觀賞']</td>\n      <td>在某座星球上，誕生了一隻不可思議的生物。牠的名字叫「香蕉喵」，是藏在香蕉裡的神秘小貓咪，沒有...</td>\n      <td>[0.619700014591217, 0.0547364205121994, 0.3429...</td>\n    </tr>\n    <tr>\n      <th>2</th>\n      <td>平凡職業造就世界最強 第三季</td>\n      <td>https://p2.bahamut.com.tw/B/ACG/c/96/000012709...</td>\n      <td>517000.0</td>\n      <td>5</td>\n      <td>103400.0</td>\n      <td>https://ani.gamer.com.tw/animeRef.php?sn=113635</td>\n      <td>4.9</td>\n      <td>4173.0</td>\n      <td>0.008072</td>\n      <td>2024-10-14</td>\n      <td>白米良</td>\n      <td>岩永彰</td>\n      <td>木棉花</td>\n      <td>asread.</td>\n      <td>['動作', '冒險', '奇幻', '異世界', '魔法']</td>\n      <td>南雲始一行人打敗了神之使徒「諾因」，並順利擊退侵略王都的魔人族。在攻略剩餘的兩個大迷宮前，為...</td>\n      <td>[0.42784765362739563, 0.8475140929222107, 0.77...</td>\n    </tr>\n    <tr>\n      <th>3</th>\n      <td>香格里拉・開拓異境～糞作獵手挑戰神作～ 第二季</td>\n      <td>https://p2.bahamut.com.tw/B/ACG/c/12/000013861...</td>\n      <td>848000.0</td>\n      <td>5</td>\n      <td>169600.0</td>\n      <td>https://ani.gamer.com.tw/animeRef.php?sn=113665</td>\n      <td>5.0</td>\n      <td>6808.0</td>\n      <td>0.008028</td>\n      <td>2024-10-13</td>\n      <td>硬梨菜、不二涼介</td>\n      <td>窪岡俊之、池下博紀</td>\n      <td>木棉花</td>\n      <td>C2C</td>\n      <td>['動作', '冒險', '奇幻']</td>\n      <td>「你是為了什麼而玩遊戲的？」\\r如果世界上的遊戲有100款神作，那麼也就有存在著1000款糞...</td>\n      <td>[0.7400757670402527, 0.7505607604980469, 0.541...</td>\n    </tr>\n    <tr>\n      <th>4</th>\n      <td>魔王 2099</td>\n      <td>https://p2.bahamut.com.tw/B/ACG/c/43/000013124...</td>\n      <td>412000.0</td>\n      <td>5</td>\n      <td>82400.0</td>\n      <td>https://ani.gamer.com.tw/animeRef.php?sn=113662</td>\n      <td>4.9</td>\n      <td>3793.0</td>\n      <td>0.009206</td>\n      <td>2024-10-13</td>\n      <td>紫大悟</td>\n      <td>安藤良</td>\n      <td>木棉花</td>\n      <td>J.C.STAFF</td>\n      <td>['動作', '奇幻', '魔法', '科幻', '職場']</td>\n      <td>這裡是統合曆2099年──新宿市。在被滅亡的500年後，傳說中的魔王「貝爾托爾」再次降臨於發...</td>\n      <td>[-0.15343107283115387, 0.6935722231864929, 0.6...</td>\n    </tr>\n  </tbody>\n</table>\n</div>"
     },
     "execution_count": 50,
     "metadata": {},
     "output_type": "execute_result"
    }
   ],
   "source": [
    "df_all_anime.head()"
   ],
   "metadata": {
    "collapsed": false,
    "ExecuteTime": {
     "end_time": "2024-11-19T10:30:31.519071Z",
     "start_time": "2024-11-19T10:30:31.515300Z"
    }
   },
   "id": "d484fb30e6d22970"
  },
  {
   "cell_type": "code",
   "execution_count": 38,
   "outputs": [
    {
     "data": {
      "text/plain": "                      name                                              intro  \\\n0                    青之壬生浪  本作品以約160年前的幕末京都為舞台，描繪新選組的青春物語。因黑船來襲而動亂頻繁的幕末京都裡...   \n1                   香蕉喵遊世界  在某座星球上，誕生了一隻不可思議的生物。牠的名字叫「香蕉喵」，是藏在香蕉裡的神秘小貓咪，沒有...   \n2           平凡職業造就世界最強 第三季  南雲始一行人打敗了神之使徒「諾因」，並順利擊退侵略王都的魔人族。在攻略剩餘的兩個大迷宮前，為...   \n3  香格里拉・開拓異境～糞作獵手挑戰神作～ 第二季  「你是為了什麼而玩遊戲的？」\\r如果世界上的遊戲有100款神作，那麼也就有存在著1000款糞...   \n4                  魔王 2099  這裡是統合曆2099年──新宿市。在被滅亡的500年後，傳說中的魔王「貝爾托爾」再次降臨於發...   \n\n                                       intro_feature  \n0  [0.36482474207878113, 0.7688465118408203, 0.90...  \n1  [0.619700014591217, 0.0547364205121994, 0.3429...  \n2  [0.42784765362739563, 0.8475140929222107, 0.77...  \n3  [0.7400757670402527, 0.7505607604980469, 0.541...  \n4  [-0.15343107283115387, 0.6935722231864929, 0.6...  ",
      "text/html": "<div>\n<style scoped>\n    .dataframe tbody tr th:only-of-type {\n        vertical-align: middle;\n    }\n\n    .dataframe tbody tr th {\n        vertical-align: top;\n    }\n\n    .dataframe thead th {\n        text-align: right;\n    }\n</style>\n<table border=\"1\" class=\"dataframe\">\n  <thead>\n    <tr style=\"text-align: right;\">\n      <th></th>\n      <th>name</th>\n      <th>intro</th>\n      <th>intro_feature</th>\n    </tr>\n  </thead>\n  <tbody>\n    <tr>\n      <th>0</th>\n      <td>青之壬生浪</td>\n      <td>本作品以約160年前的幕末京都為舞台，描繪新選組的青春物語。因黑船來襲而動亂頻繁的幕末京都裡...</td>\n      <td>[0.36482474207878113, 0.7688465118408203, 0.90...</td>\n    </tr>\n    <tr>\n      <th>1</th>\n      <td>香蕉喵遊世界</td>\n      <td>在某座星球上，誕生了一隻不可思議的生物。牠的名字叫「香蕉喵」，是藏在香蕉裡的神秘小貓咪，沒有...</td>\n      <td>[0.619700014591217, 0.0547364205121994, 0.3429...</td>\n    </tr>\n    <tr>\n      <th>2</th>\n      <td>平凡職業造就世界最強 第三季</td>\n      <td>南雲始一行人打敗了神之使徒「諾因」，並順利擊退侵略王都的魔人族。在攻略剩餘的兩個大迷宮前，為...</td>\n      <td>[0.42784765362739563, 0.8475140929222107, 0.77...</td>\n    </tr>\n    <tr>\n      <th>3</th>\n      <td>香格里拉・開拓異境～糞作獵手挑戰神作～ 第二季</td>\n      <td>「你是為了什麼而玩遊戲的？」\\r如果世界上的遊戲有100款神作，那麼也就有存在著1000款糞...</td>\n      <td>[0.7400757670402527, 0.7505607604980469, 0.541...</td>\n    </tr>\n    <tr>\n      <th>4</th>\n      <td>魔王 2099</td>\n      <td>這裡是統合曆2099年──新宿市。在被滅亡的500年後，傳說中的魔王「貝爾托爾」再次降臨於發...</td>\n      <td>[-0.15343107283115387, 0.6935722231864929, 0.6...</td>\n    </tr>\n  </tbody>\n</table>\n</div>"
     },
     "execution_count": 38,
     "metadata": {},
     "output_type": "execute_result"
    }
   ],
   "source": [
    "df_intro = df_all_anime[['name', 'intro', 'intro_feature']].dropna(ignore_index=True)\n",
    "df_intro.head()"
   ],
   "metadata": {
    "collapsed": false,
    "ExecuteTime": {
     "end_time": "2024-11-19T10:20:44.165501Z",
     "start_time": "2024-11-19T10:20:44.157376Z"
    }
   },
   "id": "74a2dc5f02341e6f"
  },
  {
   "cell_type": "code",
   "execution_count": 39,
   "outputs": [
    {
     "data": {
      "text/plain": "array([[ 0.36482474,  0.76884651,  0.90308213, ..., -1.18455124,\n        -0.38091949, -0.17436117],\n       [ 0.61970001,  0.05473642,  0.34294593, ..., -0.42090085,\n        -0.36328405,  0.22187349],\n       [ 0.42784765,  0.84751409,  0.773552  , ..., -1.27783716,\n        -0.2895748 , -0.25041488],\n       ...,\n       [ 0.6975798 ,  1.01929092,  0.98279846, ..., -1.0714668 ,\n        -0.04263677,  0.25375012],\n       [ 0.39156076,  0.44455513,  1.15024042, ..., -0.88897777,\n         0.02941908,  0.25707597],\n       [ 0.59242648,  0.77060056,  0.95859951, ..., -0.8666544 ,\n         0.04611534,  0.43003339]])"
     },
     "execution_count": 39,
     "metadata": {},
     "output_type": "execute_result"
    }
   ],
   "source": [
    "features = np.vstack(df_intro['intro_feature'])\n",
    "features"
   ],
   "metadata": {
    "collapsed": false,
    "ExecuteTime": {
     "end_time": "2024-11-19T10:20:45.512102Z",
     "start_time": "2024-11-19T10:20:45.506874Z"
    }
   },
   "id": "23ac259c254edcc8"
  },
  {
   "cell_type": "code",
   "execution_count": 40,
   "outputs": [
    {
     "data": {
      "text/plain": "array([[1.        , 0.42403402, 0.65501837, ..., 0.67430816, 0.67880362,\n        0.58683536],\n       [0.42403402, 1.        , 0.47004743, ..., 0.47212947, 0.5023305 ,\n        0.49994863],\n       [0.65501837, 0.47004743, 1.        , ..., 0.71365781, 0.54535183,\n        0.65686354],\n       ...,\n       [0.67430816, 0.47212947, 0.71365781, ..., 1.        , 0.56426571,\n        0.62953633],\n       [0.67880362, 0.5023305 , 0.54535183, ..., 0.56426571, 1.        ,\n        0.55608745],\n       [0.58683536, 0.49994863, 0.65686354, ..., 0.62953633, 0.55608745,\n        1.        ]])"
     },
     "execution_count": 40,
     "metadata": {},
     "output_type": "execute_result"
    }
   ],
   "source": [
    "# Calculate cosine similarity\n",
    "cosine_sim = cosine_similarity(features)\n",
    "\n",
    "# cosine_sim = (cosine_sim + 1) / 2\n",
    "cosine_sim = (cosine_sim - cosine_sim.min()) / (cosine_sim.max() - cosine_sim.min())\n",
    "cosine_sim"
   ],
   "metadata": {
    "collapsed": false,
    "ExecuteTime": {
     "end_time": "2024-11-19T10:20:49.432897Z",
     "start_time": "2024-11-19T10:20:49.359885Z"
    }
   },
   "id": "12f3aab5bd0491bc"
  },
  {
   "cell_type": "code",
   "execution_count": 33,
   "outputs": [
    {
     "data": {
      "text/plain": "<Figure size 640x480 with 1 Axes>",
      "image/png": "[encoded data removed]"
     },
     "metadata": {},
     "output_type": "display_data"
    }
   ],
   "source": [
    "plt.hist(cosine_sim[0, :])\n",
    "plt.show()"
   ],
   "metadata": {
    "collapsed": false,
    "ExecuteTime": {
     "end_time": "2024-11-19T09:47:11.772813Z",
     "start_time": "2024-11-19T09:47:11.738979Z"
    }
   },
   "id": "551793a783e264d2"
  },
  {
   "cell_type": "code",
   "execution_count": 41,
   "outputs": [],
   "source": [
    "np.fill_diagonal(cosine_sim, -np.inf)"
   ],
   "metadata": {
    "collapsed": false,
    "ExecuteTime": {
     "end_time": "2024-11-19T10:20:54.307399Z",
     "start_time": "2024-11-19T10:20:54.298728Z"
    }
   },
   "id": "3185e1857ba92f07"
  },
  {
   "cell_type": "code",
   "execution_count": 42,
   "outputs": [
    {
     "data": {
      "text/plain": "name                        青之壬生浪    香蕉喵遊世界  平凡職業造就世界最強 第三季  \\\nname                                                          \n青之壬生浪                        -inf  0.424034        0.655018   \n香蕉喵遊世界                   0.424034      -inf        0.470047   \n平凡職業造就世界最強 第三季           0.655018  0.470047            -inf   \n香格里拉・開拓異境～糞作獵手挑戰神作～ 第二季  0.621958  0.540836        0.677701   \n魔王 2099                  0.668415  0.437437        0.704929   \n...                           ...       ...             ...   \n城市獵人 2                   0.678804  0.502331        0.545352   \n妙手小廚師                    0.619997  0.359634        0.534458   \n妖獸都市 1987 劇場版            0.674308  0.472129        0.713658   \n城市獵人                     0.678804  0.502331        0.545352   \n魯邦三世 卡里奧斯特羅城             0.586835  0.499949        0.656864   \n\nname                     香格里拉・開拓異境～糞作獵手挑戰神作～ 第二季   魔王 2099   精靈幻想記 2  \\\nname                                                                   \n青之壬生浪                                   0.621958  0.668415  0.720446   \n香蕉喵遊世界                                  0.540836  0.437437  0.482559   \n平凡職業造就世界最強 第三季                          0.677701  0.704929  0.727136   \n香格里拉・開拓異境～糞作獵手挑戰神作～ 第二季                     -inf  0.631125  0.628983   \n魔王 2099                                 0.631125      -inf  0.669735   \n...                                          ...       ...       ...   \n城市獵人 2                                  0.616440  0.626022  0.593844   \n妙手小廚師                                   0.537611  0.515432  0.577996   \n妖獸都市 1987 劇場版                           0.630860  0.631249  0.687667   \n城市獵人                                    0.616440  0.626022  0.593844   \n魯邦三世 卡里奧斯特羅城                            0.605520  0.554135  0.651349   \n\nname                     妖怪學校的菜鳥老師   唯願來世不相識     尋神的旅途  \\\nname                                                     \n青之壬生浪                     0.585117  0.690709  0.748385   \n香蕉喵遊世界                    0.497447  0.493421  0.495790   \n平凡職業造就世界最強 第三季            0.553861  0.633674  0.738904   \n香格里拉・開拓異境～糞作獵手挑戰神作～ 第二季   0.584172  0.574185  0.705855   \n魔王 2099                   0.560579  0.586208  0.709165   \n...                            ...       ...       ...   \n城市獵人 2                    0.570868  0.583633  0.642596   \n妙手小廚師                     0.553774  0.610455  0.570151   \n妖獸都市 1987 劇場版             0.560490  0.678534  0.744028   \n城市獵人                      0.570868  0.583633  0.642596   \n魯邦三世 卡里奧斯特羅城              0.493910  0.616106  0.609465   \n\nname                     LoveLive! SuperStar!! 第三季  ...  真 魔神英雄傳 魔神山篇  \\\nname                                                ...                 \n青之壬生浪                                     0.597658  ...      0.646993   \n香蕉喵遊世界                                    0.382507  ...      0.477515   \n平凡職業造就世界最強 第三季                            0.590451  ...      0.783064   \n香格里拉・開拓異境～糞作獵手挑戰神作～ 第二季                   0.533099  ...      0.663680   \n魔王 2099                                   0.593585  ...      0.683453   \n...                                            ...  ...           ...   \n城市獵人 2                                    0.456709  ...      0.560780   \n妙手小廚師                                     0.479895  ...      0.548049   \n妖獸都市 1987 劇場版                             0.484740  ...      0.741274   \n城市獵人                                      0.456709  ...      0.560780   \n魯邦三世 卡里奧斯特羅城                              0.403146  ...      0.682384   \n\nname                     機動警察 劇場版 1       魔動王      麵包超人     魔神英雄傳    城市獵人 2  \\\nname                                                                          \n青之壬生浪                      0.609509  0.611188  0.587204  0.672901  0.678804   \n香蕉喵遊世界                     0.347038  0.511860  0.488414  0.562286  0.502331   \n平凡職業造就世界最強 第三季             0.549796  0.732758  0.495795  0.692080  0.545352   \n香格里拉・開拓異境～糞作獵手挑戰神作～ 第二季    0.538664  0.660844  0.498390  0.665174  0.616440   \n魔王 2099                    0.566217  0.680656  0.519326  0.674878  0.626022   \n...                             ...       ...       ...       ...       ...   \n城市獵人 2                     0.549500  0.532140  0.599330  0.574368      -inf   \n妙手小廚師                      0.450901  0.477138  0.528179  0.587293  0.557371   \n妖獸都市 1987 劇場版              0.546725  0.670540  0.522970  0.711268  0.564266   \n城市獵人                       0.549500  0.532140  0.599330  0.574368  1.000000   \n魯邦三世 卡里奧斯特羅城               0.480513  0.614762  0.460564  0.653241  0.556087   \n\nname                        妙手小廚師  妖獸都市 1987 劇場版      城市獵人  魯邦三世 卡里奧斯特羅城  \nname                                                                      \n青之壬生浪                    0.619997       0.674308  0.678804      0.586835  \n香蕉喵遊世界                   0.359634       0.472129  0.502331      0.499949  \n平凡職業造就世界最強 第三季           0.534458       0.713658  0.545352      0.656864  \n香格里拉・開拓異境～糞作獵手挑戰神作～ 第二季  0.537611       0.630860  0.616440      0.605520  \n魔王 2099                  0.515432       0.631249  0.626022      0.554135  \n...                           ...            ...       ...           ...  \n城市獵人 2                   0.557371       0.564266  1.000000      0.556087  \n妙手小廚師                        -inf       0.561944  0.557371      0.483093  \n妖獸都市 1987 劇場版            0.561944           -inf  0.564266      0.629536  \n城市獵人                     0.557371       0.564266      -inf      0.556087  \n魯邦三世 卡里奧斯特羅城             0.483093       0.629536  0.556087          -inf  \n\n[1697 rows x 1697 columns]",
      "text/html": "<div>\n<style scoped>\n    .dataframe tbody tr th:only-of-type {\n        vertical-align: middle;\n    }\n\n    .dataframe tbody tr th {\n        vertical-align: top;\n    }\n\n    .dataframe thead th {\n        text-align: right;\n    }\n</style>\n<table border=\"1\" class=\"dataframe\">\n  <thead>\n    <tr style=\"text-align: right;\">\n      <th>name</th>\n      <th>青之壬生浪</th>\n      <th>香蕉喵遊世界</th>\n      <th>平凡職業造就世界最強 第三季</th>\n      <th>香格里拉・開拓異境～糞作獵手挑戰神作～ 第二季</th>\n      <th>魔王 2099</th>\n      <th>精靈幻想記 2</th>\n      <th>妖怪學校的菜鳥老師</th>\n      <th>唯願來世不相識</th>\n      <th>尋神的旅途</th>\n      <th>LoveLive! SuperStar!! 第三季</th>\n      <th>...</th>\n      <th>真 魔神英雄傳 魔神山篇</th>\n      <th>機動警察 劇場版 1</th>\n      <th>魔動王</th>\n      <th>麵包超人</th>\n      <th>魔神英雄傳</th>\n      <th>城市獵人 2</th>\n      <th>妙手小廚師</th>\n      <th>妖獸都市 1987 劇場版</th>\n      <th>城市獵人</th>\n      <th>魯邦三世 卡里奧斯特羅城</th>\n    </tr>\n    <tr>\n      <th>name</th>\n      <th></th>\n      <th></th>\n      <th></th>\n      <th></th>\n      <th></th>\n      <th></th>\n      <th></th>\n      <th></th>\n      <th></th>\n      <th></th>\n      <th></th>\n      <th></th>\n      <th></th>\n      <th></th>\n      <th></th>\n      <th></th>\n      <th></th>\n      <th></th>\n      <th></th>\n      <th></th>\n      <th></th>\n    </tr>\n  </thead>\n  <tbody>\n    <tr>\n      <th>青之壬生浪</th>\n      <td>-inf</td>\n      <td>0.424034</td>\n      <td>0.655018</td>\n      <td>0.621958</td>\n      <td>0.668415</td>\n      <td>0.720446</td>\n      <td>0.585117</td>\n      <td>0.690709</td>\n      <td>0.748385</td>\n      <td>0.597658</td>\n      <td>...</td>\n      <td>0.646993</td>\n      <td>0.609509</td>\n      <td>0.611188</td>\n      <td>0.587204</td>\n      <td>0.672901</td>\n      <td>0.678804</td>\n      <td>0.619997</td>\n      <td>0.674308</td>\n      <td>0.678804</td>\n      <td>0.586835</td>\n    </tr>\n    <tr>\n      <th>香蕉喵遊世界</th>\n      <td>0.424034</td>\n      <td>-inf</td>\n      <td>0.470047</td>\n      <td>0.540836</td>\n      <td>0.437437</td>\n      <td>0.482559</td>\n      <td>0.497447</td>\n      <td>0.493421</td>\n      <td>0.495790</td>\n      <td>0.382507</td>\n      <td>...</td>\n      <td>0.477515</td>\n      <td>0.347038</td>\n      <td>0.511860</td>\n      <td>0.488414</td>\n      <td>0.562286</td>\n      <td>0.502331</td>\n      <td>0.359634</td>\n      <td>0.472129</td>\n      <td>0.502331</td>\n      <td>0.499949</td>\n    </tr>\n    <tr>\n      <th>平凡職業造就世界最強 第三季</th>\n      <td>0.655018</td>\n      <td>0.470047</td>\n      <td>-inf</td>\n      <td>0.677701</td>\n      <td>0.704929</td>\n      <td>0.727136</td>\n      <td>0.553861</td>\n      <td>0.633674</td>\n      <td>0.738904</td>\n      <td>0.590451</td>\n      <td>...</td>\n      <td>0.783064</td>\n      <td>0.549796</td>\n      <td>0.732758</td>\n      <td>0.495795</td>\n      <td>0.692080</td>\n      <td>0.545352</td>\n      <td>0.534458</td>\n      <td>0.713658</td>\n      <td>0.545352</td>\n      <td>0.656864</td>\n    </tr>\n    <tr>\n      <th>香格里拉・開拓異境～糞作獵手挑戰神作～ 第二季</th>\n      <td>0.621958</td>\n      <td>0.540836</td>\n      <td>0.677701</td>\n      <td>-inf</td>\n      <td>0.631125</td>\n      <td>0.628983</td>\n      <td>0.584172</td>\n      <td>0.574185</td>\n      <td>0.705855</td>\n      <td>0.533099</td>\n      <td>...</td>\n      <td>0.663680</td>\n      <td>0.538664</td>\n      <td>0.660844</td>\n      <td>0.498390</td>\n      <td>0.665174</td>\n      <td>0.616440</td>\n      <td>0.537611</td>\n      <td>0.630860</td>\n      <td>0.616440</td>\n      <td>0.605520</td>\n    </tr>\n    <tr>\n      <th>魔王 2099</th>\n      <td>0.668415</td>\n      <td>0.437437</td>\n      <td>0.704929</td>\n      <td>0.631125</td>\n      <td>-inf</td>\n      <td>0.669735</td>\n      <td>0.560579</td>\n      <td>0.586208</td>\n      <td>0.709165</td>\n      <td>0.593585</td>\n      <td>...</td>\n      <td>0.683453</td>\n      <td>0.566217</td>\n      <td>0.680656</td>\n      <td>0.519326</td>\n      <td>0.674878</td>\n      <td>0.626022</td>\n      <td>0.515432</td>\n      <td>0.631249</td>\n      <td>0.626022</td>\n      <td>0.554135</td>\n    </tr>\n    <tr>\n      <th>...</th>\n      <td>...</td>\n      <td>...</td>\n      <td>...</td>\n      <td>...</td>\n      <td>...</td>\n      <td>...</td>\n      <td>...</td>\n      <td>...</td>\n      <td>...</td>\n      <td>...</td>\n      <td>...</td>\n      <td>...</td>\n      <td>...</td>\n      <td>...</td>\n      <td>...</td>\n      <td>...</td>\n      <td>...</td>\n      <td>...</td>\n      <td>...</td>\n      <td>...</td>\n      <td>...</td>\n    </tr>\n    <tr>\n      <th>城市獵人 2</th>\n      <td>0.678804</td>\n      <td>0.502331</td>\n      <td>0.545352</td>\n      <td>0.616440</td>\n      <td>0.626022</td>\n      <td>0.593844</td>\n      <td>0.570868</td>\n      <td>0.583633</td>\n      <td>0.642596</td>\n      <td>0.456709</td>\n      <td>...</td>\n      <td>0.560780</td>\n      <td>0.549500</td>\n      <td>0.532140</td>\n      <td>0.599330</td>\n      <td>0.574368</td>\n      <td>-inf</td>\n      <td>0.557371</td>\n      <td>0.564266</td>\n      <td>1.000000</td>\n      <td>0.556087</td>\n    </tr>\n    <tr>\n      <th>妙手小廚師</th>\n      <td>0.619997</td>\n      <td>0.359634</td>\n      <td>0.534458</td>\n      <td>0.537611</td>\n      <td>0.515432</td>\n      <td>0.577996</td>\n      <td>0.553774</td>\n      <td>0.610455</td>\n      <td>0.570151</td>\n      <td>0.479895</td>\n      <td>...</td>\n      <td>0.548049</td>\n      <td>0.450901</td>\n      <td>0.477138</td>\n      <td>0.528179</td>\n      <td>0.587293</td>\n      <td>0.557371</td>\n      <td>-inf</td>\n      <td>0.561944</td>\n      <td>0.557371</td>\n      <td>0.483093</td>\n    </tr>\n    <tr>\n      <th>妖獸都市 1987 劇場版</th>\n      <td>0.674308</td>\n      <td>0.472129</td>\n      <td>0.713658</td>\n      <td>0.630860</td>\n      <td>0.631249</td>\n      <td>0.687667</td>\n      <td>0.560490</td>\n      <td>0.678534</td>\n      <td>0.744028</td>\n      <td>0.484740</td>\n      <td>...</td>\n      <td>0.741274</td>\n      <td>0.546725</td>\n      <td>0.670540</td>\n      <td>0.522970</td>\n      <td>0.711268</td>\n      <td>0.564266</td>\n      <td>0.561944</td>\n      <td>-inf</td>\n      <td>0.564266</td>\n      <td>0.629536</td>\n    </tr>\n    <tr>\n      <th>城市獵人</th>\n      <td>0.678804</td>\n      <td>0.502331</td>\n      <td>0.545352</td>\n      <td>0.616440</td>\n      <td>0.626022</td>\n      <td>0.593844</td>\n      <td>0.570868</td>\n      <td>0.583633</td>\n      <td>0.642596</td>\n      <td>0.456709</td>\n      <td>...</td>\n      <td>0.560780</td>\n      <td>0.549500</td>\n      <td>0.532140</td>\n      <td>0.599330</td>\n      <td>0.574368</td>\n      <td>1.000000</td>\n      <td>0.557371</td>\n      <td>0.564266</td>\n      <td>-inf</td>\n      <td>0.556087</td>\n    </tr>\n    <tr>\n      <th>魯邦三世 卡里奧斯特羅城</th>\n      <td>0.586835</td>\n      <td>0.499949</td>\n      <td>0.656864</td>\n      <td>0.605520</td>\n      <td>0.554135</td>\n      <td>0.651349</td>\n      <td>0.493910</td>\n      <td>0.616106</td>\n      <td>0.609465</td>\n      <td>0.403146</td>\n      <td>...</td>\n      <td>0.682384</td>\n      <td>0.480513</td>\n      <td>0.614762</td>\n      <td>0.460564</td>\n      <td>0.653241</td>\n      <td>0.556087</td>\n      <td>0.483093</td>\n      <td>0.629536</td>\n      <td>0.556087</td>\n      <td>-inf</td>\n    </tr>\n  </tbody>\n</table>\n<p>1697 rows × 1697 columns</p>\n</div>"
     },
     "execution_count": 42,
     "metadata": {},
     "output_type": "execute_result"
    }
   ],
   "source": [
    "anime_names = df_intro['name']\n",
    "cosine_sim_df = pd.DataFrame(cosine_sim, index=anime_names, columns=anime_names)\n",
    "cosine_sim_df"
   ],
   "metadata": {
    "collapsed": false,
    "ExecuteTime": {
     "end_time": "2024-11-19T10:20:56.001825Z",
     "start_time": "2024-11-19T10:20:55.985430Z"
    }
   },
   "id": "3b4edd17f46649ba"
  },
  {
   "cell_type": "code",
   "execution_count": 47,
   "outputs": [
    {
     "data": {
      "text/plain": "1180                              傷物語 II 熱血篇\n1287                            飆速宅男 Re：ROAD\n1300                 超人力霸王銀河 S 劇場版 決戰！超人10勇士\n1334             劇場版 假面騎士 鎧武 足球大決戰！黃金的果實爭奪盃！\n1335       烈車戰隊特急者 THE MOVIE Galaxy Line SOS\n1362             平成騎士對昭和騎士 假面騎士大戰 feat. 超級戰隊\n1413    特命戰隊 Go Busters VS 海賊戰隊豪快者 THE MOVIE\n1518                          侍戰隊 VS 炎神戰隊轟音者\n1530              超．假面騎士電王&Decade NEO世代 鬼島戰艦\n1534                            炎神戰隊 VS 獸拳戰隊\n1542                       再會了假面騎士電王 最後的倒數計時\n1546                              炎神戰隊轟音者劇場版\n1547                             假面騎士牙 魔界城之王\n1553                         獸拳戰隊激氣連者 VS 冒險者\n1560                            假面騎士電王 俺、誕生！\n1568                         轟轟戰隊冒險者 VS 超級戰隊\n1611                            爆龍戰隊 VS 忍風戰隊\n1621                                 爆龍戰隊電影版\n1627                            忍風戰隊 vs 百獸戰隊\n1635                                 忍風戰隊電影版\n1649                                 百獸戰隊電影版\n1650                            百獸戰隊 VS 超級戰隊\n1659                           秀逗魔導士 SPECIAL\n1674                         秀逗魔導士 EXCELLENT\n1704                                 城市獵人’91\nName: intro, dtype: object"
     },
     "execution_count": 47,
     "metadata": {},
     "output_type": "execute_result"
    }
   ],
   "source": [
    "df_all_anime['intro'].fillna(df_all_anime['name'])[df_all_anime['intro'].isna()]"
   ],
   "metadata": {
    "collapsed": false,
    "ExecuteTime": {
     "end_time": "2024-11-19T10:26:13.231876Z",
     "start_time": "2024-11-19T10:26:13.215936Z"
    }
   },
   "id": "a1eb897bff12d44d"
  },
  {
   "cell_type": "code",
   "execution_count": null,
   "outputs": [],
   "source": [
    "# Extract feature vectors as a 2D array\n",
    "df_sub = df_intro[:100]\n",
    "features = np.vstack(df_sub['intro_feature'])\n",
    "features"
   ],
   "metadata": {
    "collapsed": false
   },
   "id": "37db94b9c7efefd4"
  },
  {
   "cell_type": "code",
   "execution_count": null,
   "outputs": [],
   "source": [
    "# Calculate cosine similarity\n",
    "cosine_sim = cosine_similarity(features)\n",
    "\n",
    "# Convert to distance matrix\n",
    "distance_matrix = 1 - cosine_sim\n",
    "distance_matrix"
   ],
   "metadata": {
    "collapsed": false
   },
   "id": "f40ed1b96b9534e3"
  },
  {
   "cell_type": "code",
   "execution_count": null,
   "outputs": [],
   "source": [
    "# Apply MDS\n",
    "mds = MDS(n_components=2, dissimilarity=\"precomputed\", random_state=42)\n",
    "mds_coords = mds.fit_transform(distance_matrix)\n",
    "\n",
    "# Add the 2D coordinates to the DataFrame\n",
    "df_sub['x'] = mds_coords[:, 0]\n",
    "df_sub['y'] = mds_coords[:, 1]"
   ],
   "metadata": {
    "collapsed": false
   },
   "id": "4c4fc84d6d21199c"
  },
  {
   "cell_type": "code",
   "execution_count": null,
   "outputs": [],
   "source": [
    "# Plot the MDS results\n",
    "plt.figure(figsize=(10, 6))\n",
    "plt.scatter(df_sub['x'], df_sub['y'], s=50, c='blue', alpha=0.7)\n",
    "\n",
    "# Annotate points with anime names\n",
    "for i, name in enumerate(df_sub['name']):\n",
    "    plt.text(df_sub['x'][i], df_sub['y'][i], i, fontsize=9)\n",
    "\n",
    "plt.title(\"MDS Visualization of Anime Intros\")\n",
    "plt.xlabel(\"Dimension 1\")\n",
    "plt.ylabel(\"Dimension 2\")\n",
    "plt.grid(True)\n",
    "plt.show()"
   ],
   "metadata": {
    "collapsed": false
   },
   "id": "5c68ee3c49ebc993"
  },
  {
   "cell_type": "code",
   "execution_count": null,
   "outputs": [],
   "source": [
    "cosine_sim[29, 90]"
   ],
   "metadata": {
    "collapsed": false
   },
   "id": "23a928128b6fc16f"
  },
  {
   "cell_type": "code",
   "execution_count": null,
   "outputs": [],
   "source": [
    "df_sub.iloc[[29, 90]]"
   ],
   "metadata": {
    "collapsed": false
   },
   "id": "3831e2a5d955a7fd"
  },
  {
   "cell_type": "code",
   "execution_count": null,
   "outputs": [],
   "source": [
    "df_sub.loc[27, 'intro']"
   ],
   "metadata": {
    "collapsed": false
   },
   "id": "990ec6e77c3a7f76"
  },
  {
   "cell_type": "code",
   "execution_count": null,
   "outputs": [],
   "source": [
    "df_sub.loc[77, 'intro']"
   ],
   "metadata": {
    "collapsed": false
   },
   "id": "7906650b5eb5b247"
  },
  {
   "cell_type": "code",
   "execution_count": null,
   "outputs": [],
   "source": [
    "df_sub['name']"
   ],
   "metadata": {
    "collapsed": false
   },
   "id": "601c99086f5a71b7"
  },
  {
   "cell_type": "code",
   "execution_count": null,
   "outputs": [],
   "source": [],
   "metadata": {
    "collapsed": false
   },
   "id": "b3c519818d183437"
  },
  {
   "cell_type": "code",
   "execution_count": null,
   "outputs": [],
   "source": [],
   "metadata": {
    "collapsed": false
   },
   "id": "500fd1c3e5b87f7c"
  },
  {
   "cell_type": "code",
   "execution_count": null,
   "outputs": [],
   "source": [
    "from modules.recommend import AnimeRecommend"
   ],
   "metadata": {
    "collapsed": false
   },
   "id": "f6625ef55050ba50"
  },
  {
   "cell_type": "code",
   "execution_count": null,
   "outputs": [],
   "source": [
    "ar = AnimeRecommend()"
   ],
   "metadata": {
    "collapsed": false
   },
   "id": "9b69f7558dd0f448"
  },
  {
   "cell_type": "code",
   "execution_count": null,
   "outputs": [],
   "source": [
    "ar.compute_similarity_score()"
   ],
   "metadata": {
    "collapsed": false
   },
   "id": "4d83cffc61232afb"
  },
  {
   "cell_type": "code",
   "execution_count": 13,
   "outputs": [],
   "source": [
    "df_similar = pd.read_csv('data/anime_type_similarity.csv')"
   ],
   "metadata": {
    "collapsed": false,
    "ExecuteTime": {
     "end_time": "2024-11-19T09:37:19.800424Z",
     "start_time": "2024-11-19T09:37:19.585563Z"
    }
   },
   "id": "f3d088611fe5df1"
  },
  {
   "cell_type": "code",
   "execution_count": 16,
   "outputs": [],
   "source": [
    "df_similar = df_similar.set_index('name')"
   ],
   "metadata": {
    "collapsed": false,
    "ExecuteTime": {
     "end_time": "2024-11-19T09:37:50.245786Z",
     "start_time": "2024-11-19T09:37:50.220779Z"
    }
   },
   "id": "7f483ad2ce9244c6"
  },
  {
   "cell_type": "code",
   "execution_count": 17,
   "outputs": [
    {
     "data": {
      "text/plain": "np.float64(-inf)"
     },
     "execution_count": 17,
     "metadata": {},
     "output_type": "execute_result"
    }
   ],
   "source": [
    "df_similar.iloc[0,0]"
   ],
   "metadata": {
    "collapsed": false,
    "ExecuteTime": {
     "end_time": "2024-11-19T09:37:57.699732Z",
     "start_time": "2024-11-19T09:37:57.696119Z"
    }
   },
   "id": "3b0146964fae7b34"
  },
  {
   "cell_type": "code",
   "execution_count": 34,
   "outputs": [
    {
     "data": {
      "text/plain": "                            青之壬生浪    香蕉喵遊世界  平凡職業造就世界最強 第三季  \\\nname                                                          \n青之壬生浪                        -inf  0.424034        0.655018   \n香蕉喵遊世界                   0.424034      -inf        0.470047   \n平凡職業造就世界最強 第三季           0.655018  0.470047            -inf   \n香格里拉・開拓異境～糞作獵手挑戰神作～ 第二季  0.621958  0.540836        0.677701   \n魔王 2099                  0.668415  0.437437        0.704929   \n\n                         香格里拉・開拓異境～糞作獵手挑戰神作～ 第二季   魔王 2099   精靈幻想記 2  \\\nname                                                                   \n青之壬生浪                                   0.621958  0.668415  0.720446   \n香蕉喵遊世界                                  0.540836  0.437437  0.482559   \n平凡職業造就世界最強 第三季                          0.677701  0.704929  0.727136   \n香格里拉・開拓異境～糞作獵手挑戰神作～ 第二季                     -inf  0.631125  0.628983   \n魔王 2099                                 0.631125      -inf  0.669735   \n\n                         妖怪學校的菜鳥老師   唯願來世不相識     尋神的旅途  \\\nname                                                     \n青之壬生浪                     0.585117  0.690709  0.748385   \n香蕉喵遊世界                    0.497447  0.493421  0.495790   \n平凡職業造就世界最強 第三季            0.553861  0.633674  0.738904   \n香格里拉・開拓異境～糞作獵手挑戰神作～ 第二季   0.584172  0.574185  0.705855   \n魔王 2099                   0.560579  0.586208  0.709165   \n\n                         LoveLive! SuperStar!! 第三季  ...  真 魔神英雄傳 魔神山篇  \\\nname                                                ...                 \n青之壬生浪                                     0.597658  ...      0.646993   \n香蕉喵遊世界                                    0.382507  ...      0.477515   \n平凡職業造就世界最強 第三季                            0.590451  ...      0.783064   \n香格里拉・開拓異境～糞作獵手挑戰神作～ 第二季                   0.533099  ...      0.663680   \n魔王 2099                                   0.593585  ...      0.683453   \n\n                         機動警察 劇場版 1       魔動王      麵包超人     魔神英雄傳    城市獵人 2  \\\nname                                                                          \n青之壬生浪                      0.609509  0.611188  0.587204  0.672901  0.678804   \n香蕉喵遊世界                     0.347038  0.511860  0.488414  0.562286  0.502331   \n平凡職業造就世界最強 第三季             0.549796  0.732758  0.495795  0.692080  0.545352   \n香格里拉・開拓異境～糞作獵手挑戰神作～ 第二季    0.538664  0.660844  0.498390  0.665174  0.616440   \n魔王 2099                    0.566217  0.680656  0.519326  0.674878  0.626022   \n\n                            妙手小廚師  妖獸都市 1987 劇場版      城市獵人  魯邦三世 卡里奧斯特羅城  \nname                                                                      \n青之壬生浪                    0.619997       0.674308  0.678804      0.586835  \n香蕉喵遊世界                   0.359634       0.472129  0.502331      0.499949  \n平凡職業造就世界最強 第三季           0.534458       0.713658  0.545352      0.656864  \n香格里拉・開拓異境～糞作獵手挑戰神作～ 第二季  0.537611       0.630860  0.616440      0.605520  \n魔王 2099                  0.515432       0.631249  0.626022      0.554135  \n\n[5 rows x 1697 columns]",
      "text/html": "<div>\n<style scoped>\n    .dataframe tbody tr th:only-of-type {\n        vertical-align: middle;\n    }\n\n    .dataframe tbody tr th {\n        vertical-align: top;\n    }\n\n    .dataframe thead th {\n        text-align: right;\n    }\n</style>\n<table border=\"1\" class=\"dataframe\">\n  <thead>\n    <tr style=\"text-align: right;\">\n      <th></th>\n      <th>青之壬生浪</th>\n      <th>香蕉喵遊世界</th>\n      <th>平凡職業造就世界最強 第三季</th>\n      <th>香格里拉・開拓異境～糞作獵手挑戰神作～ 第二季</th>\n      <th>魔王 2099</th>\n      <th>精靈幻想記 2</th>\n      <th>妖怪學校的菜鳥老師</th>\n      <th>唯願來世不相識</th>\n      <th>尋神的旅途</th>\n      <th>LoveLive! SuperStar!! 第三季</th>\n      <th>...</th>\n      <th>真 魔神英雄傳 魔神山篇</th>\n      <th>機動警察 劇場版 1</th>\n      <th>魔動王</th>\n      <th>麵包超人</th>\n      <th>魔神英雄傳</th>\n      <th>城市獵人 2</th>\n      <th>妙手小廚師</th>\n      <th>妖獸都市 1987 劇場版</th>\n      <th>城市獵人</th>\n      <th>魯邦三世 卡里奧斯特羅城</th>\n    </tr>\n    <tr>\n      <th>name</th>\n      <th></th>\n      <th></th>\n      <th></th>\n      <th></th>\n      <th></th>\n      <th></th>\n      <th></th>\n      <th></th>\n      <th></th>\n      <th></th>\n      <th></th>\n      <th></th>\n      <th></th>\n      <th></th>\n      <th></th>\n      <th></th>\n      <th></th>\n      <th></th>\n      <th></th>\n      <th></th>\n      <th></th>\n    </tr>\n  </thead>\n  <tbody>\n    <tr>\n      <th>青之壬生浪</th>\n      <td>-inf</td>\n      <td>0.424034</td>\n      <td>0.655018</td>\n      <td>0.621958</td>\n      <td>0.668415</td>\n      <td>0.720446</td>\n      <td>0.585117</td>\n      <td>0.690709</td>\n      <td>0.748385</td>\n      <td>0.597658</td>\n      <td>...</td>\n      <td>0.646993</td>\n      <td>0.609509</td>\n      <td>0.611188</td>\n      <td>0.587204</td>\n      <td>0.672901</td>\n      <td>0.678804</td>\n      <td>0.619997</td>\n      <td>0.674308</td>\n      <td>0.678804</td>\n      <td>0.586835</td>\n    </tr>\n    <tr>\n      <th>香蕉喵遊世界</th>\n      <td>0.424034</td>\n      <td>-inf</td>\n      <td>0.470047</td>\n      <td>0.540836</td>\n      <td>0.437437</td>\n      <td>0.482559</td>\n      <td>0.497447</td>\n      <td>0.493421</td>\n      <td>0.495790</td>\n      <td>0.382507</td>\n      <td>...</td>\n      <td>0.477515</td>\n      <td>0.347038</td>\n      <td>0.511860</td>\n      <td>0.488414</td>\n      <td>0.562286</td>\n      <td>0.502331</td>\n      <td>0.359634</td>\n      <td>0.472129</td>\n      <td>0.502331</td>\n      <td>0.499949</td>\n    </tr>\n    <tr>\n      <th>平凡職業造就世界最強 第三季</th>\n      <td>0.655018</td>\n      <td>0.470047</td>\n      <td>-inf</td>\n      <td>0.677701</td>\n      <td>0.704929</td>\n      <td>0.727136</td>\n      <td>0.553861</td>\n      <td>0.633674</td>\n      <td>0.738904</td>\n      <td>0.590451</td>\n      <td>...</td>\n      <td>0.783064</td>\n      <td>0.549796</td>\n      <td>0.732758</td>\n      <td>0.495795</td>\n      <td>0.692080</td>\n      <td>0.545352</td>\n      <td>0.534458</td>\n      <td>0.713658</td>\n      <td>0.545352</td>\n      <td>0.656864</td>\n    </tr>\n    <tr>\n      <th>香格里拉・開拓異境～糞作獵手挑戰神作～ 第二季</th>\n      <td>0.621958</td>\n      <td>0.540836</td>\n      <td>0.677701</td>\n      <td>-inf</td>\n      <td>0.631125</td>\n      <td>0.628983</td>\n      <td>0.584172</td>\n      <td>0.574185</td>\n      <td>0.705855</td>\n      <td>0.533099</td>\n      <td>...</td>\n      <td>0.663680</td>\n      <td>0.538664</td>\n      <td>0.660844</td>\n      <td>0.498390</td>\n      <td>0.665174</td>\n      <td>0.616440</td>\n      <td>0.537611</td>\n      <td>0.630860</td>\n      <td>0.616440</td>\n      <td>0.605520</td>\n    </tr>\n    <tr>\n      <th>魔王 2099</th>\n      <td>0.668415</td>\n      <td>0.437437</td>\n      <td>0.704929</td>\n      <td>0.631125</td>\n      <td>-inf</td>\n      <td>0.669735</td>\n      <td>0.560579</td>\n      <td>0.586208</td>\n      <td>0.709165</td>\n      <td>0.593585</td>\n      <td>...</td>\n      <td>0.683453</td>\n      <td>0.566217</td>\n      <td>0.680656</td>\n      <td>0.519326</td>\n      <td>0.674878</td>\n      <td>0.626022</td>\n      <td>0.515432</td>\n      <td>0.631249</td>\n      <td>0.626022</td>\n      <td>0.554135</td>\n    </tr>\n  </tbody>\n</table>\n<p>5 rows × 1697 columns</p>\n</div>"
     },
     "execution_count": 34,
     "metadata": {},
     "output_type": "execute_result"
    }
   ],
   "source": [
    "anime_intro_similarity = pd.read_csv('data/anime_intro_similarity.csv')\n",
    "anime_intro_similarity = anime_intro_similarity.set_index('name')\n",
    "anime_intro_similarity.head()"
   ],
   "metadata": {
    "collapsed": false,
    "ExecuteTime": {
     "end_time": "2024-11-19T10:09:12.478365Z",
     "start_time": "2024-11-19T10:09:11.947017Z"
    }
   },
   "id": "b3ac178cd3ff1c5c"
  },
  {
   "cell_type": "code",
   "execution_count": 35,
   "outputs": [
    {
     "data": {
      "text/plain": "                         青之壬生浪  香蕉喵遊世界  平凡職業造就世界最強 第三季  \\\nname                                                     \n青之壬生浪                     -inf     0.0        0.000000   \n香蕉喵遊世界                     0.0    -inf        0.000000   \n平凡職業造就世界最強 第三季             0.0     0.0            -inf   \n香格里拉・開拓異境～糞作獵手挑戰神作～ 第二季    0.0     0.0        0.600000   \n魔王 2099                    0.0     0.0        0.428571   \n\n                         香格里拉・開拓異境～糞作獵手挑戰神作～ 第二季   魔王 2099   精靈幻想記 2  \\\nname                                                                   \n青之壬生浪                                   0.000000  0.000000  0.000000   \n香蕉喵遊世界                                  0.000000  0.000000  0.000000   \n平凡職業造就世界最強 第三季                          0.600000  0.428571  0.800000   \n香格里拉・開拓異境～糞作獵手挑戰神作～ 第二季                     -inf  0.333333  0.400000   \n魔王 2099                                 0.333333      -inf  0.285714   \n\n                         妖怪學校的菜鳥老師  唯願來世不相識     尋神的旅途  \\\nname                                                    \n青之壬生浪                     0.142857      0.0  0.000000   \n香蕉喵遊世界                    0.125000      0.0  0.000000   \n平凡職業造就世界最強 第三季            0.000000      0.0  0.333333   \n香格里拉・開拓異境～糞作獵手挑戰神作～ 第二季   0.000000      0.0  0.500000   \n魔王 2099                   0.000000      0.0  0.142857   \n\n                         LoveLive! SuperStar!! 第三季  ...  真 魔神英雄傳 魔神山篇  \\\nname                                                ...                 \n青之壬生浪                                     0.166667  ...      0.000000   \n香蕉喵遊世界                                    0.000000  ...      0.142857   \n平凡職業造就世界最強 第三季                            0.000000  ...      0.500000   \n香格里拉・開拓異境～糞作獵手挑戰神作～ 第二季                   0.000000  ...      0.750000   \n魔王 2099                                   0.000000  ...      0.285714   \n\n                         機動警察 劇場版 1       魔動王  麵包超人     魔神英雄傳    城市獵人 2  \\\nname                                                                      \n青之壬生浪                      0.000000  0.000000   0.0  0.000000  0.000000   \n香蕉喵遊世界                     0.000000  0.125000   0.5  0.166667  0.000000   \n平凡職業造就世界最強 第三季             0.142857  0.250000   0.0  0.333333  0.166667   \n香格里拉・開拓異境～糞作獵手挑戰神作～ 第二季    0.200000  0.142857   0.0  0.500000  0.250000   \n魔王 2099                    0.333333  0.250000   0.0  0.142857  0.166667   \n\n                            妙手小廚師  妖獸都市 1987 劇場版      城市獵人  魯邦三世 卡里奧斯特羅城  \nname                                                                      \n青之壬生浪                    0.000000       0.000000  0.000000      0.000000  \n香蕉喵遊世界                   0.166667       0.000000  0.000000      0.000000  \n平凡職業造就世界最強 第三季           0.000000       0.166667  0.166667      0.400000  \n香格里拉・開拓異境～糞作獵手挑戰神作～ 第二季  0.000000       0.250000  0.250000      0.666667  \n魔王 2099                  0.000000       0.166667  0.166667      0.166667  \n\n[5 rows x 1722 columns]",
      "text/html": "<div>\n<style scoped>\n    .dataframe tbody tr th:only-of-type {\n        vertical-align: middle;\n    }\n\n    .dataframe tbody tr th {\n        vertical-align: top;\n    }\n\n    .dataframe thead th {\n        text-align: right;\n    }\n</style>\n<table border=\"1\" class=\"dataframe\">\n  <thead>\n    <tr style=\"text-align: right;\">\n      <th></th>\n      <th>青之壬生浪</th>\n      <th>香蕉喵遊世界</th>\n      <th>平凡職業造就世界最強 第三季</th>\n      <th>香格里拉・開拓異境～糞作獵手挑戰神作～ 第二季</th>\n      <th>魔王 2099</th>\n      <th>精靈幻想記 2</th>\n      <th>妖怪學校的菜鳥老師</th>\n      <th>唯願來世不相識</th>\n      <th>尋神的旅途</th>\n      <th>LoveLive! SuperStar!! 第三季</th>\n      <th>...</th>\n      <th>真 魔神英雄傳 魔神山篇</th>\n      <th>機動警察 劇場版 1</th>\n      <th>魔動王</th>\n      <th>麵包超人</th>\n      <th>魔神英雄傳</th>\n      <th>城市獵人 2</th>\n      <th>妙手小廚師</th>\n      <th>妖獸都市 1987 劇場版</th>\n      <th>城市獵人</th>\n      <th>魯邦三世 卡里奧斯特羅城</th>\n    </tr>\n    <tr>\n      <th>name</th>\n      <th></th>\n      <th></th>\n      <th></th>\n      <th></th>\n      <th></th>\n      <th></th>\n      <th></th>\n      <th></th>\n      <th></th>\n      <th></th>\n      <th></th>\n      <th></th>\n      <th></th>\n      <th></th>\n      <th></th>\n      <th></th>\n      <th></th>\n      <th></th>\n      <th></th>\n      <th></th>\n      <th></th>\n    </tr>\n  </thead>\n  <tbody>\n    <tr>\n      <th>青之壬生浪</th>\n      <td>-inf</td>\n      <td>0.0</td>\n      <td>0.000000</td>\n      <td>0.000000</td>\n      <td>0.000000</td>\n      <td>0.000000</td>\n      <td>0.142857</td>\n      <td>0.0</td>\n      <td>0.000000</td>\n      <td>0.166667</td>\n      <td>...</td>\n      <td>0.000000</td>\n      <td>0.000000</td>\n      <td>0.000000</td>\n      <td>0.0</td>\n      <td>0.000000</td>\n      <td>0.000000</td>\n      <td>0.000000</td>\n      <td>0.000000</td>\n      <td>0.000000</td>\n      <td>0.000000</td>\n    </tr>\n    <tr>\n      <th>香蕉喵遊世界</th>\n      <td>0.0</td>\n      <td>-inf</td>\n      <td>0.000000</td>\n      <td>0.000000</td>\n      <td>0.000000</td>\n      <td>0.000000</td>\n      <td>0.125000</td>\n      <td>0.0</td>\n      <td>0.000000</td>\n      <td>0.000000</td>\n      <td>...</td>\n      <td>0.142857</td>\n      <td>0.000000</td>\n      <td>0.125000</td>\n      <td>0.5</td>\n      <td>0.166667</td>\n      <td>0.000000</td>\n      <td>0.166667</td>\n      <td>0.000000</td>\n      <td>0.000000</td>\n      <td>0.000000</td>\n    </tr>\n    <tr>\n      <th>平凡職業造就世界最強 第三季</th>\n      <td>0.0</td>\n      <td>0.0</td>\n      <td>-inf</td>\n      <td>0.600000</td>\n      <td>0.428571</td>\n      <td>0.800000</td>\n      <td>0.000000</td>\n      <td>0.0</td>\n      <td>0.333333</td>\n      <td>0.000000</td>\n      <td>...</td>\n      <td>0.500000</td>\n      <td>0.142857</td>\n      <td>0.250000</td>\n      <td>0.0</td>\n      <td>0.333333</td>\n      <td>0.166667</td>\n      <td>0.000000</td>\n      <td>0.166667</td>\n      <td>0.166667</td>\n      <td>0.400000</td>\n    </tr>\n    <tr>\n      <th>香格里拉・開拓異境～糞作獵手挑戰神作～ 第二季</th>\n      <td>0.0</td>\n      <td>0.0</td>\n      <td>0.600000</td>\n      <td>-inf</td>\n      <td>0.333333</td>\n      <td>0.400000</td>\n      <td>0.000000</td>\n      <td>0.0</td>\n      <td>0.500000</td>\n      <td>0.000000</td>\n      <td>...</td>\n      <td>0.750000</td>\n      <td>0.200000</td>\n      <td>0.142857</td>\n      <td>0.0</td>\n      <td>0.500000</td>\n      <td>0.250000</td>\n      <td>0.000000</td>\n      <td>0.250000</td>\n      <td>0.250000</td>\n      <td>0.666667</td>\n    </tr>\n    <tr>\n      <th>魔王 2099</th>\n      <td>0.0</td>\n      <td>0.0</td>\n      <td>0.428571</td>\n      <td>0.333333</td>\n      <td>-inf</td>\n      <td>0.285714</td>\n      <td>0.000000</td>\n      <td>0.0</td>\n      <td>0.142857</td>\n      <td>0.000000</td>\n      <td>...</td>\n      <td>0.285714</td>\n      <td>0.333333</td>\n      <td>0.250000</td>\n      <td>0.0</td>\n      <td>0.142857</td>\n      <td>0.166667</td>\n      <td>0.000000</td>\n      <td>0.166667</td>\n      <td>0.166667</td>\n      <td>0.166667</td>\n    </tr>\n  </tbody>\n</table>\n<p>5 rows × 1722 columns</p>\n</div>"
     },
     "execution_count": 35,
     "metadata": {},
     "output_type": "execute_result"
    }
   ],
   "source": [
    "anime_type_similarity = pd.read_csv('data/anime_type_similarity.csv')\n",
    "anime_type_similarity = anime_type_similarity.set_index('name')\n",
    "anime_type_similarity.head()"
   ],
   "metadata": {
    "collapsed": false,
    "ExecuteTime": {
     "end_time": "2024-11-19T10:11:38.549823Z",
     "start_time": "2024-11-19T10:11:38.297429Z"
    }
   },
   "id": "64ae6498fd837b77"
  },
  {
   "cell_type": "code",
   "execution_count": null,
   "outputs": [],
   "source": [],
   "metadata": {
    "collapsed": false
   },
   "id": "6e82b3eec0b32c34"
  }
 ],
 "metadata": {
  "kernelspec": {
   "display_name": "Python 3",
   "language": "python",
   "name": "python3"
  },
  "language_info": {
   "codemirror_mode": {
    "name": "ipython",
    "version": 2
   },
   "file_extension": ".py",
   "mimetype": "text/x-python",
   "name": "python",
   "nbconvert_exporter": "python",
   "pygments_lexer": "ipython2",
   "version": "2.7.6"
  }
 },
 "nbformat": 4,
 "nbformat_minor": 5
}
