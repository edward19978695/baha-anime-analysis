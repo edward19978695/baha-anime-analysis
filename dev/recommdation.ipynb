{
 "cells": [
  {
   "cell_type": "code",
   "execution_count": 1,
   "id": "initial_id",
   "metadata": {
    "collapsed": true,
    "ExecuteTime": {
     "end_time": "2024-11-08T11:21:23.907172Z",
     "start_time": "2024-11-08T11:21:23.901932Z"
    }
   },
   "outputs": [
    {
     "data": {
      "text/plain": "'/Users/edwardchiu/Desktop/projects/baha-anime-analysis'"
     },
     "execution_count": 1,
     "metadata": {},
     "output_type": "execute_result"
    }
   ],
   "source": [
    "import os\n",
    "\n",
    "import numpy as np\n",
    "\n",
    "os.chdir('/Users/edwardchiu/Desktop/projects/baha-anime-analysis')\n",
    "os.getcwd()"
   ]
  },
  {
   "cell_type": "code",
   "execution_count": 126,
   "outputs": [],
   "source": [
    "import pandas as pd\n",
    "import numpy as np\n",
    "from sklearn.preprocessing import MinMaxScaler, StandardScaler, RobustScaler"
   ],
   "metadata": {
    "collapsed": false,
    "ExecuteTime": {
     "end_time": "2024-11-08T15:40:03.197501Z",
     "start_time": "2024-11-08T15:40:03.183679Z"
    }
   },
   "id": "971f8ac71d404a67"
  },
  {
   "cell_type": "code",
   "execution_count": 156,
   "outputs": [
    {
     "data": {
      "text/plain": "                      name                                          thumbnail  \\\n0                    青之壬生浪  https://p2.bahamut.com.tw/B/ACG/c/23/000013552...   \n1                   香蕉喵遊世界  https://p2.bahamut.com.tw/B/ACG/c/00/000014150...   \n2           平凡職業造就世界最強 第三季  https://p2.bahamut.com.tw/B/ACG/c/96/000012709...   \n3  香格里拉・開拓異境～糞作獵手挑戰神作～ 第二季  https://p2.bahamut.com.tw/B/ACG/c/12/000013861...   \n4                  魔王 2099  https://p2.bahamut.com.tw/B/ACG/c/43/000013124...   \n\n   total_view  total_episode       avg_view  \\\n0     23000.0              3    7666.666667   \n1     16000.0              4    4000.000000   \n2    301000.0              3  100333.333333   \n3    492000.0              4  123000.000000   \n4    220000.0              4   55000.000000   \n\n                                              link  score  score_count  \\\n0  https://ani.gamer.com.tw/animeRef.php?sn=113677    4.8        285.0   \n1  https://ani.gamer.com.tw/animeRef.php?sn=113633    4.6        124.0   \n2  https://ani.gamer.com.tw/animeRef.php?sn=113635    4.9       3575.0   \n3  https://ani.gamer.com.tw/animeRef.php?sn=113665    5.0       5647.0   \n4  https://ani.gamer.com.tw/animeRef.php?sn=113662    4.9       2779.0   \n\n  first_launched_date    author   director    agent  \\\n0          2024-10-19      安田剛士      羽原久美子       曼迪   \n1          2024-10-14     Q-LiA        矢立恭  Ani-One   \n2          2024-10-14       白米良        岩永彰      木棉花   \n3          2024-10-13  硬梨菜、不二涼介  窪岡俊之、池下博紀      木棉花   \n4          2024-10-13       紫大悟        安藤良      木棉花   \n\n                           animator                            types  \n0                         MAHO FILM               ['青春', '勵志', '歷史']  \n1  TMS Entertainment（第6工作室）×Lesprit      ['溫馨', '悠閒', '泡麵番', '闔家觀賞']  \n2                           asread.  ['動作', '冒險', '奇幻', '異世界', '魔法']  \n3                               C2C               ['動作', '冒險', '奇幻']  \n4                         J.C.STAFF   ['動作', '奇幻', '魔法', '科幻', '職場']  ",
      "text/html": "<div>\n<style scoped>\n    .dataframe tbody tr th:only-of-type {\n        vertical-align: middle;\n    }\n\n    .dataframe tbody tr th {\n        vertical-align: top;\n    }\n\n    .dataframe thead th {\n        text-align: right;\n    }\n</style>\n<table border=\"1\" class=\"dataframe\">\n  <thead>\n    <tr style=\"text-align: right;\">\n      <th></th>\n      <th>name</th>\n      <th>thumbnail</th>\n      <th>total_view</th>\n      <th>total_episode</th>\n      <th>avg_view</th>\n      <th>link</th>\n      <th>score</th>\n      <th>score_count</th>\n      <th>first_launched_date</th>\n      <th>author</th>\n      <th>director</th>\n      <th>agent</th>\n      <th>animator</th>\n      <th>types</th>\n    </tr>\n  </thead>\n  <tbody>\n    <tr>\n      <th>0</th>\n      <td>青之壬生浪</td>\n      <td>https://p2.bahamut.com.tw/B/ACG/c/23/000013552...</td>\n      <td>23000.0</td>\n      <td>3</td>\n      <td>7666.666667</td>\n      <td>https://ani.gamer.com.tw/animeRef.php?sn=113677</td>\n      <td>4.8</td>\n      <td>285.0</td>\n      <td>2024-10-19</td>\n      <td>安田剛士</td>\n      <td>羽原久美子</td>\n      <td>曼迪</td>\n      <td>MAHO FILM</td>\n      <td>['青春', '勵志', '歷史']</td>\n    </tr>\n    <tr>\n      <th>1</th>\n      <td>香蕉喵遊世界</td>\n      <td>https://p2.bahamut.com.tw/B/ACG/c/00/000014150...</td>\n      <td>16000.0</td>\n      <td>4</td>\n      <td>4000.000000</td>\n      <td>https://ani.gamer.com.tw/animeRef.php?sn=113633</td>\n      <td>4.6</td>\n      <td>124.0</td>\n      <td>2024-10-14</td>\n      <td>Q-LiA</td>\n      <td>矢立恭</td>\n      <td>Ani-One</td>\n      <td>TMS Entertainment（第6工作室）×Lesprit</td>\n      <td>['溫馨', '悠閒', '泡麵番', '闔家觀賞']</td>\n    </tr>\n    <tr>\n      <th>2</th>\n      <td>平凡職業造就世界最強 第三季</td>\n      <td>https://p2.bahamut.com.tw/B/ACG/c/96/000012709...</td>\n      <td>301000.0</td>\n      <td>3</td>\n      <td>100333.333333</td>\n      <td>https://ani.gamer.com.tw/animeRef.php?sn=113635</td>\n      <td>4.9</td>\n      <td>3575.0</td>\n      <td>2024-10-14</td>\n      <td>白米良</td>\n      <td>岩永彰</td>\n      <td>木棉花</td>\n      <td>asread.</td>\n      <td>['動作', '冒險', '奇幻', '異世界', '魔法']</td>\n    </tr>\n    <tr>\n      <th>3</th>\n      <td>香格里拉・開拓異境～糞作獵手挑戰神作～ 第二季</td>\n      <td>https://p2.bahamut.com.tw/B/ACG/c/12/000013861...</td>\n      <td>492000.0</td>\n      <td>4</td>\n      <td>123000.000000</td>\n      <td>https://ani.gamer.com.tw/animeRef.php?sn=113665</td>\n      <td>5.0</td>\n      <td>5647.0</td>\n      <td>2024-10-13</td>\n      <td>硬梨菜、不二涼介</td>\n      <td>窪岡俊之、池下博紀</td>\n      <td>木棉花</td>\n      <td>C2C</td>\n      <td>['動作', '冒險', '奇幻']</td>\n    </tr>\n    <tr>\n      <th>4</th>\n      <td>魔王 2099</td>\n      <td>https://p2.bahamut.com.tw/B/ACG/c/43/000013124...</td>\n      <td>220000.0</td>\n      <td>4</td>\n      <td>55000.000000</td>\n      <td>https://ani.gamer.com.tw/animeRef.php?sn=113662</td>\n      <td>4.9</td>\n      <td>2779.0</td>\n      <td>2024-10-13</td>\n      <td>紫大悟</td>\n      <td>安藤良</td>\n      <td>木棉花</td>\n      <td>J.C.STAFF</td>\n      <td>['動作', '奇幻', '魔法', '科幻', '職場']</td>\n    </tr>\n  </tbody>\n</table>\n</div>"
     },
     "execution_count": 156,
     "metadata": {},
     "output_type": "execute_result"
    }
   ],
   "source": [
    "df_anime = pd.read_csv('data/all_anime.csv')\n",
    "df_anime.head()"
   ],
   "metadata": {
    "collapsed": false,
    "ExecuteTime": {
     "end_time": "2024-11-08T15:51:45.858228Z",
     "start_time": "2024-11-08T15:51:45.835341Z"
    }
   },
   "id": "637b1ae77c79fea4"
  },
  {
   "cell_type": "code",
   "execution_count": 157,
   "outputs": [],
   "source": [
    "df_anime['first_launched_date'] = pd.to_datetime(df_anime['first_launched_date'])\n",
    "df_anime['first_launched_date'] = df_anime['first_launched_date'].astype(int)"
   ],
   "metadata": {
    "collapsed": false,
    "ExecuteTime": {
     "end_time": "2024-11-08T15:51:46.936829Z",
     "start_time": "2024-11-08T15:51:46.922470Z"
    }
   },
   "id": "9d3fc11368b44429"
  },
  {
   "cell_type": "code",
   "execution_count": 158,
   "outputs": [],
   "source": [
    "scaler = MinMaxScaler()\n",
    "df_anime[['first_launched_date', 'total_view']] = np.log(df_anime[['first_launched_date', 'total_view']])\n",
    "df_anime[['scaled_launch', 'scaled_view', 'scaled_score']] = (\n",
    "    scaler.fit_transform(df_anime[['first_launched_date', 'total_view', 'score']]))"
   ],
   "metadata": {
    "collapsed": false,
    "ExecuteTime": {
     "end_time": "2024-11-08T15:51:51.420636Z",
     "start_time": "2024-11-08T15:51:51.411507Z"
    }
   },
   "id": "1b9a10d72c048804"
  },
  {
   "cell_type": "code",
   "execution_count": 94,
   "outputs": [],
   "source": [
    "# Function to compute Jaccard similarity\n",
    "def jaccard_similarity(set1, set2):\n",
    "    intersection = len(set1.intersection(set2))\n",
    "    union = len(set1.union(set2))\n",
    "    return intersection / union"
   ],
   "metadata": {
    "collapsed": false,
    "ExecuteTime": {
     "end_time": "2024-11-08T15:29:04.707426Z",
     "start_time": "2024-11-08T15:29:04.696882Z"
    }
   },
   "id": "3d8a319fe68ad142"
  },
  {
   "cell_type": "code",
   "execution_count": 55,
   "outputs": [
    {
     "data": {
      "text/plain": "array([[0., 0., 0., ..., 0., 0., 0.],\n       [0., 0., 0., ..., 0., 0., 0.],\n       [0., 0., 0., ..., 0., 0., 0.],\n       ...,\n       [0., 0., 0., ..., 0., 0., 0.],\n       [0., 0., 0., ..., 0., 0., 0.],\n       [0., 0., 0., ..., 0., 0., 0.]])"
     },
     "execution_count": 55,
     "metadata": {},
     "output_type": "execute_result"
    }
   ],
   "source": [
    "# Create an empty list to store the results\n",
    "similarity_matrix = np.zeros((len(df_anime), len(df_anime)))\n",
    "similarity_matrix"
   ],
   "metadata": {
    "collapsed": false,
    "ExecuteTime": {
     "end_time": "2024-11-08T12:22:34.200455Z",
     "start_time": "2024-11-08T12:22:34.188862Z"
    }
   },
   "id": "2449863ebda3265d"
  },
  {
   "cell_type": "code",
   "execution_count": 56,
   "outputs": [],
   "source": [
    "for r in range(len(df_anime)):\n",
    "    for c in range(r + 1):\n",
    "        if r == c:\n",
    "            similarity_matrix[r, c] = float('-inf')\n",
    "        else:\n",
    "            similarity = jaccard_similarity(set(df_anime.iloc[r]['types']), set(df_anime.iloc[c]['types']))\n",
    "            similarity_matrix[r, c] = similarity\n",
    "            similarity_matrix[c, r] = similarity"
   ],
   "metadata": {
    "collapsed": false,
    "ExecuteTime": {
     "end_time": "2024-11-08T12:23:29.364531Z",
     "start_time": "2024-11-08T12:22:35.659477Z"
    }
   },
   "id": "1cfd3e1186a3c7b8"
  },
  {
   "cell_type": "code",
   "execution_count": 57,
   "outputs": [],
   "source": [
    "similarity_df = pd.DataFrame(similarity_matrix, index=df_anime['name'], columns=df_anime['name'])"
   ],
   "metadata": {
    "collapsed": false,
    "ExecuteTime": {
     "end_time": "2024-11-08T12:23:29.367810Z",
     "start_time": "2024-11-08T12:23:29.364947Z"
    }
   },
   "id": "d3d2a88ed210d948"
  },
  {
   "cell_type": "code",
   "execution_count": 160,
   "outputs": [
    {
     "data": {
      "text/plain": "                         similarity  scaled_launch  scaled_view  scaled_score  \\\nname                                                                            \n不時輕聲地以俄語遮羞的鄰座艾莉同學          0.866667       0.996828     0.784150      0.947368   \n敗北女角太多了！                   0.866667       0.997152     0.778538      1.000000   \n我內心的糟糕念頭 第二季               0.866667       0.991563     0.758099      1.000000   \n戀上換裝娃娃                     0.733333       0.969523     0.860576      1.000000   \n喜歡本大爺的竟然就妳一個？              0.866667       0.943340     0.752243      0.947368   \n輝夜姬想讓人告白～天才們的戀愛頭腦戰～ 第二季    0.733333       0.949501     0.878149      1.000000   \n輝夜姬想讓人告白～天才們的戀愛頭腦戰～        0.733333       0.934793     0.879824      0.973684   \n我們真的學不來！                   0.866667       0.937537     0.738416      0.921053   \n不要欺負我，長瀞同學                 0.866667       0.961477     0.713006      0.973684   \n如果有妹妹就好了。                  0.866667       0.919505     0.746689      0.947368   \n\n                         main_metic  \nname                                 \n不時輕聲地以俄語遮羞的鄰座艾莉同學          0.882548  \n敗北女角太多了！                   0.880785  \n我內心的糟糕念頭 第二季               0.872109  \n戀上換裝娃娃                     0.854477  \n喜歡本大爺的竟然就妳一個？              0.854083  \n輝夜姬想讓人告白～天才們的戀愛頭腦戰～ 第二季    0.853661  \n輝夜姬想讓人告白～天才們的戀愛頭腦戰～        0.849317  \n我們真的學不來！                   0.847540  \n不要欺負我，長瀞同學                 0.847050  \n如果有妹妹就好了。                  0.844287  ",
      "text/html": "<div>\n<style scoped>\n    .dataframe tbody tr th:only-of-type {\n        vertical-align: middle;\n    }\n\n    .dataframe tbody tr th {\n        vertical-align: top;\n    }\n\n    .dataframe thead th {\n        text-align: right;\n    }\n</style>\n<table border=\"1\" class=\"dataframe\">\n  <thead>\n    <tr style=\"text-align: right;\">\n      <th></th>\n      <th>similarity</th>\n      <th>scaled_launch</th>\n      <th>scaled_view</th>\n      <th>scaled_score</th>\n      <th>main_metic</th>\n    </tr>\n    <tr>\n      <th>name</th>\n      <th></th>\n      <th></th>\n      <th></th>\n      <th></th>\n      <th></th>\n    </tr>\n  </thead>\n  <tbody>\n    <tr>\n      <th>不時輕聲地以俄語遮羞的鄰座艾莉同學</th>\n      <td>0.866667</td>\n      <td>0.996828</td>\n      <td>0.784150</td>\n      <td>0.947368</td>\n      <td>0.882548</td>\n    </tr>\n    <tr>\n      <th>敗北女角太多了！</th>\n      <td>0.866667</td>\n      <td>0.997152</td>\n      <td>0.778538</td>\n      <td>1.000000</td>\n      <td>0.880785</td>\n    </tr>\n    <tr>\n      <th>我內心的糟糕念頭 第二季</th>\n      <td>0.866667</td>\n      <td>0.991563</td>\n      <td>0.758099</td>\n      <td>1.000000</td>\n      <td>0.872109</td>\n    </tr>\n    <tr>\n      <th>戀上換裝娃娃</th>\n      <td>0.733333</td>\n      <td>0.969523</td>\n      <td>0.860576</td>\n      <td>1.000000</td>\n      <td>0.854477</td>\n    </tr>\n    <tr>\n      <th>喜歡本大爺的竟然就妳一個？</th>\n      <td>0.866667</td>\n      <td>0.943340</td>\n      <td>0.752243</td>\n      <td>0.947368</td>\n      <td>0.854083</td>\n    </tr>\n    <tr>\n      <th>輝夜姬想讓人告白～天才們的戀愛頭腦戰～ 第二季</th>\n      <td>0.733333</td>\n      <td>0.949501</td>\n      <td>0.878149</td>\n      <td>1.000000</td>\n      <td>0.853661</td>\n    </tr>\n    <tr>\n      <th>輝夜姬想讓人告白～天才們的戀愛頭腦戰～</th>\n      <td>0.733333</td>\n      <td>0.934793</td>\n      <td>0.879824</td>\n      <td>0.973684</td>\n      <td>0.849317</td>\n    </tr>\n    <tr>\n      <th>我們真的學不來！</th>\n      <td>0.866667</td>\n      <td>0.937537</td>\n      <td>0.738416</td>\n      <td>0.921053</td>\n      <td>0.847540</td>\n    </tr>\n    <tr>\n      <th>不要欺負我，長瀞同學</th>\n      <td>0.866667</td>\n      <td>0.961477</td>\n      <td>0.713006</td>\n      <td>0.973684</td>\n      <td>0.847050</td>\n    </tr>\n    <tr>\n      <th>如果有妹妹就好了。</th>\n      <td>0.866667</td>\n      <td>0.919505</td>\n      <td>0.746689</td>\n      <td>0.947368</td>\n      <td>0.844287</td>\n    </tr>\n  </tbody>\n</table>\n</div>"
     },
     "execution_count": 160,
     "metadata": {},
     "output_type": "execute_result"
    }
   ],
   "source": [
    "# Specify the anime for which you want to find the top 5 similar animes\n",
    "target_anime = '2.5 次元的誘惑'\n",
    "\n",
    "# Get the row corresponding to the target anime\n",
    "target_index = df_anime[df_anime['name'] == target_anime].index[0]\n",
    "target_similarities = pd.DataFrame(similarity_matrix[target_index],\n",
    "                                   index=df_anime['name'], columns=['similarity'])\n",
    "\n",
    "scaled_metrics = df_anime.loc[:, ['name', 'scaled_launch', 'scaled_view', 'scaled_score']]\n",
    "scaled_metrics = scaled_metrics.set_index('name')\n",
    "\n",
    "target_similarities.loc[:, ['scaled_launch', 'scaled_view', 'scaled_score']] = scaled_metrics\n",
    "\n",
    "target_similarities['main_metic'] = target_similarities[['similarity', 'scaled_view', 'scaled_launch']].mean(axis=1)\n",
    "\n",
    "\n",
    "# Exclude the similarity with itself (which is always 1.0)\n",
    "# target_similarities = target_similarities.drop(target_anime)\n",
    "# \n",
    "# Sort the similarities in descending order and get the top 5 most similar animes\n",
    "top_5_similar_animes = target_similarities.sort_values('main_metic', ascending=False).head(10)\n",
    "\n",
    "# Print the top 5 similar animes\n",
    "top_5_similar_animes\n"
   ],
   "metadata": {
    "collapsed": false,
    "ExecuteTime": {
     "end_time": "2024-11-08T15:52:09.185105Z",
     "start_time": "2024-11-08T15:52:09.168884Z"
    }
   },
   "id": "e9ae7af15b64e96f"
  },
  {
   "cell_type": "code",
   "execution_count": 83,
   "outputs": [
    {
     "data": {
      "text/plain": "                             similarity  scaled_launch  scaled_view  \\\nname                                                                  \n咒術迴戰 第二季                       1.000000       0.971245     0.360089   \n鬼滅之刃 柱訓練篇                      0.739130       0.990232     0.128353   \n膽大黨                            0.678571       0.999084     0.041235   \n格萊普尼爾                          0.739130       0.898779     0.072652   \nAYAKA  -綾島奇譚-                  0.666667       0.971001     0.005165   \n不死不運                           0.652174       0.976923     0.124631   \nWIND BREAKER—防風少年—             0.619048       0.987973     0.092284   \n陰陽眼見子                          0.666667       0.932112     0.113745   \n我想成為影之強者！                      0.640000       0.954518     0.309598   \nBEM 妖怪人類貝姆劇場版～BECOME HUMAN～    0.666667       0.909768     0.000668   \n\n                             scaled_score  main_metic  \nname                                                   \n咒術迴戰 第二季                         0.973684    0.985623  \n鬼滅之刃 柱訓練篇                        0.973684    0.864681  \n膽大黨                              1.000000    0.838828  \n格萊普尼爾                            0.894737    0.818955  \nAYAKA  -綾島奇譚-                    0.868421    0.818834  \n不死不運                             0.973684    0.814548  \nWIND BREAKER—防風少年—               0.973684    0.803510  \n陰陽眼見子                            0.973684    0.799389  \n我想成為影之強者！                        0.973684    0.797259  \nBEM 妖怪人類貝姆劇場版～BECOME HUMAN～      0.894737    0.788217  ",
      "text/html": "<div>\n<style scoped>\n    .dataframe tbody tr th:only-of-type {\n        vertical-align: middle;\n    }\n\n    .dataframe tbody tr th {\n        vertical-align: top;\n    }\n\n    .dataframe thead th {\n        text-align: right;\n    }\n</style>\n<table border=\"1\" class=\"dataframe\">\n  <thead>\n    <tr style=\"text-align: right;\">\n      <th></th>\n      <th>similarity</th>\n      <th>scaled_launch</th>\n      <th>scaled_view</th>\n      <th>scaled_score</th>\n      <th>main_metic</th>\n    </tr>\n    <tr>\n      <th>name</th>\n      <th></th>\n      <th></th>\n      <th></th>\n      <th></th>\n      <th></th>\n    </tr>\n  </thead>\n  <tbody>\n    <tr>\n      <th>咒術迴戰 第二季</th>\n      <td>1.000000</td>\n      <td>0.971245</td>\n      <td>0.360089</td>\n      <td>0.973684</td>\n      <td>0.985623</td>\n    </tr>\n    <tr>\n      <th>鬼滅之刃 柱訓練篇</th>\n      <td>0.739130</td>\n      <td>0.990232</td>\n      <td>0.128353</td>\n      <td>0.973684</td>\n      <td>0.864681</td>\n    </tr>\n    <tr>\n      <th>膽大黨</th>\n      <td>0.678571</td>\n      <td>0.999084</td>\n      <td>0.041235</td>\n      <td>1.000000</td>\n      <td>0.838828</td>\n    </tr>\n    <tr>\n      <th>格萊普尼爾</th>\n      <td>0.739130</td>\n      <td>0.898779</td>\n      <td>0.072652</td>\n      <td>0.894737</td>\n      <td>0.818955</td>\n    </tr>\n    <tr>\n      <th>AYAKA  -綾島奇譚-</th>\n      <td>0.666667</td>\n      <td>0.971001</td>\n      <td>0.005165</td>\n      <td>0.868421</td>\n      <td>0.818834</td>\n    </tr>\n    <tr>\n      <th>不死不運</th>\n      <td>0.652174</td>\n      <td>0.976923</td>\n      <td>0.124631</td>\n      <td>0.973684</td>\n      <td>0.814548</td>\n    </tr>\n    <tr>\n      <th>WIND BREAKER—防風少年—</th>\n      <td>0.619048</td>\n      <td>0.987973</td>\n      <td>0.092284</td>\n      <td>0.973684</td>\n      <td>0.803510</td>\n    </tr>\n    <tr>\n      <th>陰陽眼見子</th>\n      <td>0.666667</td>\n      <td>0.932112</td>\n      <td>0.113745</td>\n      <td>0.973684</td>\n      <td>0.799389</td>\n    </tr>\n    <tr>\n      <th>我想成為影之強者！</th>\n      <td>0.640000</td>\n      <td>0.954518</td>\n      <td>0.309598</td>\n      <td>0.973684</td>\n      <td>0.797259</td>\n    </tr>\n    <tr>\n      <th>BEM 妖怪人類貝姆劇場版～BECOME HUMAN～</th>\n      <td>0.666667</td>\n      <td>0.909768</td>\n      <td>0.000668</td>\n      <td>0.894737</td>\n      <td>0.788217</td>\n    </tr>\n  </tbody>\n</table>\n</div>"
     },
     "execution_count": 83,
     "metadata": {},
     "output_type": "execute_result"
    }
   ],
   "source": [
    "top_5_similar_animes"
   ],
   "metadata": {
    "collapsed": false,
    "ExecuteTime": {
     "end_time": "2024-11-08T15:24:36.341836Z",
     "start_time": "2024-11-08T15:24:36.336457Z"
    }
   },
   "id": "410ee39a81dd2f43"
  },
  {
   "cell_type": "code",
   "execution_count": 70,
   "outputs": [
    {
     "data": {
      "text/plain": "      name                                          thumbnail  total_view  \\\n793  格萊普尼爾  https://p2.bahamut.com.tw/B/ACG/c/81/000010428...   2344000.0   \n\n     total_episode       avg_view  \\\n793             13  180307.692308   \n\n                                                link  score  score_count  \\\n793  https://ani.gamer.com.tw/animeRef.php?sn=104281    4.6       3328.0   \n\n     first_launched_date author director    agent  animator  \\\n793  1586044800000000000   武田すん     米田和弘  Ani-One  PINE JAM   \n\n                                   types  scaled_launch  scaled_view  \\\n793  ['動作', '超能力', '懸疑', '血腥暴力', '靈異神怪']       0.898779     0.072652   \n\n     scaled_score  \n793      0.894737  ",
      "text/html": "<div>\n<style scoped>\n    .dataframe tbody tr th:only-of-type {\n        vertical-align: middle;\n    }\n\n    .dataframe tbody tr th {\n        vertical-align: top;\n    }\n\n    .dataframe thead th {\n        text-align: right;\n    }\n</style>\n<table border=\"1\" class=\"dataframe\">\n  <thead>\n    <tr style=\"text-align: right;\">\n      <th></th>\n      <th>name</th>\n      <th>thumbnail</th>\n      <th>total_view</th>\n      <th>total_episode</th>\n      <th>avg_view</th>\n      <th>link</th>\n      <th>score</th>\n      <th>score_count</th>\n      <th>first_launched_date</th>\n      <th>author</th>\n      <th>director</th>\n      <th>agent</th>\n      <th>animator</th>\n      <th>types</th>\n      <th>scaled_launch</th>\n      <th>scaled_view</th>\n      <th>scaled_score</th>\n    </tr>\n  </thead>\n  <tbody>\n    <tr>\n      <th>793</th>\n      <td>格萊普尼爾</td>\n      <td>https://p2.bahamut.com.tw/B/ACG/c/81/000010428...</td>\n      <td>2344000.0</td>\n      <td>13</td>\n      <td>180307.692308</td>\n      <td>https://ani.gamer.com.tw/animeRef.php?sn=104281</td>\n      <td>4.6</td>\n      <td>3328.0</td>\n      <td>1586044800000000000</td>\n      <td>武田すん</td>\n      <td>米田和弘</td>\n      <td>Ani-One</td>\n      <td>PINE JAM</td>\n      <td>['動作', '超能力', '懸疑', '血腥暴力', '靈異神怪']</td>\n      <td>0.898779</td>\n      <td>0.072652</td>\n      <td>0.894737</td>\n    </tr>\n  </tbody>\n</table>\n</div>"
     },
     "execution_count": 70,
     "metadata": {},
     "output_type": "execute_result"
    }
   ],
   "source": [
    "df_anime[df_anime['name'] == '格萊普尼爾']"
   ],
   "metadata": {
    "collapsed": false,
    "ExecuteTime": {
     "end_time": "2024-11-08T15:21:11.334076Z",
     "start_time": "2024-11-08T15:21:11.324763Z"
    }
   },
   "id": "68a91b851b0a92fc"
  },
  {
   "cell_type": "code",
   "execution_count": 41,
   "outputs": [],
   "source": [
    "df_anime['first_launched_date'] = pd.to_datetime(df_anime['first_launched_date'])"
   ],
   "metadata": {
    "collapsed": false,
    "ExecuteTime": {
     "end_time": "2024-11-08T12:04:24.658162Z",
     "start_time": "2024-11-08T12:04:24.638364Z"
    }
   },
   "id": "ddc895e5b4513a92"
  },
  {
   "cell_type": "code",
   "execution_count": 42,
   "outputs": [
    {
     "data": {
      "text/plain": "0       1729296000000000000\n1       1728864000000000000\n2       1728864000000000000\n3       1728777600000000000\n4       1728777600000000000\n               ...         \n1725     575942400000000000\n1726     560649600000000000\n1727     546307200000000000\n1728     544665600000000000\n1729     314064000000000000\nName: first_launched_date, Length: 1730, dtype: int64"
     },
     "execution_count": 42,
     "metadata": {},
     "output_type": "execute_result"
    }
   ],
   "source": [
    "df_anime['first_launched_date'].astype(int)"
   ],
   "metadata": {
    "collapsed": false,
    "ExecuteTime": {
     "end_time": "2024-11-08T12:04:36.187178Z",
     "start_time": "2024-11-08T12:04:36.184424Z"
    }
   },
   "id": "3150aabb591be1b6"
  }
 ],
 "metadata": {
  "kernelspec": {
   "display_name": "Python 3",
   "language": "python",
   "name": "python3"
  },
  "language_info": {
   "codemirror_mode": {
    "name": "ipython",
    "version": 2
   },
   "file_extension": ".py",
   "mimetype": "text/x-python",
   "name": "python",
   "nbconvert_exporter": "python",
   "pygments_lexer": "ipython2",
   "version": "2.7.6"
  }
 },
 "nbformat": 4,
 "nbformat_minor": 5
}
