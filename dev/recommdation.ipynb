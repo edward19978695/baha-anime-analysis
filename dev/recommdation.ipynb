{
 "cells": [
  {
   "cell_type": "code",
   "execution_count": 1,
   "id": "initial_id",
   "metadata": {
    "collapsed": true,
    "ExecuteTime": {
     "end_time": "2024-11-12T07:05:02.280157Z",
     "start_time": "2024-11-12T07:05:02.219776Z"
    }
   },
   "outputs": [
    {
     "data": {
      "text/plain": "'/Users/edwardchiu/Desktop/projects/baha-anime-analysis'"
     },
     "execution_count": 1,
     "metadata": {},
     "output_type": "execute_result"
    }
   ],
   "source": [
    "import os\n",
    "\n",
    "import numpy as np\n",
    "\n",
    "os.chdir('/Users/edwardchiu/Desktop/projects/baha-anime-analysis')\n",
    "os.getcwd()"
   ]
  },
  {
   "cell_type": "code",
   "execution_count": 2,
   "outputs": [],
   "source": [
    "import pandas as pd\n",
    "import numpy as np\n",
    "from sklearn.preprocessing import MinMaxScaler, StandardScaler, RobustScaler\n",
    "import matplotlib.pyplot as plt"
   ],
   "metadata": {
    "collapsed": false,
    "ExecuteTime": {
     "end_time": "2024-11-12T07:05:03.675206Z",
     "start_time": "2024-11-12T07:05:02.513306Z"
    }
   },
   "id": "971f8ac71d404a67"
  },
  {
   "cell_type": "code",
   "execution_count": 86,
   "outputs": [
    {
     "data": {
      "text/plain": "                      name                                          thumbnail  \\\n0                    青之壬生浪  https://p2.bahamut.com.tw/B/ACG/c/23/000013552...   \n1                   香蕉喵遊世界  https://p2.bahamut.com.tw/B/ACG/c/00/000014150...   \n2           平凡職業造就世界最強 第三季  https://p2.bahamut.com.tw/B/ACG/c/96/000012709...   \n3  香格里拉・開拓異境～糞作獵手挑戰神作～ 第二季  https://p2.bahamut.com.tw/B/ACG/c/12/000013861...   \n4                  魔王 2099  https://p2.bahamut.com.tw/B/ACG/c/43/000013124...   \n\n   total_view  total_episode       avg_view  \\\n0     23000.0              3    7666.666667   \n1     16000.0              4    4000.000000   \n2    301000.0              3  100333.333333   \n3    492000.0              4  123000.000000   \n4    220000.0              4   55000.000000   \n\n                                              link  score  score_count  \\\n0  https://ani.gamer.com.tw/animeRef.php?sn=113677    4.8        285.0   \n1  https://ani.gamer.com.tw/animeRef.php?sn=113633    4.6        124.0   \n2  https://ani.gamer.com.tw/animeRef.php?sn=113635    4.9       3575.0   \n3  https://ani.gamer.com.tw/animeRef.php?sn=113665    5.0       5647.0   \n4  https://ani.gamer.com.tw/animeRef.php?sn=113662    4.9       2779.0   \n\n  first_launched_date    author   director    agent  \\\n0          2024-10-19      安田剛士      羽原久美子       曼迪   \n1          2024-10-14     Q-LiA        矢立恭  Ani-One   \n2          2024-10-14       白米良        岩永彰      木棉花   \n3          2024-10-13  硬梨菜、不二涼介  窪岡俊之、池下博紀      木棉花   \n4          2024-10-13       紫大悟        安藤良      木棉花   \n\n                           animator                            types  \n0                         MAHO FILM               ['青春', '勵志', '歷史']  \n1  TMS Entertainment（第6工作室）×Lesprit      ['溫馨', '悠閒', '泡麵番', '闔家觀賞']  \n2                           asread.  ['動作', '冒險', '奇幻', '異世界', '魔法']  \n3                               C2C               ['動作', '冒險', '奇幻']  \n4                         J.C.STAFF   ['動作', '奇幻', '魔法', '科幻', '職場']  ",
      "text/html": "<div>\n<style scoped>\n    .dataframe tbody tr th:only-of-type {\n        vertical-align: middle;\n    }\n\n    .dataframe tbody tr th {\n        vertical-align: top;\n    }\n\n    .dataframe thead th {\n        text-align: right;\n    }\n</style>\n<table border=\"1\" class=\"dataframe\">\n  <thead>\n    <tr style=\"text-align: right;\">\n      <th></th>\n      <th>name</th>\n      <th>thumbnail</th>\n      <th>total_view</th>\n      <th>total_episode</th>\n      <th>avg_view</th>\n      <th>link</th>\n      <th>score</th>\n      <th>score_count</th>\n      <th>first_launched_date</th>\n      <th>author</th>\n      <th>director</th>\n      <th>agent</th>\n      <th>animator</th>\n      <th>types</th>\n    </tr>\n  </thead>\n  <tbody>\n    <tr>\n      <th>0</th>\n      <td>青之壬生浪</td>\n      <td>https://p2.bahamut.com.tw/B/ACG/c/23/000013552...</td>\n      <td>23000.0</td>\n      <td>3</td>\n      <td>7666.666667</td>\n      <td>https://ani.gamer.com.tw/animeRef.php?sn=113677</td>\n      <td>4.8</td>\n      <td>285.0</td>\n      <td>2024-10-19</td>\n      <td>安田剛士</td>\n      <td>羽原久美子</td>\n      <td>曼迪</td>\n      <td>MAHO FILM</td>\n      <td>['青春', '勵志', '歷史']</td>\n    </tr>\n    <tr>\n      <th>1</th>\n      <td>香蕉喵遊世界</td>\n      <td>https://p2.bahamut.com.tw/B/ACG/c/00/000014150...</td>\n      <td>16000.0</td>\n      <td>4</td>\n      <td>4000.000000</td>\n      <td>https://ani.gamer.com.tw/animeRef.php?sn=113633</td>\n      <td>4.6</td>\n      <td>124.0</td>\n      <td>2024-10-14</td>\n      <td>Q-LiA</td>\n      <td>矢立恭</td>\n      <td>Ani-One</td>\n      <td>TMS Entertainment（第6工作室）×Lesprit</td>\n      <td>['溫馨', '悠閒', '泡麵番', '闔家觀賞']</td>\n    </tr>\n    <tr>\n      <th>2</th>\n      <td>平凡職業造就世界最強 第三季</td>\n      <td>https://p2.bahamut.com.tw/B/ACG/c/96/000012709...</td>\n      <td>301000.0</td>\n      <td>3</td>\n      <td>100333.333333</td>\n      <td>https://ani.gamer.com.tw/animeRef.php?sn=113635</td>\n      <td>4.9</td>\n      <td>3575.0</td>\n      <td>2024-10-14</td>\n      <td>白米良</td>\n      <td>岩永彰</td>\n      <td>木棉花</td>\n      <td>asread.</td>\n      <td>['動作', '冒險', '奇幻', '異世界', '魔法']</td>\n    </tr>\n    <tr>\n      <th>3</th>\n      <td>香格里拉・開拓異境～糞作獵手挑戰神作～ 第二季</td>\n      <td>https://p2.bahamut.com.tw/B/ACG/c/12/000013861...</td>\n      <td>492000.0</td>\n      <td>4</td>\n      <td>123000.000000</td>\n      <td>https://ani.gamer.com.tw/animeRef.php?sn=113665</td>\n      <td>5.0</td>\n      <td>5647.0</td>\n      <td>2024-10-13</td>\n      <td>硬梨菜、不二涼介</td>\n      <td>窪岡俊之、池下博紀</td>\n      <td>木棉花</td>\n      <td>C2C</td>\n      <td>['動作', '冒險', '奇幻']</td>\n    </tr>\n    <tr>\n      <th>4</th>\n      <td>魔王 2099</td>\n      <td>https://p2.bahamut.com.tw/B/ACG/c/43/000013124...</td>\n      <td>220000.0</td>\n      <td>4</td>\n      <td>55000.000000</td>\n      <td>https://ani.gamer.com.tw/animeRef.php?sn=113662</td>\n      <td>4.9</td>\n      <td>2779.0</td>\n      <td>2024-10-13</td>\n      <td>紫大悟</td>\n      <td>安藤良</td>\n      <td>木棉花</td>\n      <td>J.C.STAFF</td>\n      <td>['動作', '奇幻', '魔法', '科幻', '職場']</td>\n    </tr>\n  </tbody>\n</table>\n</div>"
     },
     "execution_count": 86,
     "metadata": {},
     "output_type": "execute_result"
    }
   ],
   "source": [
    "df_anime = pd.read_csv('data/all_anime.csv')\n",
    "df_anime.head()"
   ],
   "metadata": {
    "collapsed": false,
    "ExecuteTime": {
     "end_time": "2024-11-12T07:31:22.781312Z",
     "start_time": "2024-11-12T07:31:22.724427Z"
    }
   },
   "id": "637b1ae77c79fea4"
  },
  {
   "cell_type": "code",
   "execution_count": 87,
   "outputs": [],
   "source": [
    "df_anime['first_launched_date'] = pd.to_datetime(df_anime['first_launched_date'])\n",
    "df_anime['first_launched_date'] = df_anime['first_launched_date'].astype(int)"
   ],
   "metadata": {
    "collapsed": false,
    "ExecuteTime": {
     "end_time": "2024-11-12T07:31:23.919590Z",
     "start_time": "2024-11-12T07:31:23.908049Z"
    }
   },
   "id": "9d3fc11368b44429"
  },
  {
   "cell_type": "code",
   "execution_count": 88,
   "outputs": [],
   "source": [
    "df_anime['total_view'] = df_anime['total_view'].fillna(df_anime['total_view'].min())\n",
    "df_anime['score'] = df_anime['score'].fillna(df_anime['score'].min())"
   ],
   "metadata": {
    "collapsed": false,
    "ExecuteTime": {
     "end_time": "2024-11-12T07:31:26.798783Z",
     "start_time": "2024-11-12T07:31:26.784788Z"
    }
   },
   "id": "f723e77a7de5b894"
  },
  {
   "cell_type": "code",
   "execution_count": 89,
   "outputs": [
    {
     "data": {
      "text/plain": "       scaled_launch    total_view  scaled_score\ncount   1.730000e+03  1.730000e+03  1.730000e+03\nmean    3.285747e-16  1.103011e+06  2.854492e-16\nstd     1.000289e+00  2.289312e+06  1.000289e+00\nmin    -5.421105e+00  1.449000e+03 -5.901117e+00\n25%    -3.356732e-01  5.500000e+04 -2.311613e-01\n50%     3.152282e-01  2.950000e+05  3.003970e-01\n75%     7.081750e-01  1.146500e+06  6.547692e-01\nmax     1.039591e+00  3.224500e+07  8.319553e-01",
      "text/html": "<div>\n<style scoped>\n    .dataframe tbody tr th:only-of-type {\n        vertical-align: middle;\n    }\n\n    .dataframe tbody tr th {\n        vertical-align: top;\n    }\n\n    .dataframe thead th {\n        text-align: right;\n    }\n</style>\n<table border=\"1\" class=\"dataframe\">\n  <thead>\n    <tr style=\"text-align: right;\">\n      <th></th>\n      <th>scaled_launch</th>\n      <th>total_view</th>\n      <th>scaled_score</th>\n    </tr>\n  </thead>\n  <tbody>\n    <tr>\n      <th>count</th>\n      <td>1.730000e+03</td>\n      <td>1.730000e+03</td>\n      <td>1.730000e+03</td>\n    </tr>\n    <tr>\n      <th>mean</th>\n      <td>3.285747e-16</td>\n      <td>1.103011e+06</td>\n      <td>2.854492e-16</td>\n    </tr>\n    <tr>\n      <th>std</th>\n      <td>1.000289e+00</td>\n      <td>2.289312e+06</td>\n      <td>1.000289e+00</td>\n    </tr>\n    <tr>\n      <th>min</th>\n      <td>-5.421105e+00</td>\n      <td>1.449000e+03</td>\n      <td>-5.901117e+00</td>\n    </tr>\n    <tr>\n      <th>25%</th>\n      <td>-3.356732e-01</td>\n      <td>5.500000e+04</td>\n      <td>-2.311613e-01</td>\n    </tr>\n    <tr>\n      <th>50%</th>\n      <td>3.152282e-01</td>\n      <td>2.950000e+05</td>\n      <td>3.003970e-01</td>\n    </tr>\n    <tr>\n      <th>75%</th>\n      <td>7.081750e-01</td>\n      <td>1.146500e+06</td>\n      <td>6.547692e-01</td>\n    </tr>\n    <tr>\n      <th>max</th>\n      <td>1.039591e+00</td>\n      <td>3.224500e+07</td>\n      <td>8.319553e-01</td>\n    </tr>\n  </tbody>\n</table>\n</div>"
     },
     "execution_count": 89,
     "metadata": {},
     "output_type": "execute_result"
    }
   ],
   "source": [
    "scaler = StandardScaler()\n",
    "df_anime[['scaled_launch', 'scaled_score']] = (\n",
    "    scaler.fit_transform(df_anime[['first_launched_date', 'score']]))\n",
    "df_anime[['scaled_launch', 'total_view', 'scaled_score']].describe()"
   ],
   "metadata": {
    "collapsed": false,
    "ExecuteTime": {
     "end_time": "2024-11-12T07:31:28.240531Z",
     "start_time": "2024-11-12T07:31:28.229099Z"
    }
   },
   "id": "2c91732527f5104f"
  },
  {
   "cell_type": "code",
   "execution_count": 90,
   "outputs": [
    {
     "data": {
      "text/plain": "<Figure size 640x480 with 1 Axes>",
      "image/png": "[encoded data removed]"
     },
     "metadata": {},
     "output_type": "display_data"
    }
   ],
   "source": [
    "plt.hist(np.exp(df_anime['scaled_score']))\n",
    "plt.show()"
   ],
   "metadata": {
    "collapsed": false,
    "ExecuteTime": {
     "end_time": "2024-11-12T07:31:34.918812Z",
     "start_time": "2024-11-12T07:31:34.864938Z"
    }
   },
   "id": "efaf0394d396e6e5"
  },
  {
   "cell_type": "code",
   "execution_count": 91,
   "outputs": [
    {
     "data": {
      "text/plain": "<Figure size 640x480 with 1 Axes>",
      "image/png": "[encoded data removed]"
     },
     "metadata": {},
     "output_type": "display_data"
    }
   ],
   "source": [
    "plt.hist(np.exp(df_anime['scaled_launch']))\n",
    "plt.show()"
   ],
   "metadata": {
    "collapsed": false,
    "ExecuteTime": {
     "end_time": "2024-11-12T07:31:39.319665Z",
     "start_time": "2024-11-12T07:31:39.276520Z"
    }
   },
   "id": "dc3ea7ff620c77ae"
  },
  {
   "cell_type": "code",
   "execution_count": 92,
   "outputs": [
    {
     "data": {
      "text/plain": "<Figure size 640x480 with 1 Axes>",
      "image/png": "[encoded data removed]"
     },
     "metadata": {},
     "output_type": "display_data"
    }
   ],
   "source": [
    "plt.hist(np.log(df_anime['total_view']))\n",
    "plt.show()"
   ],
   "metadata": {
    "collapsed": false,
    "ExecuteTime": {
     "end_time": "2024-11-12T07:31:41.624514Z",
     "start_time": "2024-11-12T07:31:41.566533Z"
    }
   },
   "id": "5a24554ad9ee1bd0"
  },
  {
   "cell_type": "code",
   "execution_count": 93,
   "outputs": [
    {
     "data": {
      "text/plain": "       scaled_launch  scaled_view  scaled_score\ncount    1730.000000  1730.000000   1730.000000\nmean        1.364972    12.430130      1.290792\nstd         0.791470     1.974004      0.610549\nmin         0.004422     7.278629      0.002736\n25%         0.714857    10.915088      0.793611\n50%         1.370572    12.594725      1.350395\n75%         2.030283    13.952224      1.924698\nmax         2.828061    17.288874      2.297807",
      "text/html": "<div>\n<style scoped>\n    .dataframe tbody tr th:only-of-type {\n        vertical-align: middle;\n    }\n\n    .dataframe tbody tr th {\n        vertical-align: top;\n    }\n\n    .dataframe thead th {\n        text-align: right;\n    }\n</style>\n<table border=\"1\" class=\"dataframe\">\n  <thead>\n    <tr style=\"text-align: right;\">\n      <th></th>\n      <th>scaled_launch</th>\n      <th>scaled_view</th>\n      <th>scaled_score</th>\n    </tr>\n  </thead>\n  <tbody>\n    <tr>\n      <th>count</th>\n      <td>1730.000000</td>\n      <td>1730.000000</td>\n      <td>1730.000000</td>\n    </tr>\n    <tr>\n      <th>mean</th>\n      <td>1.364972</td>\n      <td>12.430130</td>\n      <td>1.290792</td>\n    </tr>\n    <tr>\n      <th>std</th>\n      <td>0.791470</td>\n      <td>1.974004</td>\n      <td>0.610549</td>\n    </tr>\n    <tr>\n      <th>min</th>\n      <td>0.004422</td>\n      <td>7.278629</td>\n      <td>0.002736</td>\n    </tr>\n    <tr>\n      <th>25%</th>\n      <td>0.714857</td>\n      <td>10.915088</td>\n      <td>0.793611</td>\n    </tr>\n    <tr>\n      <th>50%</th>\n      <td>1.370572</td>\n      <td>12.594725</td>\n      <td>1.350395</td>\n    </tr>\n    <tr>\n      <th>75%</th>\n      <td>2.030283</td>\n      <td>13.952224</td>\n      <td>1.924698</td>\n    </tr>\n    <tr>\n      <th>max</th>\n      <td>2.828061</td>\n      <td>17.288874</td>\n      <td>2.297807</td>\n    </tr>\n  </tbody>\n</table>\n</div>"
     },
     "execution_count": 93,
     "metadata": {},
     "output_type": "execute_result"
    }
   ],
   "source": [
    "df_anime['scaled_launch'] = np.exp(df_anime['scaled_launch'])\n",
    "df_anime['scaled_score'] = np.exp(df_anime['scaled_score'])\n",
    "df_anime['scaled_view'] = np.log(df_anime['total_view'])\n",
    "df_anime[['scaled_launch', 'scaled_view', 'scaled_score']].describe()"
   ],
   "metadata": {
    "collapsed": false,
    "ExecuteTime": {
     "end_time": "2024-11-12T07:31:53.165822Z",
     "start_time": "2024-11-12T07:31:53.150514Z"
    }
   },
   "id": "dee2c60161ea356"
  },
  {
   "cell_type": "code",
   "execution_count": 94,
   "outputs": [
    {
     "data": {
      "text/plain": "       scaled_launch  scaled_view  scaled_score\ncount    1730.000000  1730.000000   1730.000000\nmean        0.481843     0.514623      0.561227\nstd         0.280302     0.197198      0.266026\nmin         0.000000     0.000000      0.000000\n25%         0.251602     0.363274      0.344597\n50%         0.483826     0.531066      0.587197\n75%         0.717464     0.666677      0.837430\nmax         1.000000     1.000000      1.000000",
      "text/html": "<div>\n<style scoped>\n    .dataframe tbody tr th:only-of-type {\n        vertical-align: middle;\n    }\n\n    .dataframe tbody tr th {\n        vertical-align: top;\n    }\n\n    .dataframe thead th {\n        text-align: right;\n    }\n</style>\n<table border=\"1\" class=\"dataframe\">\n  <thead>\n    <tr style=\"text-align: right;\">\n      <th></th>\n      <th>scaled_launch</th>\n      <th>scaled_view</th>\n      <th>scaled_score</th>\n    </tr>\n  </thead>\n  <tbody>\n    <tr>\n      <th>count</th>\n      <td>1730.000000</td>\n      <td>1730.000000</td>\n      <td>1730.000000</td>\n    </tr>\n    <tr>\n      <th>mean</th>\n      <td>0.481843</td>\n      <td>0.514623</td>\n      <td>0.561227</td>\n    </tr>\n    <tr>\n      <th>std</th>\n      <td>0.280302</td>\n      <td>0.197198</td>\n      <td>0.266026</td>\n    </tr>\n    <tr>\n      <th>min</th>\n      <td>0.000000</td>\n      <td>0.000000</td>\n      <td>0.000000</td>\n    </tr>\n    <tr>\n      <th>25%</th>\n      <td>0.251602</td>\n      <td>0.363274</td>\n      <td>0.344597</td>\n    </tr>\n    <tr>\n      <th>50%</th>\n      <td>0.483826</td>\n      <td>0.531066</td>\n      <td>0.587197</td>\n    </tr>\n    <tr>\n      <th>75%</th>\n      <td>0.717464</td>\n      <td>0.666677</td>\n      <td>0.837430</td>\n    </tr>\n    <tr>\n      <th>max</th>\n      <td>1.000000</td>\n      <td>1.000000</td>\n      <td>1.000000</td>\n    </tr>\n  </tbody>\n</table>\n</div>"
     },
     "execution_count": 94,
     "metadata": {},
     "output_type": "execute_result"
    }
   ],
   "source": [
    "scaler = MinMaxScaler()\n",
    "df_anime[['scaled_launch', 'scaled_view', 'scaled_score']] = scaler.fit_transform(\n",
    "    df_anime[['scaled_launch', 'scaled_view', 'scaled_score']])\n",
    "df_anime[['scaled_launch', 'scaled_view', 'scaled_score']].describe()"
   ],
   "metadata": {
    "collapsed": false,
    "ExecuteTime": {
     "end_time": "2024-11-12T07:33:31.350872Z",
     "start_time": "2024-11-12T07:33:31.325551Z"
    }
   },
   "id": "1b9a10d72c048804"
  },
  {
   "cell_type": "code",
   "execution_count": 99,
   "outputs": [
    {
     "data": {
      "text/plain": "       scaled_launch2  scaled_view2  scaled_score2\ncount     1730.000000   1730.000000    1730.000000\nmean         0.839090      0.034164       0.876437\nstd          0.154827      0.071001       0.148564\nmin          0.000000      0.000000       0.000000\n25%          0.787134      0.001661       0.842105\n50%          0.887882      0.009104       0.921053\n75%          0.948703      0.035513       0.973684\nmax          1.000000      1.000000       1.000000",
      "text/html": "<div>\n<style scoped>\n    .dataframe tbody tr th:only-of-type {\n        vertical-align: middle;\n    }\n\n    .dataframe tbody tr th {\n        vertical-align: top;\n    }\n\n    .dataframe thead th {\n        text-align: right;\n    }\n</style>\n<table border=\"1\" class=\"dataframe\">\n  <thead>\n    <tr style=\"text-align: right;\">\n      <th></th>\n      <th>scaled_launch2</th>\n      <th>scaled_view2</th>\n      <th>scaled_score2</th>\n    </tr>\n  </thead>\n  <tbody>\n    <tr>\n      <th>count</th>\n      <td>1730.000000</td>\n      <td>1730.000000</td>\n      <td>1730.000000</td>\n    </tr>\n    <tr>\n      <th>mean</th>\n      <td>0.839090</td>\n      <td>0.034164</td>\n      <td>0.876437</td>\n    </tr>\n    <tr>\n      <th>std</th>\n      <td>0.154827</td>\n      <td>0.071001</td>\n      <td>0.148564</td>\n    </tr>\n    <tr>\n      <th>min</th>\n      <td>0.000000</td>\n      <td>0.000000</td>\n      <td>0.000000</td>\n    </tr>\n    <tr>\n      <th>25%</th>\n      <td>0.787134</td>\n      <td>0.001661</td>\n      <td>0.842105</td>\n    </tr>\n    <tr>\n      <th>50%</th>\n      <td>0.887882</td>\n      <td>0.009104</td>\n      <td>0.921053</td>\n    </tr>\n    <tr>\n      <th>75%</th>\n      <td>0.948703</td>\n      <td>0.035513</td>\n      <td>0.973684</td>\n    </tr>\n    <tr>\n      <th>max</th>\n      <td>1.000000</td>\n      <td>1.000000</td>\n      <td>1.000000</td>\n    </tr>\n  </tbody>\n</table>\n</div>"
     },
     "execution_count": 99,
     "metadata": {},
     "output_type": "execute_result"
    }
   ],
   "source": [
    "df_anime[['scaled_launch2', 'scaled_view2', 'scaled_score2']] = scaler.fit_transform(\n",
    "    df_anime[['first_launched_date', 'total_view', 'score']])\n",
    "df_anime[['scaled_launch2', 'scaled_view2', 'scaled_score2']].describe()"
   ],
   "metadata": {
    "collapsed": false,
    "ExecuteTime": {
     "end_time": "2024-11-12T07:36:07.325476Z",
     "start_time": "2024-11-12T07:36:07.306948Z"
    }
   },
   "id": "8bc18c5cfeaae3a8"
  },
  {
   "cell_type": "code",
   "execution_count": 100,
   "outputs": [
    {
     "data": {
      "text/plain": "<Figure size 640x480 with 1 Axes>",
      "image/png": "[encoded data removed]"
     },
     "metadata": {},
     "output_type": "display_data"
    }
   ],
   "source": [
    "plt.hist(df_anime['scaled_launch2'])\n",
    "plt.show()"
   ],
   "metadata": {
    "collapsed": false,
    "ExecuteTime": {
     "end_time": "2024-11-12T07:36:12.118715Z",
     "start_time": "2024-11-12T07:36:12.049085Z"
    }
   },
   "id": "c6c5cc5297a81436"
  },
  {
   "cell_type": "code",
   "execution_count": 101,
   "outputs": [
    {
     "data": {
      "text/plain": "<Figure size 640x480 with 1 Axes>",
      "image/png": "[encoded data removed]"
     },
     "metadata": {},
     "output_type": "display_data"
    }
   ],
   "source": [
    "plt.hist(df_anime['scaled_score2'])\n",
    "plt.show()"
   ],
   "metadata": {
    "collapsed": false,
    "ExecuteTime": {
     "end_time": "2024-11-12T07:36:19.843740Z",
     "start_time": "2024-11-12T07:36:19.793543Z"
    }
   },
   "id": "76a57909344788b8"
  },
  {
   "cell_type": "code",
   "execution_count": 102,
   "outputs": [
    {
     "data": {
      "text/plain": "<Figure size 640x480 with 1 Axes>",
      "image/png": "[encoded data removed]"
     },
     "metadata": {},
     "output_type": "display_data"
    }
   ],
   "source": [
    "plt.hist(df_anime['scaled_view2'])\n",
    "plt.show()"
   ],
   "metadata": {
    "collapsed": false,
    "ExecuteTime": {
     "end_time": "2024-11-12T07:36:28.365943Z",
     "start_time": "2024-11-12T07:36:28.320761Z"
    }
   },
   "id": "6afa35febe974c36"
  },
  {
   "cell_type": "code",
   "execution_count": 105,
   "outputs": [
    {
     "data": {
      "text/plain": "<Figure size 640x480 with 1 Axes>",
      "image/png": "[encoded data removed]"
     },
     "metadata": {},
     "output_type": "display_data"
    }
   ],
   "source": [
    "plt.hist(df_anime['total_view'])\n",
    "plt.show()"
   ],
   "metadata": {
    "collapsed": false,
    "ExecuteTime": {
     "end_time": "2024-11-12T07:42:54.819670Z",
     "start_time": "2024-11-12T07:42:54.776813Z"
    }
   },
   "id": "e185f95b37cd3d1c"
  },
  {
   "cell_type": "code",
   "execution_count": null,
   "outputs": [],
   "source": [],
   "metadata": {
    "collapsed": false
   },
   "id": "9d6f9d8c8fd72a3"
  },
  {
   "cell_type": "code",
   "execution_count": 106,
   "outputs": [],
   "source": [
    "# Function to compute Jaccard similarity\n",
    "def jaccard_similarity(set1, set2):\n",
    "    intersection = len(set1.intersection(set2))\n",
    "    union = len(set1.union(set2))\n",
    "    return intersection / union"
   ],
   "metadata": {
    "collapsed": false,
    "ExecuteTime": {
     "end_time": "2024-11-12T07:43:49.982913Z",
     "start_time": "2024-11-12T07:43:49.973216Z"
    }
   },
   "id": "3d8a319fe68ad142"
  },
  {
   "cell_type": "code",
   "execution_count": 107,
   "outputs": [
    {
     "data": {
      "text/plain": "array([[0., 0., 0., ..., 0., 0., 0.],\n       [0., 0., 0., ..., 0., 0., 0.],\n       [0., 0., 0., ..., 0., 0., 0.],\n       ...,\n       [0., 0., 0., ..., 0., 0., 0.],\n       [0., 0., 0., ..., 0., 0., 0.],\n       [0., 0., 0., ..., 0., 0., 0.]])"
     },
     "execution_count": 107,
     "metadata": {},
     "output_type": "execute_result"
    }
   ],
   "source": [
    "# Create an empty list to store the results\n",
    "similarity_matrix = np.zeros((len(df_anime), len(df_anime)))\n",
    "similarity_matrix"
   ],
   "metadata": {
    "collapsed": false,
    "ExecuteTime": {
     "end_time": "2024-11-12T07:43:51.402653Z",
     "start_time": "2024-11-12T07:43:51.394240Z"
    }
   },
   "id": "2449863ebda3265d"
  },
  {
   "cell_type": "code",
   "execution_count": 108,
   "outputs": [],
   "source": [
    "for r in range(len(df_anime)):\n",
    "    for c in range(r + 1):\n",
    "        if r == c:\n",
    "            similarity_matrix[r, c] = float('-inf')\n",
    "        else:\n",
    "            similarity = jaccard_similarity(set(df_anime.iloc[r]['types']), set(df_anime.iloc[c]['types']))\n",
    "            similarity_matrix[r, c] = similarity\n",
    "            similarity_matrix[c, r] = similarity"
   ],
   "metadata": {
    "collapsed": false,
    "ExecuteTime": {
     "end_time": "2024-11-12T07:45:43.228311Z",
     "start_time": "2024-11-12T07:44:44.414852Z"
    }
   },
   "id": "1cfd3e1186a3c7b8"
  },
  {
   "cell_type": "code",
   "execution_count": 109,
   "outputs": [],
   "source": [
    "similarity_df = pd.DataFrame(similarity_matrix, index=df_anime['name'], columns=df_anime['name'])"
   ],
   "metadata": {
    "collapsed": false,
    "ExecuteTime": {
     "end_time": "2024-11-12T07:46:28.974957Z",
     "start_time": "2024-11-12T07:46:28.961543Z"
    }
   },
   "id": "d3d2a88ed210d948"
  },
  {
   "cell_type": "code",
   "execution_count": 166,
   "outputs": [
    {
     "data": {
      "text/plain": "name                  鬼滅之刃 竈門炭治郎 立志篇      咒術迴戰  scaled_launch  scaled_view  \\\nname                                                                         \nBLEACH 死神 千年血戰篇-相剋譚-        1.000000  0.565217       0.994485     0.582164   \nBLEACH 死神 千年血戰篇-訣別譚-        1.000000  0.565217       0.830852     0.724778   \n咒術迴戰 第二季                    0.565217  1.000000       0.830195     0.897972   \n鬼滅之刃 遊郭篇                    1.000000  0.565217       0.660634     0.891440   \nBLEACH 死神 千年血戰篇             1.000000  0.565217       0.746465     0.758238   \n\nname                  scaled_score  main_metic  \nname                                            \nBLEACH 死神 千年血戰篇-相剋譚-       1.00000    0.855072  \nBLEACH 死神 千年血戰篇-訣別譚-       0.83743    0.800883  \n咒術迴戰 第二季                   0.83743    0.800883  \n鬼滅之刃 遊郭篇                   0.83743    0.800883  \nBLEACH 死神 千年血戰篇            0.83743    0.800883  ",
      "text/html": "<div>\n<style scoped>\n    .dataframe tbody tr th:only-of-type {\n        vertical-align: middle;\n    }\n\n    .dataframe tbody tr th {\n        vertical-align: top;\n    }\n\n    .dataframe thead th {\n        text-align: right;\n    }\n</style>\n<table border=\"1\" class=\"dataframe\">\n  <thead>\n    <tr style=\"text-align: right;\">\n      <th>name</th>\n      <th>鬼滅之刃 竈門炭治郎 立志篇</th>\n      <th>咒術迴戰</th>\n      <th>scaled_launch</th>\n      <th>scaled_view</th>\n      <th>scaled_score</th>\n      <th>main_metic</th>\n    </tr>\n    <tr>\n      <th>name</th>\n      <th></th>\n      <th></th>\n      <th></th>\n      <th></th>\n      <th></th>\n      <th></th>\n    </tr>\n  </thead>\n  <tbody>\n    <tr>\n      <th>BLEACH 死神 千年血戰篇-相剋譚-</th>\n      <td>1.000000</td>\n      <td>0.565217</td>\n      <td>0.994485</td>\n      <td>0.582164</td>\n      <td>1.00000</td>\n      <td>0.855072</td>\n    </tr>\n    <tr>\n      <th>BLEACH 死神 千年血戰篇-訣別譚-</th>\n      <td>1.000000</td>\n      <td>0.565217</td>\n      <td>0.830852</td>\n      <td>0.724778</td>\n      <td>0.83743</td>\n      <td>0.800883</td>\n    </tr>\n    <tr>\n      <th>咒術迴戰 第二季</th>\n      <td>0.565217</td>\n      <td>1.000000</td>\n      <td>0.830195</td>\n      <td>0.897972</td>\n      <td>0.83743</td>\n      <td>0.800883</td>\n    </tr>\n    <tr>\n      <th>鬼滅之刃 遊郭篇</th>\n      <td>1.000000</td>\n      <td>0.565217</td>\n      <td>0.660634</td>\n      <td>0.891440</td>\n      <td>0.83743</td>\n      <td>0.800883</td>\n    </tr>\n    <tr>\n      <th>BLEACH 死神 千年血戰篇</th>\n      <td>1.000000</td>\n      <td>0.565217</td>\n      <td>0.746465</td>\n      <td>0.758238</td>\n      <td>0.83743</td>\n      <td>0.800883</td>\n    </tr>\n  </tbody>\n</table>\n</div>"
     },
     "execution_count": 166,
     "metadata": {},
     "output_type": "execute_result"
    }
   ],
   "source": [
    "# Specify the anime for which you want to find the top 5 similar animes\n",
    "target_anime = ['鬼滅之刃 竈門炭治郎 立志篇', '咒術迴戰']\n",
    "parameters = ['scaled_score']\n",
    "\n",
    "# Get the row corresponding to the target anime\n",
    "target_similarities = similarity_df.loc[:, target_anime]\n",
    "\n",
    "scaled_metrics = df_anime.loc[:, ['name', 'scaled_launch', 'scaled_view', 'scaled_score']]\n",
    "scaled_metrics = scaled_metrics.set_index('name')\n",
    "\n",
    "target_similarities.loc[:, ['scaled_launch', 'scaled_view', 'scaled_score']] = scaled_metrics\n",
    "\n",
    "target_similarities['main_metic'] = target_similarities[target_anime + parameters].mean(axis=1)\n",
    "\n",
    "# Exclude the similarity with itself (which is always 1.0)\n",
    "# target_similarities = target_similarities.drop(target_anime)\n",
    "# \n",
    "# Sort the similarities in descending order and get the top 5 most similar animes\n",
    "top_5_similar_animes = target_similarities.sort_values('main_metic', ascending=False).head(5)\n",
    "\n",
    "# Print the top 5 similar animes\n",
    "top_5_similar_animes\n"
   ],
   "metadata": {
    "collapsed": false,
    "ExecuteTime": {
     "end_time": "2024-11-12T08:19:19.225718Z",
     "start_time": "2024-11-12T08:19:19.202634Z"
    }
   },
   "id": "e9ae7af15b64e96f"
  },
  {
   "cell_type": "code",
   "execution_count": 160,
   "outputs": [
    {
     "data": {
      "text/plain": "name                        進擊的巨人      咒術迴戰\nname                                       \n青之壬生浪                    0.238095  0.185185\n香蕉喵遊世界                   0.192308  0.156250\n平凡職業造就世界最強 第三季           0.409091  0.370370\n香格里拉・開拓異境～糞作獵手挑戰神作～ 第二季  0.529412  0.391304\n魔王 2099                  0.318182  0.346154\n...                           ...       ...\n城市獵人 2                   0.411765  0.304348\n妙手小廚師                    0.217391  0.172414\n妖獸都市 1987 劇場版            0.368421  0.523810\n城市獵人                     0.411765  0.304348\n魯邦三世 卡里奧斯特羅城             0.411765  0.304348\n\n[1730 rows x 2 columns]",
      "text/html": "<div>\n<style scoped>\n    .dataframe tbody tr th:only-of-type {\n        vertical-align: middle;\n    }\n\n    .dataframe tbody tr th {\n        vertical-align: top;\n    }\n\n    .dataframe thead th {\n        text-align: right;\n    }\n</style>\n<table border=\"1\" class=\"dataframe\">\n  <thead>\n    <tr style=\"text-align: right;\">\n      <th>name</th>\n      <th>進擊的巨人</th>\n      <th>咒術迴戰</th>\n    </tr>\n    <tr>\n      <th>name</th>\n      <th></th>\n      <th></th>\n    </tr>\n  </thead>\n  <tbody>\n    <tr>\n      <th>青之壬生浪</th>\n      <td>0.238095</td>\n      <td>0.185185</td>\n    </tr>\n    <tr>\n      <th>香蕉喵遊世界</th>\n      <td>0.192308</td>\n      <td>0.156250</td>\n    </tr>\n    <tr>\n      <th>平凡職業造就世界最強 第三季</th>\n      <td>0.409091</td>\n      <td>0.370370</td>\n    </tr>\n    <tr>\n      <th>香格里拉・開拓異境～糞作獵手挑戰神作～ 第二季</th>\n      <td>0.529412</td>\n      <td>0.391304</td>\n    </tr>\n    <tr>\n      <th>魔王 2099</th>\n      <td>0.318182</td>\n      <td>0.346154</td>\n    </tr>\n    <tr>\n      <th>...</th>\n      <td>...</td>\n      <td>...</td>\n    </tr>\n    <tr>\n      <th>城市獵人 2</th>\n      <td>0.411765</td>\n      <td>0.304348</td>\n    </tr>\n    <tr>\n      <th>妙手小廚師</th>\n      <td>0.217391</td>\n      <td>0.172414</td>\n    </tr>\n    <tr>\n      <th>妖獸都市 1987 劇場版</th>\n      <td>0.368421</td>\n      <td>0.523810</td>\n    </tr>\n    <tr>\n      <th>城市獵人</th>\n      <td>0.411765</td>\n      <td>0.304348</td>\n    </tr>\n    <tr>\n      <th>魯邦三世 卡里奧斯特羅城</th>\n      <td>0.411765</td>\n      <td>0.304348</td>\n    </tr>\n  </tbody>\n</table>\n<p>1730 rows × 2 columns</p>\n</div>"
     },
     "execution_count": 160,
     "metadata": {},
     "output_type": "execute_result"
    }
   ],
   "source": [
    "similarity_df[target_anime]"
   ],
   "metadata": {
    "collapsed": false,
    "ExecuteTime": {
     "end_time": "2024-11-12T08:17:09.405801Z",
     "start_time": "2024-11-12T08:17:09.387659Z"
    }
   },
   "id": "34c256e5922bfa16"
  },
  {
   "cell_type": "code",
   "execution_count": 142,
   "outputs": [
    {
     "data": {
      "text/plain": "                         和山田談場 Lv999 的戀愛     妙廟美少女\nname                                              \n青之壬生浪                           0.333333  0.333333\n香蕉喵遊世界                          0.250000  0.250000\n平凡職業造就世界最強 第三季                  0.250000  0.250000\n香格里拉・開拓異境～糞作獵手挑戰神作～ 第二季         0.333333  0.333333\n魔王 2099                         0.277778  0.277778\n...                                  ...       ...\n城市獵人 2                          0.636364  0.636364\n妙手小廚師                           0.294118  0.294118\n妖獸都市 1987 劇場版                   0.333333  0.333333\n城市獵人                            0.636364  0.636364\n魯邦三世 卡里奧斯特羅城                    0.384615  0.384615\n\n[1730 rows x 2 columns]",
      "text/html": "<div>\n<style scoped>\n    .dataframe tbody tr th:only-of-type {\n        vertical-align: middle;\n    }\n\n    .dataframe tbody tr th {\n        vertical-align: top;\n    }\n\n    .dataframe thead th {\n        text-align: right;\n    }\n</style>\n<table border=\"1\" class=\"dataframe\">\n  <thead>\n    <tr style=\"text-align: right;\">\n      <th></th>\n      <th>和山田談場 Lv999 的戀愛</th>\n      <th>妙廟美少女</th>\n    </tr>\n    <tr>\n      <th>name</th>\n      <th></th>\n      <th></th>\n    </tr>\n  </thead>\n  <tbody>\n    <tr>\n      <th>青之壬生浪</th>\n      <td>0.333333</td>\n      <td>0.333333</td>\n    </tr>\n    <tr>\n      <th>香蕉喵遊世界</th>\n      <td>0.250000</td>\n      <td>0.250000</td>\n    </tr>\n    <tr>\n      <th>平凡職業造就世界最強 第三季</th>\n      <td>0.250000</td>\n      <td>0.250000</td>\n    </tr>\n    <tr>\n      <th>香格里拉・開拓異境～糞作獵手挑戰神作～ 第二季</th>\n      <td>0.333333</td>\n      <td>0.333333</td>\n    </tr>\n    <tr>\n      <th>魔王 2099</th>\n      <td>0.277778</td>\n      <td>0.277778</td>\n    </tr>\n    <tr>\n      <th>...</th>\n      <td>...</td>\n      <td>...</td>\n    </tr>\n    <tr>\n      <th>城市獵人 2</th>\n      <td>0.636364</td>\n      <td>0.636364</td>\n    </tr>\n    <tr>\n      <th>妙手小廚師</th>\n      <td>0.294118</td>\n      <td>0.294118</td>\n    </tr>\n    <tr>\n      <th>妖獸都市 1987 劇場版</th>\n      <td>0.333333</td>\n      <td>0.333333</td>\n    </tr>\n    <tr>\n      <th>城市獵人</th>\n      <td>0.636364</td>\n      <td>0.636364</td>\n    </tr>\n    <tr>\n      <th>魯邦三世 卡里奧斯特羅城</th>\n      <td>0.384615</td>\n      <td>0.384615</td>\n    </tr>\n  </tbody>\n</table>\n<p>1730 rows × 2 columns</p>\n</div>"
     },
     "execution_count": 142,
     "metadata": {},
     "output_type": "execute_result"
    }
   ],
   "source": [
    "pd.DataFrame(similarity_matrix[:, target_index],\n",
    "             index=df_anime['name'], columns=target_anime)"
   ],
   "metadata": {
    "collapsed": false,
    "ExecuteTime": {
     "end_time": "2024-11-12T08:05:21.707344Z",
     "start_time": "2024-11-12T08:05:21.702171Z"
    }
   },
   "id": "323aa436bc2dc01b"
  },
  {
   "cell_type": "code",
   "execution_count": null,
   "outputs": [],
   "source": [
    "top_5_similar_animes"
   ],
   "metadata": {
    "collapsed": false
   },
   "id": "410ee39a81dd2f43"
  },
  {
   "cell_type": "code",
   "execution_count": null,
   "outputs": [],
   "source": [
    "df_anime[df_anime['name'] == '格萊普尼爾']"
   ],
   "metadata": {
    "collapsed": false
   },
   "id": "68a91b851b0a92fc"
  },
  {
   "cell_type": "code",
   "execution_count": null,
   "outputs": [],
   "source": [
    "df_anime['first_launched_date'] = pd.to_datetime(df_anime['first_launched_date'])"
   ],
   "metadata": {
    "collapsed": false
   },
   "id": "ddc895e5b4513a92"
  },
  {
   "cell_type": "code",
   "execution_count": null,
   "outputs": [],
   "source": [
    "df_anime['first_launched_date'].astype(int)"
   ],
   "metadata": {
    "collapsed": false
   },
   "id": "3150aabb591be1b6"
  }
 ],
 "metadata": {
  "kernelspec": {
   "display_name": "Python 3",
   "language": "python",
   "name": "python3"
  },
  "language_info": {
   "codemirror_mode": {
    "name": "ipython",
    "version": 2
   },
   "file_extension": ".py",
   "mimetype": "text/x-python",
   "name": "python",
   "nbconvert_exporter": "python",
   "pygments_lexer": "ipython2",
   "version": "2.7.6"
  }
 },
 "nbformat": 4,
 "nbformat_minor": 5
}
