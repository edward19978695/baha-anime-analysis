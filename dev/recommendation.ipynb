{
 "cells": [
  {
   "cell_type": "code",
   "execution_count": 1,
   "id": "initial_id",
   "metadata": {
    "collapsed": true,
    "ExecuteTime": {
     "end_time": "2024-11-12T10:26:13.316083Z",
     "start_time": "2024-11-12T10:26:13.241419Z"
    }
   },
   "outputs": [
    {
     "data": {
      "text/plain": "'/Users/edwardchiu/Desktop/projects/baha-anime-analysis'"
     },
     "execution_count": 1,
     "metadata": {},
     "output_type": "execute_result"
    }
   ],
   "source": [
    "import os\n",
    "\n",
    "import numpy as np\n",
    "\n",
    "os.chdir('/Users/edwardchiu/Desktop/projects/baha-anime-analysis')\n",
    "os.getcwd()"
   ]
  },
  {
   "cell_type": "code",
   "execution_count": null,
   "outputs": [],
   "source": [
    "import pandas as pd\n",
    "import numpy as np\n",
    "from sklearn.preprocessing import MinMaxScaler, StandardScaler, RobustScaler\n",
    "import matplotlib.pyplot as plt\n",
    "import ast\n"
   ],
   "metadata": {
    "collapsed": false
   },
   "id": "971f8ac71d404a67"
  },
  {
   "cell_type": "code",
   "execution_count": null,
   "outputs": [],
   "source": [
    "df_anime = pd.read_csv('data/all_anime.csv')\n",
    "df_anime.head()"
   ],
   "metadata": {
    "collapsed": false
   },
   "id": "637b1ae77c79fea4"
  },
  {
   "cell_type": "code",
   "execution_count": null,
   "outputs": [],
   "source": [
    "df_anime['types'] = df_anime['types'].apply(ast.literal_eval)"
   ],
   "metadata": {
    "collapsed": false
   },
   "id": "1b78beae2e9e235d"
  },
  {
   "cell_type": "code",
   "execution_count": null,
   "outputs": [],
   "source": [
    "df_anime['first_launched_date'] = pd.to_datetime(df_anime['first_launched_date'])\n",
    "df_anime['first_launched_date'] = df_anime['first_launched_date'].astype(int)"
   ],
   "metadata": {
    "collapsed": false
   },
   "id": "9d3fc11368b44429"
  },
  {
   "cell_type": "code",
   "execution_count": null,
   "outputs": [],
   "source": [
    "df_anime['total_view'] = df_anime['total_view'].fillna(df_anime['total_view'].min())\n",
    "df_anime['score'] = df_anime['score'].fillna(df_anime['score'].min())"
   ],
   "metadata": {
    "collapsed": false
   },
   "id": "f723e77a7de5b894"
  },
  {
   "cell_type": "code",
   "execution_count": null,
   "outputs": [],
   "source": [
    "scaler = StandardScaler()\n",
    "df_anime[['scaled_launch', 'scaled_score']] = (\n",
    "    scaler.fit_transform(df_anime[['first_launched_date', 'score']]))\n",
    "df_anime[['scaled_launch', 'total_view', 'scaled_score']].describe()"
   ],
   "metadata": {
    "collapsed": false
   },
   "id": "2c91732527f5104f"
  },
  {
   "cell_type": "code",
   "execution_count": null,
   "outputs": [],
   "source": [
    "plt.hist(np.exp(df_anime['scaled_score']))\n",
    "plt.show()"
   ],
   "metadata": {
    "collapsed": false
   },
   "id": "efaf0394d396e6e5"
  },
  {
   "cell_type": "code",
   "execution_count": null,
   "outputs": [],
   "source": [
    "plt.hist(np.exp(df_anime['scaled_launch']))\n",
    "plt.show()"
   ],
   "metadata": {
    "collapsed": false
   },
   "id": "dc3ea7ff620c77ae"
  },
  {
   "cell_type": "code",
   "execution_count": null,
   "outputs": [],
   "source": [
    "plt.hist(np.log(df_anime['total_view']))\n",
    "plt.show()"
   ],
   "metadata": {
    "collapsed": false
   },
   "id": "5a24554ad9ee1bd0"
  },
  {
   "cell_type": "code",
   "execution_count": null,
   "outputs": [],
   "source": [
    "df_anime['scaled_launch'] = np.exp(df_anime['scaled_launch'])\n",
    "df_anime['scaled_score'] = np.exp(df_anime['scaled_score'])\n",
    "df_anime['scaled_view'] = np.log(df_anime['total_view'])\n",
    "df_anime[['scaled_launch', 'scaled_view', 'scaled_score']].describe()"
   ],
   "metadata": {
    "collapsed": false
   },
   "id": "dee2c60161ea356"
  },
  {
   "cell_type": "code",
   "execution_count": null,
   "outputs": [],
   "source": [
    "scaler = MinMaxScaler()\n",
    "df_anime[['scaled_launch', 'scaled_view', 'scaled_score']] = scaler.fit_transform(\n",
    "    df_anime[['scaled_launch', 'scaled_view', 'scaled_score']])\n",
    "df_anime[['scaled_launch', 'scaled_view', 'scaled_score']].describe()"
   ],
   "metadata": {
    "collapsed": false
   },
   "id": "1b9a10d72c048804"
  },
  {
   "cell_type": "code",
   "execution_count": null,
   "outputs": [],
   "source": [
    "df_anime[['scaled_launch2', 'scaled_view2', 'scaled_score2']] = scaler.fit_transform(\n",
    "    df_anime[['first_launched_date', 'total_view', 'score']])\n",
    "df_anime[['scaled_launch2', 'scaled_view2', 'scaled_score2']].describe()"
   ],
   "metadata": {
    "collapsed": false
   },
   "id": "8bc18c5cfeaae3a8"
  },
  {
   "cell_type": "code",
   "execution_count": null,
   "outputs": [],
   "source": [
    "plt.hist(df_anime['scaled_launch2'])\n",
    "plt.show()"
   ],
   "metadata": {
    "collapsed": false
   },
   "id": "c6c5cc5297a81436"
  },
  {
   "cell_type": "code",
   "execution_count": null,
   "outputs": [],
   "source": [
    "plt.hist(df_anime['scaled_score2'])\n",
    "plt.show()"
   ],
   "metadata": {
    "collapsed": false
   },
   "id": "76a57909344788b8"
  },
  {
   "cell_type": "code",
   "execution_count": null,
   "outputs": [],
   "source": [
    "plt.hist(df_anime['scaled_view2'])\n",
    "plt.show()"
   ],
   "metadata": {
    "collapsed": false
   },
   "id": "6afa35febe974c36"
  },
  {
   "cell_type": "code",
   "execution_count": null,
   "outputs": [],
   "source": [
    "plt.hist(df_anime['total_view'])\n",
    "plt.show()"
   ],
   "metadata": {
    "collapsed": false
   },
   "id": "e185f95b37cd3d1c"
  },
  {
   "cell_type": "code",
   "execution_count": null,
   "outputs": [],
   "source": [],
   "metadata": {
    "collapsed": false
   },
   "id": "9d6f9d8c8fd72a3"
  },
  {
   "cell_type": "code",
   "execution_count": null,
   "outputs": [],
   "source": [
    "# Function to compute Jaccard similarity\n",
    "def jaccard_similarity(set1, set2):\n",
    "    intersection = len(set1.intersection(set2))\n",
    "    union = len(set1.union(set2))\n",
    "    return intersection / union"
   ],
   "metadata": {
    "collapsed": false
   },
   "id": "3d8a319fe68ad142"
  },
  {
   "cell_type": "code",
   "execution_count": null,
   "outputs": [],
   "source": [
    "# Create an empty list to store the results\n",
    "similarity_matrix = np.zeros((len(df_anime), len(df_anime)))\n",
    "similarity_matrix"
   ],
   "metadata": {
    "collapsed": false
   },
   "id": "2449863ebda3265d"
  },
  {
   "cell_type": "code",
   "execution_count": null,
   "outputs": [],
   "source": [
    "for r in range(len(df_anime)):\n",
    "    for c in range(r + 1):\n",
    "        if r == c:\n",
    "            similarity_matrix[r, c] = float('-inf')\n",
    "        else:\n",
    "            similarity = jaccard_similarity(set(df_anime.iloc[r]['types']), set(df_anime.iloc[c]['types']))\n",
    "            similarity_matrix[r, c] = similarity\n",
    "            similarity_matrix[c, r] = similarity"
   ],
   "metadata": {
    "collapsed": false
   },
   "id": "1cfd3e1186a3c7b8"
  },
  {
   "cell_type": "code",
   "execution_count": null,
   "outputs": [],
   "source": [
    "similarity_df = pd.DataFrame(similarity_matrix, index=df_anime['name'], columns=df_anime['name'])"
   ],
   "metadata": {
    "collapsed": false
   },
   "id": "d3d2a88ed210d948"
  },
  {
   "cell_type": "code",
   "execution_count": null,
   "outputs": [],
   "source": [
    "# Specify the anime for which you want to find the top 5 similar animes\n",
    "target_anime = ['鬼滅之刃 竈門炭治郎 立志篇', '咒術迴戰']\n",
    "parameters = ['scaled_score']\n",
    "\n",
    "# Get the row corresponding to the target anime\n",
    "target_similarities = similarity_df.loc[:, target_anime]\n",
    "\n",
    "scaled_metrics = df_anime.loc[:, ['name', 'scaled_launch', 'scaled_view', 'scaled_score']]\n",
    "scaled_metrics = scaled_metrics.set_index('name')\n",
    "\n",
    "target_similarities.loc[:, ['scaled_launch', 'scaled_view', 'scaled_score']] = scaled_metrics\n",
    "\n",
    "target_similarities['main_metic'] = target_similarities[target_anime + parameters].mean(axis=1)\n",
    "\n",
    "# Exclude the similarity with itself (which is always 1.0)\n",
    "# target_similarities = target_similarities.drop(target_anime)\n",
    "# \n",
    "# Sort the similarities in descending order and get the top 5 most similar animes\n",
    "top_5_similar_animes = target_similarities.sort_values('main_metic', ascending=False).head(5)\n",
    "\n",
    "# Print the top 5 similar animes\n",
    "top_5_similar_animes\n"
   ],
   "metadata": {
    "collapsed": false
   },
   "id": "e9ae7af15b64e96f"
  },
  {
   "cell_type": "code",
   "execution_count": null,
   "outputs": [],
   "source": [
    "top_5_similar_animes.index"
   ],
   "metadata": {
    "collapsed": false
   },
   "id": "afc5449307d6bcf0"
  },
  {
   "cell_type": "code",
   "execution_count": null,
   "outputs": [],
   "source": [
    "similarity_df[target_anime]"
   ],
   "metadata": {
    "collapsed": false
   },
   "id": "34c256e5922bfa16"
  },
  {
   "cell_type": "code",
   "execution_count": null,
   "outputs": [],
   "source": [
    "pd.DataFrame(similarity_matrix[:, target_index],\n",
    "             index=df_anime['name'], columns=target_anime)"
   ],
   "metadata": {
    "collapsed": false
   },
   "id": "323aa436bc2dc01b"
  },
  {
   "cell_type": "code",
   "execution_count": null,
   "outputs": [],
   "source": [
    "top_5_similar_animes"
   ],
   "metadata": {
    "collapsed": false
   },
   "id": "410ee39a81dd2f43"
  },
  {
   "cell_type": "code",
   "execution_count": null,
   "outputs": [],
   "source": [
    "df_anime[df_anime['name'] == '格萊普尼爾']"
   ],
   "metadata": {
    "collapsed": false
   },
   "id": "68a91b851b0a92fc"
  },
  {
   "cell_type": "code",
   "execution_count": null,
   "outputs": [],
   "source": [
    "df_anime['first_launched_date'] = pd.to_datetime(df_anime['first_launched_date'])"
   ],
   "metadata": {
    "collapsed": false
   },
   "id": "ddc895e5b4513a92"
  },
  {
   "cell_type": "code",
   "execution_count": null,
   "outputs": [],
   "source": [
    "df_anime['first_launched_date'].astype(int)"
   ],
   "metadata": {
    "collapsed": false
   },
   "id": "3150aabb591be1b6"
  },
  {
   "cell_type": "code",
   "execution_count": null,
   "outputs": [],
   "source": [
    "import ast"
   ],
   "metadata": {
    "collapsed": false
   },
   "id": "8b7771f21acc9de"
  },
  {
   "cell_type": "code",
   "execution_count": null,
   "outputs": [],
   "source": [
    "ast.literal_eval(df_anime.iloc[0]['types'])"
   ],
   "metadata": {
    "collapsed": false
   },
   "id": "72988913a6eb2430"
  },
  {
   "cell_type": "code",
   "execution_count": null,
   "outputs": [],
   "source": [
    "df_anime['types'].apply(lambda x: '、'.join(x))"
   ],
   "metadata": {
    "collapsed": false
   },
   "id": "2e208e303fe8340d"
  },
  {
   "cell_type": "code",
   "execution_count": null,
   "outputs": [],
   "source": [],
   "metadata": {
    "collapsed": false
   },
   "id": "8f4c1b491db6e771"
  },
  {
   "cell_type": "code",
   "execution_count": 2,
   "outputs": [],
   "source": [
    "from modules.recommend import AnimeRecommend"
   ],
   "metadata": {
    "collapsed": false,
    "ExecuteTime": {
     "end_time": "2024-11-12T10:26:17.747028Z",
     "start_time": "2024-11-12T10:26:16.992405Z"
    }
   },
   "id": "cdde5ba166e375bd"
  },
  {
   "cell_type": "code",
   "execution_count": 3,
   "outputs": [],
   "source": [
    "ar = AnimeRecommend()"
   ],
   "metadata": {
    "collapsed": false,
    "ExecuteTime": {
     "end_time": "2024-11-12T10:27:07.527751Z",
     "start_time": "2024-11-12T10:26:17.747838Z"
    }
   },
   "id": "83e872d3fa8b416d"
  },
  {
   "cell_type": "code",
   "execution_count": 20,
   "outputs": [],
   "source": [
    "animes = ar.anime_recommend(target_anime=['咒術迴戰'], parameters=['scaled_view'])"
   ],
   "metadata": {
    "collapsed": false,
    "ExecuteTime": {
     "end_time": "2024-11-12T11:04:21.096700Z",
     "start_time": "2024-11-12T11:04:21.070008Z"
    }
   },
   "id": "de9c62ff01c48b78"
  },
  {
   "cell_type": "code",
   "execution_count": 21,
   "outputs": [
    {
     "data": {
      "text/plain": "['=HYPERLINK(\"https://ani.gamer.com.tw/animeRef.php?sn=113281\", \"咒術迴戰 第二季\")',\n '=HYPERLINK(\"https://ani.gamer.com.tw/animeRef.php?sn=98149\", \"鬼滅之刃 竈門炭治郎 立志篇\")',\n '=HYPERLINK(\"https://ani.gamer.com.tw/animeRef.php?sn=113154\", \"我想成為影之強者！\")',\n '=HYPERLINK(\"https://ani.gamer.com.tw/animeRef.php?sn=113513\", \"鬼滅之刃 柱訓練篇\")',\n '=HYPERLINK(\"https://ani.gamer.com.tw/animeRef.php?sn=113370\", \"不死不運\")',\n '=HYPERLINK(\"https://ani.gamer.com.tw/animeRef.php?sn=93384\", \"JOJO 的奇妙冒險 黃金之風\")']"
     },
     "execution_count": 21,
     "metadata": {},
     "output_type": "execute_result"
    }
   ],
   "source": [
    "list(animes[:6])"
   ],
   "metadata": {
    "collapsed": false,
    "ExecuteTime": {
     "end_time": "2024-11-12T11:04:21.715890Z",
     "start_time": "2024-11-12T11:04:21.710890Z"
    }
   },
   "id": "181c57c358a5bcb1"
  },
  {
   "cell_type": "code",
   "execution_count": 22,
   "outputs": [
    {
     "data": {
      "text/plain": "{'spreadsheetId': '1F94CV-TTa628TumABt3DOF_beqJxQTJ-Mjp1nHkWQDE',\n 'updatedRange': \"'Anime Recommendation'!B11:G11\",\n 'updatedRows': 1,\n 'updatedColumns': 6,\n 'updatedCells': 6}"
     },
     "execution_count": 22,
     "metadata": {},
     "output_type": "execute_result"
    }
   ],
   "source": [
    "# Update cells C2:H2 with the first six elements\n",
    "ar.worksheet.update(range_name='B6:G6', values=[list(animes[:6])], raw=False)\n",
    "\n",
    "ar.worksheet.update(range_name='B11:G11', values=[list(animes[6:])], raw=False)"
   ],
   "metadata": {
    "collapsed": false,
    "ExecuteTime": {
     "end_time": "2024-11-12T11:04:26.281630Z",
     "start_time": "2024-11-12T11:04:23.577033Z"
    }
   },
   "id": "78e6e1496937b5d2"
  },
  {
   "cell_type": "code",
   "execution_count": 27,
   "outputs": [
    {
     "data": {
      "text/plain": "['地下城中的人']"
     },
     "execution_count": 27,
     "metadata": {},
     "output_type": "execute_result"
    }
   ],
   "source": [
    "ar.worksheet.get_values('B1:D1')[0]"
   ],
   "metadata": {
    "collapsed": false,
    "ExecuteTime": {
     "end_time": "2024-11-12T12:36:21.239797Z",
     "start_time": "2024-11-12T12:36:20.776050Z"
    }
   },
   "id": "f1c84956760541f2"
  },
  {
   "cell_type": "code",
   "execution_count": 34,
   "outputs": [
    {
     "data": {
      "text/plain": "'新作優先'"
     },
     "execution_count": 34,
     "metadata": {},
     "output_type": "execute_result"
    }
   ],
   "source": [
    "ar.worksheet.get_values('A6')[0][0]"
   ],
   "metadata": {
    "collapsed": false,
    "ExecuteTime": {
     "end_time": "2024-11-12T12:40:32.044389Z",
     "start_time": "2024-11-12T12:40:31.675072Z"
    }
   },
   "id": "1b72d85eee28fd86"
  },
  {
   "cell_type": "code",
   "execution_count": 35,
   "outputs": [
    {
     "data": {
      "text/plain": "{'spreadsheetId': '1F94CV-TTa628TumABt3DOF_beqJxQTJ-Mjp1nHkWQDE',\n 'clearedRanges': [\"'Anime Recommendation'!B6:G6\",\n  \"'Anime Recommendation'!B11:G11\"]}"
     },
     "execution_count": 35,
     "metadata": {},
     "output_type": "execute_result"
    }
   ],
   "source": [
    "ar.worksheet.batch_clear(['B6:G6', 'B11:G11'])"
   ],
   "metadata": {
    "collapsed": false,
    "ExecuteTime": {
     "end_time": "2024-11-12T12:44:52.864903Z",
     "start_time": "2024-11-12T12:44:51.899818Z"
    }
   },
   "id": "e17b4a7e9478197b"
  },
  {
   "cell_type": "code",
   "execution_count": 36,
   "outputs": [],
   "source": [
    "import requests"
   ],
   "metadata": {
    "collapsed": false,
    "ExecuteTime": {
     "end_time": "2024-11-12T13:01:48.185082Z",
     "start_time": "2024-11-12T13:01:48.160882Z"
    }
   },
   "id": "ca9b53dbb6d08adc"
  },
  {
   "cell_type": "code",
   "execution_count": 39,
   "outputs": [],
   "source": [
    "req = requests.get('https://dcd3-118-168-198-171.ngrok-free.app/anime_recommend')"
   ],
   "metadata": {
    "collapsed": false,
    "ExecuteTime": {
     "end_time": "2024-11-12T13:08:07.569555Z",
     "start_time": "2024-11-12T13:07:28.465631Z"
    }
   },
   "id": "1fb468cfecddb8ca"
  },
  {
   "cell_type": "code",
   "execution_count": 41,
   "outputs": [
    {
     "data": {
      "text/plain": "['', '【我推的孩子】']"
     },
     "execution_count": 41,
     "metadata": {},
     "output_type": "execute_result"
    }
   ],
   "source": [
    "ar.worksheet.get_values('B1:D1')[0]"
   ],
   "metadata": {
    "collapsed": false,
    "ExecuteTime": {
     "end_time": "2024-11-12T13:50:08.431706Z",
     "start_time": "2024-11-12T13:50:07.944089Z"
    }
   },
   "id": "3dfe40eebe4e31e9"
  }
 ],
 "metadata": {
  "kernelspec": {
   "display_name": "Python 3",
   "language": "python",
   "name": "python3"
  },
  "language_info": {
   "codemirror_mode": {
    "name": "ipython",
    "version": 2
   },
   "file_extension": ".py",
   "mimetype": "text/x-python",
   "name": "python",
   "nbconvert_exporter": "python",
   "pygments_lexer": "ipython2",
   "version": "2.7.6"
  }
 },
 "nbformat": 4,
 "nbformat_minor": 5
}
