{
 "cells": [
  {
   "cell_type": "code",
   "execution_count": 1,
   "id": "initial_id",
   "metadata": {
    "collapsed": true,
    "ExecuteTime": {
     "end_time": "2024-11-24T07:16:09.293105Z",
     "start_time": "2024-11-24T07:16:09.286725Z"
    }
   },
   "outputs": [
    {
     "data": {
      "text/plain": "'/Users/edwardchiu/Desktop/projects/baha-anime-analysis'"
     },
     "execution_count": 1,
     "metadata": {},
     "output_type": "execute_result"
    }
   ],
   "source": [
    "import os\n",
    "\n",
    "os.chdir('/Users/edwardchiu/Desktop/projects/baha-anime-analysis')\n",
    "os.getcwd()"
   ]
  },
  {
   "cell_type": "code",
   "execution_count": 8,
   "outputs": [],
   "source": [
    "import gspread\n",
    "import gspread.utils\n",
    "from datetime import datetime\n",
    "import pytz\n",
    "from google.oauth2.service_account import Credentials\n",
    "import modules.settings as settings\n",
    "import modules.settings as settings\n",
    "from gspread_formatting import (\n",
    "    get_frozen_row_count,\n",
    "    get_frozen_column_count,\n",
    "    set_frozen,\n",
    "    set_row_height\n",
    ")\n",
    "import pandas as pd"
   ],
   "metadata": {
    "collapsed": false,
    "ExecuteTime": {
     "end_time": "2024-11-24T07:19:33.036274Z",
     "start_time": "2024-11-24T07:19:33.019225Z"
    }
   },
   "id": "8cd3bef5470f60c"
  },
  {
   "cell_type": "code",
   "execution_count": 3,
   "outputs": [],
   "source": [
    "# Authenticate with Google\n",
    "creds = Credentials.from_service_account_file(settings.service_account_file, scopes=settings.scope)\n",
    "client = gspread.authorize(creds)"
   ],
   "metadata": {
    "collapsed": false,
    "ExecuteTime": {
     "end_time": "2024-11-24T07:16:10.786081Z",
     "start_time": "2024-11-24T07:16:10.780139Z"
    }
   },
   "id": "d56c463733e988fa"
  },
  {
   "cell_type": "code",
   "execution_count": 4,
   "outputs": [],
   "source": [
    "# Open the Google Sheet\n",
    "spreadsheet = client.open(settings.sheetname)\n",
    "worksheet = spreadsheet.worksheet(settings.tabnames[1])"
   ],
   "metadata": {
    "collapsed": false,
    "ExecuteTime": {
     "end_time": "2024-11-24T07:16:25.678846Z",
     "start_time": "2024-11-24T07:16:23.564192Z"
    }
   },
   "id": "46345ecef316a6dc"
  },
  {
   "cell_type": "code",
   "execution_count": null,
   "outputs": [],
   "source": [
    "worksheet.update_acell('C1', 'yes!!!')"
   ],
   "metadata": {
    "collapsed": false
   },
   "id": "39a57104fb3c6f79"
  },
  {
   "cell_type": "code",
   "execution_count": null,
   "outputs": [],
   "source": [
    "get_frozen_row_count(worksheet)"
   ],
   "metadata": {
    "collapsed": false
   },
   "id": "63e1c00b11a00373"
  },
  {
   "cell_type": "code",
   "execution_count": null,
   "outputs": [],
   "source": [
    "from gspread_formatting import set_row_heights, set_row_height"
   ],
   "metadata": {
    "collapsed": false
   },
   "id": "756956a29dfaa87f"
  },
  {
   "cell_type": "code",
   "execution_count": null,
   "outputs": [],
   "source": [
    "set_row_height(worksheet, '5:9', 1000)"
   ],
   "metadata": {
    "collapsed": false
   },
   "id": "2031cd51a6ad6b16"
  },
  {
   "cell_type": "code",
   "execution_count": null,
   "outputs": [],
   "source": [
    "get_frozen_column_count(worksheet)"
   ],
   "metadata": {
    "collapsed": false
   },
   "id": "1799826882955217"
  },
  {
   "cell_type": "code",
   "execution_count": 7,
   "outputs": [
    {
     "data": {
      "text/plain": "  anime_name episode_name                                      episode_link  \\\n0      青之壬生浪          [1]  https://ani.gamer.com.tw/animeVideo.php?sn=40525   \n1      青之壬生浪          [2]  https://ani.gamer.com.tw/animeVideo.php?sn=40526   \n2      青之壬生浪          [3]  https://ani.gamer.com.tw/animeVideo.php?sn=40580   \n3      青之壬生浪          [4]  https://ani.gamer.com.tw/animeVideo.php?sn=40614   \n4      青之壬生浪          [5]  https://ani.gamer.com.tw/animeVideo.php?sn=40683   \n\n      uploaded_time     view  comment_count  danmu_count  \n0  2024-10-19 18:00  18000.0             31          134  \n1  2024-10-26 18:00   9411.0             10           61  \n2  2024-11-02 18:00   6432.0              4           26  \n3  2024-11-09 18:00   5217.0              4           27  \n4  2024-11-16 18:00   3919.0              3           21  ",
      "text/html": "<div>\n<style scoped>\n    .dataframe tbody tr th:only-of-type {\n        vertical-align: middle;\n    }\n\n    .dataframe tbody tr th {\n        vertical-align: top;\n    }\n\n    .dataframe thead th {\n        text-align: right;\n    }\n</style>\n<table border=\"1\" class=\"dataframe\">\n  <thead>\n    <tr style=\"text-align: right;\">\n      <th></th>\n      <th>anime_name</th>\n      <th>episode_name</th>\n      <th>episode_link</th>\n      <th>uploaded_time</th>\n      <th>view</th>\n      <th>comment_count</th>\n      <th>danmu_count</th>\n    </tr>\n  </thead>\n  <tbody>\n    <tr>\n      <th>0</th>\n      <td>青之壬生浪</td>\n      <td>[1]</td>\n      <td>https://ani.gamer.com.tw/animeVideo.php?sn=40525</td>\n      <td>2024-10-19 18:00</td>\n      <td>18000.0</td>\n      <td>31</td>\n      <td>134</td>\n    </tr>\n    <tr>\n      <th>1</th>\n      <td>青之壬生浪</td>\n      <td>[2]</td>\n      <td>https://ani.gamer.com.tw/animeVideo.php?sn=40526</td>\n      <td>2024-10-26 18:00</td>\n      <td>9411.0</td>\n      <td>10</td>\n      <td>61</td>\n    </tr>\n    <tr>\n      <th>2</th>\n      <td>青之壬生浪</td>\n      <td>[3]</td>\n      <td>https://ani.gamer.com.tw/animeVideo.php?sn=40580</td>\n      <td>2024-11-02 18:00</td>\n      <td>6432.0</td>\n      <td>4</td>\n      <td>26</td>\n    </tr>\n    <tr>\n      <th>3</th>\n      <td>青之壬生浪</td>\n      <td>[4]</td>\n      <td>https://ani.gamer.com.tw/animeVideo.php?sn=40614</td>\n      <td>2024-11-09 18:00</td>\n      <td>5217.0</td>\n      <td>4</td>\n      <td>27</td>\n    </tr>\n    <tr>\n      <th>4</th>\n      <td>青之壬生浪</td>\n      <td>[5]</td>\n      <td>https://ani.gamer.com.tw/animeVideo.php?sn=40683</td>\n      <td>2024-11-16 18:00</td>\n      <td>3919.0</td>\n      <td>3</td>\n      <td>21</td>\n    </tr>\n  </tbody>\n</table>\n</div>"
     },
     "execution_count": 7,
     "metadata": {},
     "output_type": "execute_result"
    }
   ],
   "source": [
    "df_all_episode = pd.read_csv('data/all_episode.csv')\n",
    "df_all_episode.head()"
   ],
   "metadata": {
    "collapsed": false,
    "ExecuteTime": {
     "end_time": "2024-11-24T07:18:17.553646Z",
     "start_time": "2024-11-24T07:18:17.492324Z"
    }
   },
   "id": "2baa581a22f9fef2"
  },
  {
   "cell_type": "code",
   "execution_count": 9,
   "outputs": [
    {
     "name": "stdout",
     "output_type": "stream",
     "text": [
      "Finish extracting data from web, start import data to spreadsheet...\n"
     ]
    },
    {
     "data": {
      "text/plain": "{'spreadsheetId': '1F94CV-TTa628TumABt3DOF_beqJxQTJ-Mjp1nHkWQDE',\n 'updatedRange': \"'Episode-Level Data'!B1\",\n 'updatedRows': 1,\n 'updatedColumns': 1,\n 'updatedCells': 1}"
     },
     "execution_count": 9,
     "metadata": {},
     "output_type": "execute_result"
    }
   ],
   "source": [
    "df_all_episode = pd.read_csv('data/all_episode.csv')\n",
    "print('Finish extracting data from web, start import data to spreadsheet...')\n",
    "column_names = settings.column_names['episode_level']\n",
    "\n",
    "df_all_episode = df_all_episode.fillna('')\n",
    "\n",
    "\n",
    "# Step 1: Convert all values to string and handle encoding issues\n",
    "def convert_to_utf8(val):\n",
    "    if isinstance(val, str):\n",
    "        return val.encode('utf-8', errors='ignore').decode('utf-8')\n",
    "    return str(val)\n",
    "\n",
    "\n",
    "# Create hyperlink format for Google Sheets\n",
    "def create_hyperlink(name, url):\n",
    "    return f'=HYPERLINK(\"{url}\", \"{name}\")'\n",
    "\n",
    "\n",
    "# Apply the hyperlink function to each row in the DataFrame\n",
    "df_all_episode['episode_name'] = df_all_episode.apply(\n",
    "    lambda row: create_hyperlink(row['episode_name'], row['episode_link']), axis=1)\n",
    "\n",
    "df_all_episode = df_all_episode[list(column_names.keys())]\n",
    "df_all_episode = df_all_episode.map(convert_to_utf8)\n",
    "\n",
    "# worksheet = self.spreadsheet.worksheet(settings.tabnames[1])\n",
    "\n",
    "# Get existing frozen rows\n",
    "# frozen_rows = get_frozen_row_count(worksheet) or 4\n",
    "frozen_rows = 4\n",
    "\n",
    "# Clean sheet\n",
    "worksheet.clear_basic_filter()\n",
    "worksheet.batch_clear(\n",
    "    [f'A4:{gspread.utils.rowcol_to_a1(worksheet.row_count, worksheet.col_count)}'])\n",
    "\n",
    "header = [list(column_names.values())]\n",
    "values = df_all_episode.values.tolist()\n",
    "\n",
    "END = len(header + values) + 3\n",
    "\n",
    "range_end = gspread.utils.rowcol_to_a1(END, len(header[0]))\n",
    "my_range = f'A4:{range_end}'\n",
    "worksheet.batch_clear([my_range])\n",
    "worksheet.update(range_name=my_range, values=header + values, raw=False)\n",
    "if END > frozen_rows:\n",
    "    worksheet.resize(rows=END)\n",
    "\n",
    "# Re-apply existing formats\n",
    "set_frozen(worksheet=worksheet,\n",
    "           rows=frozen_rows)\n",
    "\n",
    "# Add filter\n",
    "worksheet.set_basic_filter(my_range)\n",
    "\n",
    "# Updated time and latest data source file\n",
    "now = datetime.now(pytz.utc).strftime('%Y-%m-%d %H:%M:%S %Z')\n",
    "worksheet.update_acell('B1', now)"
   ],
   "metadata": {
    "collapsed": false,
    "ExecuteTime": {
     "end_time": "2024-11-24T07:20:00.811578Z",
     "start_time": "2024-11-24T07:19:43.898313Z"
    }
   },
   "id": "a0d4d84393ea4bbe"
  },
  {
   "cell_type": "code",
   "execution_count": null,
   "outputs": [],
   "source": [],
   "metadata": {
    "collapsed": false
   },
   "id": "f0c56f1356554e3c"
  }
 ],
 "metadata": {
  "kernelspec": {
   "display_name": "Python 3",
   "language": "python",
   "name": "python3"
  },
  "language_info": {
   "codemirror_mode": {
    "name": "ipython",
    "version": 2
   },
   "file_extension": ".py",
   "mimetype": "text/x-python",
   "name": "python",
   "nbconvert_exporter": "python",
   "pygments_lexer": "ipython2",
   "version": "2.7.6"
  }
 },
 "nbformat": 4,
 "nbformat_minor": 5
}
