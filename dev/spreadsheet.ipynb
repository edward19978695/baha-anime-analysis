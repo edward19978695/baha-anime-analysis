{
 "cells": [
  {
   "cell_type": "code",
   "execution_count": 1,
   "id": "initial_id",
   "metadata": {
    "collapsed": true,
    "ExecuteTime": {
     "end_time": "2024-11-15T11:08:04.629161Z",
     "start_time": "2024-11-15T11:08:04.607353Z"
    }
   },
   "outputs": [
    {
     "data": {
      "text/plain": "'/Users/edwardchiu/Desktop/projects/baha-anime-analysis'"
     },
     "execution_count": 1,
     "metadata": {},
     "output_type": "execute_result"
    }
   ],
   "source": [
    "import os\n",
    "\n",
    "os.chdir('/Users/edwardchiu/Desktop/projects/baha-anime-analysis')\n",
    "os.getcwd()"
   ]
  },
  {
   "cell_type": "code",
   "execution_count": 2,
   "outputs": [],
   "source": [
    "import gspread\n",
    "from google.oauth2.service_account import Credentials\n",
    "import modules.settings as settings"
   ],
   "metadata": {
    "collapsed": false,
    "ExecuteTime": {
     "end_time": "2024-11-15T11:08:05.131664Z",
     "start_time": "2024-11-15T11:08:05.024470Z"
    }
   },
   "id": "8cd3bef5470f60c"
  },
  {
   "cell_type": "code",
   "execution_count": 3,
   "outputs": [],
   "source": [
    "# Authenticate with Google\n",
    "creds = Credentials.from_service_account_file(settings.service_account_file, scopes=settings.scope)\n",
    "client = gspread.authorize(creds)"
   ],
   "metadata": {
    "collapsed": false,
    "ExecuteTime": {
     "end_time": "2024-11-15T11:08:05.598621Z",
     "start_time": "2024-11-15T11:08:05.593476Z"
    }
   },
   "id": "d56c463733e988fa"
  },
  {
   "cell_type": "code",
   "execution_count": 5,
   "outputs": [],
   "source": [
    "# Open the Google Sheet\n",
    "spreadsheet = client.open(\"巴哈動畫分析 / Baha Anime Analysis\")\n",
    "worksheet = spreadsheet.worksheet('Anime-Level Data')"
   ],
   "metadata": {
    "collapsed": false,
    "ExecuteTime": {
     "end_time": "2024-11-15T11:08:28.696212Z",
     "start_time": "2024-11-15T11:08:27.394797Z"
    }
   },
   "id": "46345ecef316a6dc"
  },
  {
   "cell_type": "code",
   "execution_count": 6,
   "outputs": [
    {
     "data": {
      "text/plain": "{'spreadsheetId': '1F94CV-TTa628TumABt3DOF_beqJxQTJ-Mjp1nHkWQDE',\n 'updatedRange': \"'Anime-Level Data'!C1\",\n 'updatedRows': 1,\n 'updatedColumns': 1,\n 'updatedCells': 1}"
     },
     "execution_count": 6,
     "metadata": {},
     "output_type": "execute_result"
    }
   ],
   "source": [
    "worksheet.update_acell('C1', 'yes!!!')"
   ],
   "metadata": {
    "collapsed": false,
    "ExecuteTime": {
     "end_time": "2024-11-15T11:08:48.608573Z",
     "start_time": "2024-11-15T11:08:48.251071Z"
    }
   },
   "id": "39a57104fb3c6f79"
  },
  {
   "cell_type": "code",
   "execution_count": null,
   "outputs": [],
   "source": [
    "from gspread_formatting import set_row_heights, set_row_height"
   ],
   "metadata": {
    "collapsed": false
   },
   "id": "756956a29dfaa87f"
  },
  {
   "cell_type": "code",
   "execution_count": null,
   "outputs": [],
   "source": [
    "set_row_height(worksheet, '5:9', 1000)"
   ],
   "metadata": {
    "collapsed": false
   },
   "id": "2031cd51a6ad6b16"
  },
  {
   "cell_type": "code",
   "execution_count": null,
   "outputs": [],
   "source": [],
   "metadata": {
    "collapsed": false
   },
   "id": "1799826882955217"
  }
 ],
 "metadata": {
  "kernelspec": {
   "display_name": "Python 3",
   "language": "python",
   "name": "python3"
  },
  "language_info": {
   "codemirror_mode": {
    "name": "ipython",
    "version": 2
   },
   "file_extension": ".py",
   "mimetype": "text/x-python",
   "name": "python",
   "nbconvert_exporter": "python",
   "pygments_lexer": "ipython2",
   "version": "2.7.6"
  }
 },
 "nbformat": 4,
 "nbformat_minor": 5
}
